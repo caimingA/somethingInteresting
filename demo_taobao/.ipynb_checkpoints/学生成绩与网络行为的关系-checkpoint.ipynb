{
 "cells": [
  {
   "cell_type": "code",
   "execution_count": 1,
   "metadata": {
    "collapsed": true
   },
   "outputs": [],
   "source": [
    "import numpy as np\n",
    "import pandas as pd\n",
    "import matplotlib.pyplot as plt"
   ]
  },
  {
   "cell_type": "markdown",
   "metadata": {},
   "source": [
    "# 1. 数据读取"
   ]
  },
  {
   "cell_type": "markdown",
   "metadata": {},
   "source": [
    "## 1.1 读取成绩表，学生网络行为表, 学籍表, 学生信息表"
   ]
  },
  {
   "cell_type": "code",
   "execution_count": 2,
   "metadata": {
    "collapsed": true
   },
   "outputs": [],
   "source": [
    "df_score = pd.read_csv('score.csv')\n",
    "df_bnet = pd.read_csv('t_app_online_out.txt',sep=';')\n",
    "df_roll = pd.read_csv('roll.csv')\n",
    "df_std = pd.read_csv('student.csv')"
   ]
  },
  {
   "cell_type": "markdown",
   "metadata": {},
   "source": [
    "# 2. 数据清洗"
   ]
  },
  {
   "cell_type": "markdown",
   "metadata": {},
   "source": [
    "## 2. 1对成绩表进行清洗"
   ]
  },
  {
   "cell_type": "code",
   "execution_count": 3,
   "metadata": {
    "scrolled": true
   },
   "outputs": [
    {
     "data": {
      "text/html": [
       "<div>\n",
       "<style scoped>\n",
       "    .dataframe tbody tr th:only-of-type {\n",
       "        vertical-align: middle;\n",
       "    }\n",
       "\n",
       "    .dataframe tbody tr th {\n",
       "        vertical-align: top;\n",
       "    }\n",
       "\n",
       "    .dataframe thead th {\n",
       "        text-align: right;\n",
       "    }\n",
       "</style>\n",
       "<table border=\"1\" class=\"dataframe\">\n",
       "  <thead>\n",
       "    <tr style=\"text-align: right;\">\n",
       "      <th></th>\n",
       "      <th>学号</th>\n",
       "      <th>学年</th>\n",
       "      <th>学期码</th>\n",
       "      <th>考试日期</th>\n",
       "      <th>课程号</th>\n",
       "      <th>等级成绩</th>\n",
       "      <th>课程成绩</th>\n",
       "      <th>成绩编号</th>\n",
       "      <th>学分</th>\n",
       "      <th>课程属性代码</th>\n",
       "      <th>修读方式代码</th>\n",
       "      <th>课序号</th>\n",
       "      <th>成绩录入方式代码</th>\n",
       "    </tr>\n",
       "  </thead>\n",
       "  <tbody>\n",
       "    <tr>\n",
       "      <th>0</th>\n",
       "      <td>201434063</td>\n",
       "      <td>2017-2018</td>\n",
       "      <td>1</td>\n",
       "      <td>20180114</td>\n",
       "      <td>1110020010</td>\n",
       "      <td>11.0</td>\n",
       "      <td>65.0</td>\n",
       "      <td>1110020010201446033201801142017-20181500ln</td>\n",
       "      <td>3.5</td>\n",
       "      <td>1.0</td>\n",
       "      <td>4.0</td>\n",
       "      <td>500</td>\n",
       "      <td>1</td>\n",
       "    </tr>\n",
       "    <tr>\n",
       "      <th>1</th>\n",
       "      <td>201505099</td>\n",
       "      <td>2017-2018</td>\n",
       "      <td>1</td>\n",
       "      <td>20180114</td>\n",
       "      <td>1110020010</td>\n",
       "      <td>12.0</td>\n",
       "      <td>52.0</td>\n",
       "      <td>1110020010201559009201801142017-20181500ln</td>\n",
       "      <td>3.5</td>\n",
       "      <td>1.0</td>\n",
       "      <td>4.0</td>\n",
       "      <td>500</td>\n",
       "      <td>1</td>\n",
       "    </tr>\n",
       "    <tr>\n",
       "      <th>2</th>\n",
       "      <td>201625067</td>\n",
       "      <td>2016-2017</td>\n",
       "      <td>2</td>\n",
       "      <td>20170625</td>\n",
       "      <td>1020820011</td>\n",
       "      <td>12.0</td>\n",
       "      <td>54.0</td>\n",
       "      <td>1020820011201656027201706252016-20172500ln</td>\n",
       "      <td>2.0</td>\n",
       "      <td>3.0</td>\n",
       "      <td>4.0</td>\n",
       "      <td>500</td>\n",
       "      <td>1</td>\n",
       "    </tr>\n",
       "    <tr>\n",
       "      <th>3</th>\n",
       "      <td>201629056</td>\n",
       "      <td>2017-2018</td>\n",
       "      <td>2</td>\n",
       "      <td>20180701</td>\n",
       "      <td>1120020032</td>\n",
       "      <td>13.0</td>\n",
       "      <td>76.0</td>\n",
       "      <td>1120020032201695026201807012017-20182500ln</td>\n",
       "      <td>5.0</td>\n",
       "      <td>1.0</td>\n",
       "      <td>6.0</td>\n",
       "      <td>500</td>\n",
       "      <td>1</td>\n",
       "    </tr>\n",
       "    <tr>\n",
       "      <th>4</th>\n",
       "      <td>201518039</td>\n",
       "      <td>2017-2018</td>\n",
       "      <td>2</td>\n",
       "      <td>20180701</td>\n",
       "      <td>1110020020</td>\n",
       "      <td>13.0</td>\n",
       "      <td>78.0</td>\n",
       "      <td>1110020020201583019201807012017-20182500ln</td>\n",
       "      <td>3.0</td>\n",
       "      <td>1.0</td>\n",
       "      <td>4.0</td>\n",
       "      <td>500</td>\n",
       "      <td>1</td>\n",
       "    </tr>\n",
       "  </tbody>\n",
       "</table>\n",
       "</div>"
      ],
      "text/plain": [
       "          学号         学年  学期码      考试日期         课程号  等级成绩  课程成绩  \\\n",
       "0  201434063  2017-2018    1  20180114  1110020010  11.0  65.0   \n",
       "1  201505099  2017-2018    1  20180114  1110020010  12.0  52.0   \n",
       "2  201625067  2016-2017    2  20170625  1020820011  12.0  54.0   \n",
       "3  201629056  2017-2018    2  20180701  1120020032  13.0  76.0   \n",
       "4  201518039  2017-2018    2  20180701  1110020020  13.0  78.0   \n",
       "\n",
       "                                         成绩编号   学分  课程属性代码  修读方式代码  课序号  \\\n",
       "0  1110020010201446033201801142017-20181500ln  3.5     1.0     4.0  500   \n",
       "1  1110020010201559009201801142017-20181500ln  3.5     1.0     4.0  500   \n",
       "2  1020820011201656027201706252016-20172500ln  2.0     3.0     4.0  500   \n",
       "3  1120020032201695026201807012017-20182500ln  5.0     1.0     6.0  500   \n",
       "4  1110020020201583019201807012017-20182500ln  3.0     1.0     4.0  500   \n",
       "\n",
       "   成绩录入方式代码  \n",
       "0         1  \n",
       "1         1  \n",
       "2         1  \n",
       "3         1  \n",
       "4         1  "
      ]
     },
     "execution_count": 3,
     "metadata": {},
     "output_type": "execute_result"
    }
   ],
   "source": [
    "df_score.head()"
   ]
  },
  {
   "cell_type": "markdown",
   "metadata": {},
   "source": [
    "### 2.1.1 过滤为必修成绩"
   ]
  },
  {
   "cell_type": "markdown",
   "metadata": {},
   "source": [
    "去除无用特征"
   ]
  },
  {
   "cell_type": "code",
   "execution_count": 4,
   "metadata": {
    "collapsed": true
   },
   "outputs": [],
   "source": [
    "df_score = df_score[['学号','学年','学期码','考试日期','课程成绩','学分','课程属性代码']]"
   ]
  },
  {
   "cell_type": "markdown",
   "metadata": {},
   "source": [
    "课程属性代码为1的是必修成绩"
   ]
  },
  {
   "cell_type": "code",
   "execution_count": 5,
   "metadata": {
    "collapsed": true
   },
   "outputs": [],
   "source": [
    "kccj = df_score[df_score['课程属性代码'] != 1]\n",
    "score_req = df_score.drop(axis = 0,labels = kccj.index)"
   ]
  },
  {
   "cell_type": "code",
   "execution_count": 6,
   "metadata": {
    "collapsed": true
   },
   "outputs": [],
   "source": [
    "score_req.drop(columns=['课程属性代码'],inplace=True,axis=1)"
   ]
  },
  {
   "cell_type": "code",
   "execution_count": 7,
   "metadata": {
    "scrolled": true
   },
   "outputs": [
    {
     "data": {
      "text/html": [
       "<div>\n",
       "<style scoped>\n",
       "    .dataframe tbody tr th:only-of-type {\n",
       "        vertical-align: middle;\n",
       "    }\n",
       "\n",
       "    .dataframe tbody tr th {\n",
       "        vertical-align: top;\n",
       "    }\n",
       "\n",
       "    .dataframe thead th {\n",
       "        text-align: right;\n",
       "    }\n",
       "</style>\n",
       "<table border=\"1\" class=\"dataframe\">\n",
       "  <thead>\n",
       "    <tr style=\"text-align: right;\">\n",
       "      <th></th>\n",
       "      <th>学号</th>\n",
       "      <th>学年</th>\n",
       "      <th>学期码</th>\n",
       "      <th>考试日期</th>\n",
       "      <th>课程成绩</th>\n",
       "      <th>学分</th>\n",
       "    </tr>\n",
       "  </thead>\n",
       "  <tbody>\n",
       "    <tr>\n",
       "      <th>0</th>\n",
       "      <td>201434063</td>\n",
       "      <td>2017-2018</td>\n",
       "      <td>1</td>\n",
       "      <td>20180114</td>\n",
       "      <td>65.0</td>\n",
       "      <td>3.5</td>\n",
       "    </tr>\n",
       "    <tr>\n",
       "      <th>1</th>\n",
       "      <td>201505099</td>\n",
       "      <td>2017-2018</td>\n",
       "      <td>1</td>\n",
       "      <td>20180114</td>\n",
       "      <td>52.0</td>\n",
       "      <td>3.5</td>\n",
       "    </tr>\n",
       "  </tbody>\n",
       "</table>\n",
       "</div>"
      ],
      "text/plain": [
       "          学号         学年  学期码      考试日期  课程成绩   学分\n",
       "0  201434063  2017-2018    1  20180114  65.0  3.5\n",
       "1  201505099  2017-2018    1  20180114  52.0  3.5"
      ]
     },
     "execution_count": 7,
     "metadata": {},
     "output_type": "execute_result"
    }
   ],
   "source": [
    "score_req.head(2)"
   ]
  },
  {
   "cell_type": "code",
   "execution_count": 8,
   "metadata": {},
   "outputs": [
    {
     "name": "stdout",
     "output_type": "stream",
     "text": [
      "<class 'pandas.core.frame.DataFrame'>\n",
      "Int64Index: 1357303 entries, 0 to 1843183\n",
      "Data columns (total 6 columns):\n",
      "学号      1357303 non-null int64\n",
      "学年      1357303 non-null object\n",
      "学期码     1357303 non-null int64\n",
      "考试日期    1357303 non-null int64\n",
      "课程成绩    1357303 non-null float64\n",
      "学分      1357303 non-null float64\n",
      "dtypes: float64(2), int64(3), object(1)\n",
      "memory usage: 72.5+ MB\n"
     ]
    }
   ],
   "source": [
    "score_req.info()"
   ]
  },
  {
   "cell_type": "markdown",
   "metadata": {},
   "source": [
    "### 2.1.2 标准化考试时间时间格式"
   ]
  },
  {
   "cell_type": "code",
   "execution_count": 9,
   "metadata": {
    "scrolled": true
   },
   "outputs": [
    {
     "data": {
      "text/html": [
       "<div>\n",
       "<style scoped>\n",
       "    .dataframe tbody tr th:only-of-type {\n",
       "        vertical-align: middle;\n",
       "    }\n",
       "\n",
       "    .dataframe tbody tr th {\n",
       "        vertical-align: top;\n",
       "    }\n",
       "\n",
       "    .dataframe thead th {\n",
       "        text-align: right;\n",
       "    }\n",
       "</style>\n",
       "<table border=\"1\" class=\"dataframe\">\n",
       "  <thead>\n",
       "    <tr style=\"text-align: right;\">\n",
       "      <th></th>\n",
       "      <th>学号</th>\n",
       "      <th>学年</th>\n",
       "      <th>学期码</th>\n",
       "      <th>考试日期</th>\n",
       "      <th>课程成绩</th>\n",
       "      <th>学分</th>\n",
       "    </tr>\n",
       "  </thead>\n",
       "  <tbody>\n",
       "    <tr>\n",
       "      <th>294453</th>\n",
       "      <td>201424055</td>\n",
       "      <td>2017-2018</td>\n",
       "      <td>2</td>\n",
       "      <td>180701</td>\n",
       "      <td>70.0</td>\n",
       "      <td>15.0</td>\n",
       "    </tr>\n",
       "    <tr>\n",
       "      <th>410544</th>\n",
       "      <td>201445018</td>\n",
       "      <td>2017-2018</td>\n",
       "      <td>3</td>\n",
       "      <td>180729</td>\n",
       "      <td>80.0</td>\n",
       "      <td>3.0</td>\n",
       "    </tr>\n",
       "    <tr>\n",
       "      <th>436355</th>\n",
       "      <td>201710084</td>\n",
       "      <td>2018-2019</td>\n",
       "      <td>1</td>\n",
       "      <td>190119</td>\n",
       "      <td>85.0</td>\n",
       "      <td>2.0</td>\n",
       "    </tr>\n",
       "    <tr>\n",
       "      <th>499422</th>\n",
       "      <td>201506061</td>\n",
       "      <td>2018-2019</td>\n",
       "      <td>1</td>\n",
       "      <td>190119</td>\n",
       "      <td>60.0</td>\n",
       "      <td>0.5</td>\n",
       "    </tr>\n",
       "    <tr>\n",
       "      <th>667471</th>\n",
       "      <td>201526069</td>\n",
       "      <td>2018-2019</td>\n",
       "      <td>1</td>\n",
       "      <td>190119</td>\n",
       "      <td>70.0</td>\n",
       "      <td>0.5</td>\n",
       "    </tr>\n",
       "    <tr>\n",
       "      <th>820998</th>\n",
       "      <td>201740018</td>\n",
       "      <td>2018-2019</td>\n",
       "      <td>1</td>\n",
       "      <td>190119</td>\n",
       "      <td>92.0</td>\n",
       "      <td>0.5</td>\n",
       "    </tr>\n",
       "    <tr>\n",
       "      <th>823004</th>\n",
       "      <td>201454050</td>\n",
       "      <td>2017-2018</td>\n",
       "      <td>3</td>\n",
       "      <td>180701</td>\n",
       "      <td>0.0</td>\n",
       "      <td>0.5</td>\n",
       "    </tr>\n",
       "    <tr>\n",
       "      <th>825615</th>\n",
       "      <td>201740018</td>\n",
       "      <td>2018-2019</td>\n",
       "      <td>1</td>\n",
       "      <td>190119</td>\n",
       "      <td>89.0</td>\n",
       "      <td>1.0</td>\n",
       "    </tr>\n",
       "    <tr>\n",
       "      <th>889976</th>\n",
       "      <td>201406110</td>\n",
       "      <td>2017-2018</td>\n",
       "      <td>3</td>\n",
       "      <td>180729</td>\n",
       "      <td>78.0</td>\n",
       "      <td>3.0</td>\n",
       "    </tr>\n",
       "    <tr>\n",
       "      <th>943048</th>\n",
       "      <td>201536148</td>\n",
       "      <td>2018-2019</td>\n",
       "      <td>1</td>\n",
       "      <td>190119</td>\n",
       "      <td>92.0</td>\n",
       "      <td>2.0</td>\n",
       "    </tr>\n",
       "    <tr>\n",
       "      <th>1006993</th>\n",
       "      <td>201730013</td>\n",
       "      <td>2018-2019</td>\n",
       "      <td>1</td>\n",
       "      <td>190119</td>\n",
       "      <td>94.0</td>\n",
       "      <td>0.5</td>\n",
       "    </tr>\n",
       "    <tr>\n",
       "      <th>1010570</th>\n",
       "      <td>201730013</td>\n",
       "      <td>2018-2019</td>\n",
       "      <td>1</td>\n",
       "      <td>190119</td>\n",
       "      <td>87.0</td>\n",
       "      <td>1.0</td>\n",
       "    </tr>\n",
       "    <tr>\n",
       "      <th>1060588</th>\n",
       "      <td>201586140</td>\n",
       "      <td>2018-2019</td>\n",
       "      <td>1</td>\n",
       "      <td>190119</td>\n",
       "      <td>91.0</td>\n",
       "      <td>2.0</td>\n",
       "    </tr>\n",
       "    <tr>\n",
       "      <th>1182220</th>\n",
       "      <td>201747027</td>\n",
       "      <td>2018-2019</td>\n",
       "      <td>1</td>\n",
       "      <td>190119</td>\n",
       "      <td>75.0</td>\n",
       "      <td>1.0</td>\n",
       "    </tr>\n",
       "    <tr>\n",
       "      <th>1204002</th>\n",
       "      <td>201444013</td>\n",
       "      <td>2017-2018</td>\n",
       "      <td>2</td>\n",
       "      <td>180701</td>\n",
       "      <td>89.0</td>\n",
       "      <td>15.0</td>\n",
       "    </tr>\n",
       "    <tr>\n",
       "      <th>1319113</th>\n",
       "      <td>201405067</td>\n",
       "      <td>2017-2018</td>\n",
       "      <td>3</td>\n",
       "      <td>180729</td>\n",
       "      <td>60.0</td>\n",
       "      <td>1.5</td>\n",
       "    </tr>\n",
       "    <tr>\n",
       "      <th>1336971</th>\n",
       "      <td>201528131</td>\n",
       "      <td>2018-2019</td>\n",
       "      <td>1</td>\n",
       "      <td>190119</td>\n",
       "      <td>77.0</td>\n",
       "      <td>2.0</td>\n",
       "    </tr>\n",
       "    <tr>\n",
       "      <th>1337741</th>\n",
       "      <td>201506061</td>\n",
       "      <td>2018-2019</td>\n",
       "      <td>1</td>\n",
       "      <td>190119</td>\n",
       "      <td>70.0</td>\n",
       "      <td>0.5</td>\n",
       "    </tr>\n",
       "    <tr>\n",
       "      <th>1355534</th>\n",
       "      <td>201516042</td>\n",
       "      <td>2018-2019</td>\n",
       "      <td>1</td>\n",
       "      <td>190119</td>\n",
       "      <td>92.0</td>\n",
       "      <td>2.0</td>\n",
       "    </tr>\n",
       "    <tr>\n",
       "      <th>1356644</th>\n",
       "      <td>201636056</td>\n",
       "      <td>2018-2019</td>\n",
       "      <td>1</td>\n",
       "      <td>190119</td>\n",
       "      <td>90.0</td>\n",
       "      <td>0.5</td>\n",
       "    </tr>\n",
       "    <tr>\n",
       "      <th>1523275</th>\n",
       "      <td>201526069</td>\n",
       "      <td>2018-2019</td>\n",
       "      <td>1</td>\n",
       "      <td>190119</td>\n",
       "      <td>65.0</td>\n",
       "      <td>0.5</td>\n",
       "    </tr>\n",
       "    <tr>\n",
       "      <th>1576662</th>\n",
       "      <td>201620080</td>\n",
       "      <td>2018-2019</td>\n",
       "      <td>1</td>\n",
       "      <td>190119</td>\n",
       "      <td>77.0</td>\n",
       "      <td>2.0</td>\n",
       "    </tr>\n",
       "    <tr>\n",
       "      <th>1621028</th>\n",
       "      <td>201445018</td>\n",
       "      <td>2017-2018</td>\n",
       "      <td>3</td>\n",
       "      <td>180729</td>\n",
       "      <td>76.0</td>\n",
       "      <td>1.5</td>\n",
       "    </tr>\n",
       "    <tr>\n",
       "      <th>1660686</th>\n",
       "      <td>201424117</td>\n",
       "      <td>2017-2018</td>\n",
       "      <td>2</td>\n",
       "      <td>180701</td>\n",
       "      <td>66.0</td>\n",
       "      <td>15.0</td>\n",
       "    </tr>\n",
       "    <tr>\n",
       "      <th>1775676</th>\n",
       "      <td>201555022</td>\n",
       "      <td>2018-2019</td>\n",
       "      <td>1</td>\n",
       "      <td>190119</td>\n",
       "      <td>85.0</td>\n",
       "      <td>1.5</td>\n",
       "    </tr>\n",
       "    <tr>\n",
       "      <th>1779242</th>\n",
       "      <td>201559062</td>\n",
       "      <td>2018-2019</td>\n",
       "      <td>1</td>\n",
       "      <td>190119</td>\n",
       "      <td>77.0</td>\n",
       "      <td>2.0</td>\n",
       "    </tr>\n",
       "    <tr>\n",
       "      <th>1803599</th>\n",
       "      <td>201515024</td>\n",
       "      <td>2018-2019</td>\n",
       "      <td>1</td>\n",
       "      <td>190119</td>\n",
       "      <td>83.0</td>\n",
       "      <td>1.5</td>\n",
       "    </tr>\n",
       "  </tbody>\n",
       "</table>\n",
       "</div>"
      ],
      "text/plain": [
       "                学号         学年  学期码    考试日期  课程成绩    学分\n",
       "294453   201424055  2017-2018    2  180701  70.0  15.0\n",
       "410544   201445018  2017-2018    3  180729  80.0   3.0\n",
       "436355   201710084  2018-2019    1  190119  85.0   2.0\n",
       "499422   201506061  2018-2019    1  190119  60.0   0.5\n",
       "667471   201526069  2018-2019    1  190119  70.0   0.5\n",
       "820998   201740018  2018-2019    1  190119  92.0   0.5\n",
       "823004   201454050  2017-2018    3  180701   0.0   0.5\n",
       "825615   201740018  2018-2019    1  190119  89.0   1.0\n",
       "889976   201406110  2017-2018    3  180729  78.0   3.0\n",
       "943048   201536148  2018-2019    1  190119  92.0   2.0\n",
       "1006993  201730013  2018-2019    1  190119  94.0   0.5\n",
       "1010570  201730013  2018-2019    1  190119  87.0   1.0\n",
       "1060588  201586140  2018-2019    1  190119  91.0   2.0\n",
       "1182220  201747027  2018-2019    1  190119  75.0   1.0\n",
       "1204002  201444013  2017-2018    2  180701  89.0  15.0\n",
       "1319113  201405067  2017-2018    3  180729  60.0   1.5\n",
       "1336971  201528131  2018-2019    1  190119  77.0   2.0\n",
       "1337741  201506061  2018-2019    1  190119  70.0   0.5\n",
       "1355534  201516042  2018-2019    1  190119  92.0   2.0\n",
       "1356644  201636056  2018-2019    1  190119  90.0   0.5\n",
       "1523275  201526069  2018-2019    1  190119  65.0   0.5\n",
       "1576662  201620080  2018-2019    1  190119  77.0   2.0\n",
       "1621028  201445018  2017-2018    3  180729  76.0   1.5\n",
       "1660686  201424117  2017-2018    2  180701  66.0  15.0\n",
       "1775676  201555022  2018-2019    1  190119  85.0   1.5\n",
       "1779242  201559062  2018-2019    1  190119  77.0   2.0\n",
       "1803599  201515024  2018-2019    1  190119  83.0   1.5"
      ]
     },
     "execution_count": 9,
     "metadata": {},
     "output_type": "execute_result"
    }
   ],
   "source": [
    "ksrq = score_req[score_req['考试日期']<200701]\n",
    "ksrq"
   ]
  },
  {
   "cell_type": "code",
   "execution_count": 10,
   "metadata": {
    "collapsed": true
   },
   "outputs": [],
   "source": [
    "for i in ksrq.index:\n",
    "    score_req.loc[i,'考试日期'] = score_req.loc[i,'考试日期'] + 20000000"
   ]
  },
  {
   "cell_type": "markdown",
   "metadata": {},
   "source": [
    "将考试时间先从int转化为str，再转化为datetime格式"
   ]
  },
  {
   "cell_type": "code",
   "execution_count": 11,
   "metadata": {
    "collapsed": true
   },
   "outputs": [],
   "source": [
    "import datetime as dt"
   ]
  },
  {
   "cell_type": "code",
   "execution_count": 12,
   "metadata": {
    "collapsed": true
   },
   "outputs": [],
   "source": [
    "score_req['考试日期'] = score_req['考试日期'].apply(str)"
   ]
  },
  {
   "cell_type": "code",
   "execution_count": 13,
   "metadata": {
    "collapsed": true
   },
   "outputs": [],
   "source": [
    "score_req['考试日期'] = score_req['考试日期'].apply(lambda x:dt.datetime.strptime(x,'%Y%m%d'))"
   ]
  },
  {
   "cell_type": "markdown",
   "metadata": {},
   "source": [
    "### 2.1.3 处理学年异常数据"
   ]
  },
  {
   "cell_type": "markdown",
   "metadata": {},
   "source": [
    "查看学年信息"
   ]
  },
  {
   "cell_type": "code",
   "execution_count": 14,
   "metadata": {
    "scrolled": false
   },
   "outputs": [
    {
     "data": {
      "text/plain": [
       "2017-2018    399468\n",
       "2016-2017    353526\n",
       "2015-2016    263397\n",
       "2018-2019    206169\n",
       "2014-2015    134742\n",
       "2012-2013         1\n",
       "Name: 学年, dtype: int64"
      ]
     },
     "execution_count": 14,
     "metadata": {},
     "output_type": "execute_result"
    }
   ],
   "source": [
    "score_req['学年'].value_counts()"
   ]
  },
  {
   "cell_type": "code",
   "execution_count": 15,
   "metadata": {
    "scrolled": false
   },
   "outputs": [
    {
     "data": {
      "text/html": [
       "<div>\n",
       "<style scoped>\n",
       "    .dataframe tbody tr th:only-of-type {\n",
       "        vertical-align: middle;\n",
       "    }\n",
       "\n",
       "    .dataframe tbody tr th {\n",
       "        vertical-align: top;\n",
       "    }\n",
       "\n",
       "    .dataframe thead th {\n",
       "        text-align: right;\n",
       "    }\n",
       "</style>\n",
       "<table border=\"1\" class=\"dataframe\">\n",
       "  <thead>\n",
       "    <tr style=\"text-align: right;\">\n",
       "      <th></th>\n",
       "      <th>学号</th>\n",
       "      <th>学年</th>\n",
       "      <th>学期码</th>\n",
       "      <th>考试日期</th>\n",
       "      <th>课程成绩</th>\n",
       "      <th>学分</th>\n",
       "    </tr>\n",
       "  </thead>\n",
       "  <tbody>\n",
       "    <tr>\n",
       "      <th>794783</th>\n",
       "      <td>201553047</td>\n",
       "      <td>2012-2013</td>\n",
       "      <td>1</td>\n",
       "      <td>2017-01-15</td>\n",
       "      <td>60.0</td>\n",
       "      <td>3.0</td>\n",
       "    </tr>\n",
       "  </tbody>\n",
       "</table>\n",
       "</div>"
      ],
      "text/plain": [
       "               学号         学年  学期码       考试日期  课程成绩   学分\n",
       "794783  201553047  2012-2013    1 2017-01-15  60.0  3.0"
      ]
     },
     "execution_count": 15,
     "metadata": {},
     "output_type": "execute_result"
    }
   ],
   "source": [
    "score_req[score_req['学年'] == '2012-2013']"
   ]
  },
  {
   "cell_type": "markdown",
   "metadata": {},
   "source": [
    "2015年的学生考试学年为2012-2013，应该是系统问题导致数据错误"
   ]
  },
  {
   "cell_type": "code",
   "execution_count": 16,
   "metadata": {
    "collapsed": true
   },
   "outputs": [],
   "source": [
    "score_req.loc[794783,'学年'] = '2016-2017'"
   ]
  },
  {
   "cell_type": "markdown",
   "metadata": {},
   "source": [
    "### 2.1.4 处理学分为0的情况"
   ]
  },
  {
   "cell_type": "code",
   "execution_count": 17,
   "metadata": {},
   "outputs": [
    {
     "data": {
      "text/plain": [
       "2.0     383565\n",
       "3.0     261659\n",
       "1.0     250839\n",
       "0.5      94529\n",
       "1.5      73337\n",
       "4.0      72844\n",
       "2.5      70371\n",
       "3.5      68282\n",
       "5.0      29637\n",
       "6.0      20695\n",
       "4.5      14312\n",
       "6.5       9135\n",
       "15.0      4968\n",
       "7.5        968\n",
       "0.0        615\n",
       "10.0       454\n",
       "8.0        413\n",
       "5.5        235\n",
       "12.0       180\n",
       "16.0       170\n",
       "14.0        95\n",
       "Name: 学分, dtype: int64"
      ]
     },
     "execution_count": 17,
     "metadata": {},
     "output_type": "execute_result"
    }
   ],
   "source": [
    "score_req['学分'].value_counts()"
   ]
  },
  {
   "cell_type": "code",
   "execution_count": 18,
   "metadata": {},
   "outputs": [
    {
     "data": {
      "text/plain": [
       "60.0    615\n",
       "Name: 课程成绩, dtype: int64"
      ]
     },
     "execution_count": 18,
     "metadata": {},
     "output_type": "execute_result"
    }
   ],
   "source": [
    "score_req[score_req['学分']==0]['课程成绩'].value_counts()"
   ]
  },
  {
   "cell_type": "markdown",
   "metadata": {},
   "source": [
    "学分为0的课程成绩全为60，0学分异常值，对后面计算加权平均分有影响，考虑去掉"
   ]
  },
  {
   "cell_type": "code",
   "execution_count": 19,
   "metadata": {
    "collapsed": true
   },
   "outputs": [],
   "source": [
    "xf = score_req[score_req['学分']==0]\n",
    "score_req.drop(labels=xf.index,axis=0,inplace=True)"
   ]
  },
  {
   "cell_type": "markdown",
   "metadata": {},
   "source": [
    "## 2.2 学籍表"
   ]
  },
  {
   "cell_type": "code",
   "execution_count": 20,
   "metadata": {},
   "outputs": [
    {
     "data": {
      "text/html": [
       "<div>\n",
       "<style scoped>\n",
       "    .dataframe tbody tr th:only-of-type {\n",
       "        vertical-align: middle;\n",
       "    }\n",
       "\n",
       "    .dataframe tbody tr th {\n",
       "        vertical-align: top;\n",
       "    }\n",
       "\n",
       "    .dataframe thead th {\n",
       "        text-align: right;\n",
       "    }\n",
       "</style>\n",
       "<table border=\"1\" class=\"dataframe\">\n",
       "  <thead>\n",
       "    <tr style=\"text-align: right;\">\n",
       "      <th></th>\n",
       "      <th>xh</th>\n",
       "      <th>yxsh</th>\n",
       "      <th>zym</th>\n",
       "      <th>sznj</th>\n",
       "    </tr>\n",
       "  </thead>\n",
       "  <tbody>\n",
       "    <tr>\n",
       "      <th>0</th>\n",
       "      <td>201489089</td>\n",
       "      <td>308</td>\n",
       "      <td>7003</td>\n",
       "      <td>2014</td>\n",
       "    </tr>\n",
       "    <tr>\n",
       "      <th>1</th>\n",
       "      <td>201539270</td>\n",
       "      <td>310</td>\n",
       "      <td>6403</td>\n",
       "      <td>2015</td>\n",
       "    </tr>\n",
       "  </tbody>\n",
       "</table>\n",
       "</div>"
      ],
      "text/plain": [
       "          xh  yxsh   zym  sznj\n",
       "0  201489089   308  7003  2014\n",
       "1  201539270   310  6403  2015"
      ]
     },
     "execution_count": 20,
     "metadata": {},
     "output_type": "execute_result"
    }
   ],
   "source": [
    "df_roll.head(2)"
   ]
  },
  {
   "cell_type": "code",
   "execution_count": 21,
   "metadata": {},
   "outputs": [
    {
     "data": {
      "text/plain": [
       "xh      int64\n",
       "yxsh    int64\n",
       "zym     int64\n",
       "sznj    int64\n",
       "dtype: object"
      ]
     },
     "execution_count": 21,
     "metadata": {},
     "output_type": "execute_result"
    }
   ],
   "source": [
    "df_roll.dtypes"
   ]
  },
  {
   "cell_type": "code",
   "execution_count": 22,
   "metadata": {
    "collapsed": true
   },
   "outputs": [],
   "source": [
    "df_roll['yxsh'] = df_roll['yxsh'].apply(str)\n",
    "df_roll['zym'] = df_roll['zym'].apply(str)"
   ]
  },
  {
   "cell_type": "markdown",
   "metadata": {},
   "source": [
    "## 2.3 网络行为表"
   ]
  },
  {
   "cell_type": "code",
   "execution_count": 23,
   "metadata": {},
   "outputs": [
    {
     "name": "stdout",
     "output_type": "stream",
     "text": [
      "<class 'pandas.core.frame.DataFrame'>\n",
      "RangeIndex: 516585 entries, 0 to 516584\n",
      "Data columns (total 6 columns):\n",
      "appid        516585 non-null int64\n",
      "appname      516585 non-null object\n",
      "xh           516585 non-null object\n",
      "starttime    516585 non-null object\n",
      "lasttime     516585 non-null object\n",
      "startday     516584 non-null object\n",
      "dtypes: int64(1), object(5)\n",
      "memory usage: 23.6+ MB\n"
     ]
    }
   ],
   "source": [
    "df_bnet.info()"
   ]
  },
  {
   "cell_type": "markdown",
   "metadata": {},
   "source": [
    "### 2.3.1 bnet学号是object类型，且还有字母开头的不规范的学号，删除"
   ]
  },
  {
   "cell_type": "code",
   "execution_count": 24,
   "metadata": {
    "collapsed": true
   },
   "outputs": [],
   "source": [
    "bnet_eng = df_bnet[df_bnet['xh']>'A00000000']"
   ]
  },
  {
   "cell_type": "code",
   "execution_count": 25,
   "metadata": {
    "collapsed": true
   },
   "outputs": [],
   "source": [
    "df_bnet.drop(labels=bnet_eng.index,inplace=True)"
   ]
  },
  {
   "cell_type": "markdown",
   "metadata": {},
   "source": [
    "将bnet学号转为int类型，方便与score_req对应"
   ]
  },
  {
   "cell_type": "code",
   "execution_count": 26,
   "metadata": {
    "collapsed": true
   },
   "outputs": [],
   "source": [
    "df_bnet['xh'] = df_bnet['xh'].apply(pd.to_numeric)"
   ]
  },
  {
   "cell_type": "code",
   "execution_count": 27,
   "metadata": {},
   "outputs": [
    {
     "data": {
      "text/plain": [
       "dtype('int64')"
      ]
     },
     "execution_count": 27,
     "metadata": {},
     "output_type": "execute_result"
    }
   ],
   "source": [
    "df_bnet['xh'].dtypes"
   ]
  },
  {
   "cell_type": "markdown",
   "metadata": {},
   "source": [
    "## 2.4 学生信息表"
   ]
  },
  {
   "cell_type": "code",
   "execution_count": 28,
   "metadata": {},
   "outputs": [
    {
     "data": {
      "text/html": [
       "<div>\n",
       "<style scoped>\n",
       "    .dataframe tbody tr th:only-of-type {\n",
       "        vertical-align: middle;\n",
       "    }\n",
       "\n",
       "    .dataframe tbody tr th {\n",
       "        vertical-align: top;\n",
       "    }\n",
       "\n",
       "    .dataframe thead th {\n",
       "        text-align: right;\n",
       "    }\n",
       "</style>\n",
       "<table border=\"1\" class=\"dataframe\">\n",
       "  <thead>\n",
       "    <tr style=\"text-align: right;\">\n",
       "      <th></th>\n",
       "      <th>xh</th>\n",
       "      <th>xm</th>\n",
       "      <th>xb</th>\n",
       "      <th>mzm</th>\n",
       "      <th>zzmmm</th>\n",
       "      <th>age</th>\n",
       "    </tr>\n",
       "  </thead>\n",
       "  <tbody>\n",
       "    <tr>\n",
       "      <th>0</th>\n",
       "      <td>201519324</td>\n",
       "      <td>张*蔚</td>\n",
       "      <td>男</td>\n",
       "      <td>1.0</td>\n",
       "      <td>3.0</td>\n",
       "      <td>22.0</td>\n",
       "    </tr>\n",
       "    <tr>\n",
       "      <th>1</th>\n",
       "      <td>201507048</td>\n",
       "      <td>徐*</td>\n",
       "      <td>女</td>\n",
       "      <td>1.0</td>\n",
       "      <td>3.0</td>\n",
       "      <td>22.0</td>\n",
       "    </tr>\n",
       "  </tbody>\n",
       "</table>\n",
       "</div>"
      ],
      "text/plain": [
       "          xh   xm xb  mzm  zzmmm   age\n",
       "0  201519324  张*蔚  男  1.0    3.0  22.0\n",
       "1  201507048   徐*  女  1.0    3.0  22.0"
      ]
     },
     "execution_count": 28,
     "metadata": {},
     "output_type": "execute_result"
    }
   ],
   "source": [
    "df_std.head(2)"
   ]
  },
  {
   "cell_type": "code",
   "execution_count": 29,
   "metadata": {
    "collapsed": true
   },
   "outputs": [],
   "source": [
    "df_std.drop(columns=['xm','zzmmm','age'],inplace=True)"
   ]
  },
  {
   "cell_type": "code",
   "execution_count": 30,
   "metadata": {
    "collapsed": true
   },
   "outputs": [],
   "source": [
    "df_std.columns=['xh','sex','nation']"
   ]
  },
  {
   "cell_type": "code",
   "execution_count": 31,
   "metadata": {
    "scrolled": true
   },
   "outputs": [
    {
     "data": {
      "text/plain": [
       "男       21801\n",
       "女       10677\n",
       "未知性别        1\n",
       "Name: sex, dtype: int64"
      ]
     },
     "execution_count": 31,
     "metadata": {},
     "output_type": "execute_result"
    }
   ],
   "source": [
    "df_std.sex.value_counts()"
   ]
  },
  {
   "cell_type": "code",
   "execution_count": 32,
   "metadata": {
    "collapsed": true
   },
   "outputs": [],
   "source": [
    "xb = df_std[df_std['sex']=='未知性别']\n",
    "df_std.drop(labels=xb.index,inplace=True)"
   ]
  },
  {
   "cell_type": "markdown",
   "metadata": {},
   "source": [
    "# 3. 特征工程"
   ]
  },
  {
   "cell_type": "markdown",
   "metadata": {},
   "source": [
    "## 3.1 网络行为表"
   ]
  },
  {
   "cell_type": "markdown",
   "metadata": {},
   "source": [
    "**网络行为按照学号，学年，学期码分类**"
   ]
  },
  {
   "cell_type": "code",
   "execution_count": 33,
   "metadata": {},
   "outputs": [
    {
     "data": {
      "text/html": [
       "<div>\n",
       "<style scoped>\n",
       "    .dataframe tbody tr th:only-of-type {\n",
       "        vertical-align: middle;\n",
       "    }\n",
       "\n",
       "    .dataframe tbody tr th {\n",
       "        vertical-align: top;\n",
       "    }\n",
       "\n",
       "    .dataframe thead th {\n",
       "        text-align: right;\n",
       "    }\n",
       "</style>\n",
       "<table border=\"1\" class=\"dataframe\">\n",
       "  <thead>\n",
       "    <tr style=\"text-align: right;\">\n",
       "      <th></th>\n",
       "      <th>appid</th>\n",
       "      <th>appname</th>\n",
       "      <th>xh</th>\n",
       "      <th>starttime</th>\n",
       "      <th>lasttime</th>\n",
       "      <th>startday</th>\n",
       "    </tr>\n",
       "  </thead>\n",
       "  <tbody>\n",
       "    <tr>\n",
       "      <th>0</th>\n",
       "      <td>3131</td>\n",
       "      <td>绝地求生</td>\n",
       "      <td>201657036</td>\n",
       "      <td>2019/04/09 23:27:57.000000000</td>\n",
       "      <td>2019/04/10 00:00:00.000000000</td>\n",
       "      <td>2019/04/09 00:00:00.000</td>\n",
       "    </tr>\n",
       "    <tr>\n",
       "      <th>1</th>\n",
       "      <td>3063</td>\n",
       "      <td>火影忍者</td>\n",
       "      <td>201738080</td>\n",
       "      <td>2019/04/09 22:50:15.000000000</td>\n",
       "      <td>2019/04/09 22:53:37.000000000</td>\n",
       "      <td>2019/04/09 00:00:00.000</td>\n",
       "    </tr>\n",
       "  </tbody>\n",
       "</table>\n",
       "</div>"
      ],
      "text/plain": [
       "   appid appname         xh                      starttime  \\\n",
       "0   3131    绝地求生  201657036  2019/04/09 23:27:57.000000000   \n",
       "1   3063    火影忍者  201738080  2019/04/09 22:50:15.000000000   \n",
       "\n",
       "                        lasttime                 startday  \n",
       "0  2019/04/10 00:00:00.000000000  2019/04/09 00:00:00.000  \n",
       "1  2019/04/09 22:53:37.000000000  2019/04/09 00:00:00.000  "
      ]
     },
     "execution_count": 33,
     "metadata": {},
     "output_type": "execute_result"
    }
   ],
   "source": [
    "df_bnet.head(2)"
   ]
  },
  {
   "cell_type": "code",
   "execution_count": 34,
   "metadata": {
    "scrolled": true
   },
   "outputs": [
    {
     "name": "stdout",
     "output_type": "stream",
     "text": [
      "<class 'pandas.core.frame.DataFrame'>\n",
      "Int64Index: 511113 entries, 0 to 516584\n",
      "Data columns (total 6 columns):\n",
      "appid        511113 non-null int64\n",
      "appname      511113 non-null object\n",
      "xh           511113 non-null int64\n",
      "starttime    511113 non-null object\n",
      "lasttime     511113 non-null object\n",
      "startday     511112 non-null object\n",
      "dtypes: int64(2), object(4)\n",
      "memory usage: 27.3+ MB\n"
     ]
    }
   ],
   "source": [
    "df_bnet.info()"
   ]
  },
  {
   "cell_type": "code",
   "execution_count": 35,
   "metadata": {},
   "outputs": [
    {
     "data": {
      "text/plain": [
       "appid        0\n",
       "appname      0\n",
       "xh           0\n",
       "starttime    0\n",
       "lasttime     0\n",
       "startday     1\n",
       "dtype: int64"
      ]
     },
     "execution_count": 35,
     "metadata": {},
     "output_type": "execute_result"
    }
   ],
   "source": [
    "df_bnet.isnull().sum()"
   ]
  },
  {
   "cell_type": "code",
   "execution_count": 36,
   "metadata": {},
   "outputs": [
    {
     "data": {
      "text/html": [
       "<div>\n",
       "<style scoped>\n",
       "    .dataframe tbody tr th:only-of-type {\n",
       "        vertical-align: middle;\n",
       "    }\n",
       "\n",
       "    .dataframe tbody tr th {\n",
       "        vertical-align: top;\n",
       "    }\n",
       "\n",
       "    .dataframe thead th {\n",
       "        text-align: right;\n",
       "    }\n",
       "</style>\n",
       "<table border=\"1\" class=\"dataframe\">\n",
       "  <thead>\n",
       "    <tr style=\"text-align: right;\">\n",
       "      <th></th>\n",
       "      <th>appid</th>\n",
       "      <th>appname</th>\n",
       "      <th>xh</th>\n",
       "      <th>starttime</th>\n",
       "      <th>lasttime</th>\n",
       "      <th>startday</th>\n",
       "    </tr>\n",
       "  </thead>\n",
       "  <tbody>\n",
       "    <tr>\n",
       "      <th>516584</th>\n",
       "      <td>3577</td>\n",
       "      <td>王者荣耀</td>\n",
       "      <td>201747026</td>\n",
       "      <td>2019/01/07 21:45:32.000000000</td>\n",
       "      <td>2019/01/07 22:28:08.000000</td>\n",
       "      <td>NaN</td>\n",
       "    </tr>\n",
       "  </tbody>\n",
       "</table>\n",
       "</div>"
      ],
      "text/plain": [
       "        appid appname         xh                      starttime  \\\n",
       "516584   3577    王者荣耀  201747026  2019/01/07 21:45:32.000000000   \n",
       "\n",
       "                          lasttime startday  \n",
       "516584  2019/01/07 22:28:08.000000      NaN  "
      ]
     },
     "execution_count": 36,
     "metadata": {},
     "output_type": "execute_result"
    }
   ],
   "source": [
    "df_bnet[df_bnet['startday'].isnull()]"
   ]
  },
  {
   "cell_type": "markdown",
   "metadata": {},
   "source": [
    "**startday 可以用starttime 的date替换**"
   ]
  },
  {
   "cell_type": "markdown",
   "metadata": {},
   "source": [
    "**保留appid或appname*\n",
    "1. 将starttime、lasttime 转换成datetime格式,并计算时间间隔delta**\n",
    "2. 将starttime分离出date和time，并将date代替startday，同理将lasttime分离出date和time**\n",
    "3. 待研究：使用app时长delta,开始使用时间start_time，和结束时间end_time**\n",
    "4. 用学号连接成绩表，看app的使用对成绩有无影响，对课程有无影响**"
   ]
  },
  {
   "cell_type": "markdown",
   "metadata": {},
   "source": [
    "### 3.1.1 将网络行为的starttime分解为日期和时间和星期, 将lasttime分解为日期和时间"
   ]
  },
  {
   "cell_type": "code",
   "execution_count": 37,
   "metadata": {
    "collapsed": true
   },
   "outputs": [],
   "source": [
    "from datetime import datetime as dt\n",
    "from datetime import timedelta"
   ]
  },
  {
   "cell_type": "code",
   "execution_count": 38,
   "metadata": {
    "collapsed": true,
    "scrolled": true
   },
   "outputs": [],
   "source": [
    "df_bnet['starttime'] = pd.to_datetime(df_bnet['starttime'])\n",
    "df_bnet['start_day'] = df_bnet.starttime.dt.date\n",
    "df_bnet['start_time'] = df_bnet['starttime'].dt.time\n",
    "df_bnet['weekday'] = df_bnet['starttime'].dt.dayofweek"
   ]
  },
  {
   "cell_type": "code",
   "execution_count": 39,
   "metadata": {
    "collapsed": true
   },
   "outputs": [],
   "source": [
    "df_bnet['lasttime'] = pd.to_datetime(df_bnet['lasttime'])\n",
    "df_bnet['last_day'] = df_bnet['lasttime'].dt.date\n",
    "df_bnet['last_time'] = df_bnet['lasttime'].dt.time"
   ]
  },
  {
   "cell_type": "code",
   "execution_count": 40,
   "metadata": {},
   "outputs": [
    {
     "data": {
      "text/html": [
       "<div>\n",
       "<style scoped>\n",
       "    .dataframe tbody tr th:only-of-type {\n",
       "        vertical-align: middle;\n",
       "    }\n",
       "\n",
       "    .dataframe tbody tr th {\n",
       "        vertical-align: top;\n",
       "    }\n",
       "\n",
       "    .dataframe thead th {\n",
       "        text-align: right;\n",
       "    }\n",
       "</style>\n",
       "<table border=\"1\" class=\"dataframe\">\n",
       "  <thead>\n",
       "    <tr style=\"text-align: right;\">\n",
       "      <th></th>\n",
       "      <th>appid</th>\n",
       "      <th>appname</th>\n",
       "      <th>xh</th>\n",
       "      <th>starttime</th>\n",
       "      <th>lasttime</th>\n",
       "      <th>startday</th>\n",
       "      <th>start_day</th>\n",
       "      <th>start_time</th>\n",
       "      <th>weekday</th>\n",
       "      <th>last_day</th>\n",
       "      <th>last_time</th>\n",
       "    </tr>\n",
       "  </thead>\n",
       "  <tbody>\n",
       "    <tr>\n",
       "      <th>0</th>\n",
       "      <td>3131</td>\n",
       "      <td>绝地求生</td>\n",
       "      <td>201657036</td>\n",
       "      <td>2019-04-09 23:27:57</td>\n",
       "      <td>2019-04-10 00:00:00</td>\n",
       "      <td>2019/04/09 00:00:00.000</td>\n",
       "      <td>2019-04-09</td>\n",
       "      <td>23:27:57</td>\n",
       "      <td>1</td>\n",
       "      <td>2019-04-10</td>\n",
       "      <td>00:00:00</td>\n",
       "    </tr>\n",
       "    <tr>\n",
       "      <th>1</th>\n",
       "      <td>3063</td>\n",
       "      <td>火影忍者</td>\n",
       "      <td>201738080</td>\n",
       "      <td>2019-04-09 22:50:15</td>\n",
       "      <td>2019-04-09 22:53:37</td>\n",
       "      <td>2019/04/09 00:00:00.000</td>\n",
       "      <td>2019-04-09</td>\n",
       "      <td>22:50:15</td>\n",
       "      <td>1</td>\n",
       "      <td>2019-04-09</td>\n",
       "      <td>22:53:37</td>\n",
       "    </tr>\n",
       "    <tr>\n",
       "      <th>2</th>\n",
       "      <td>3131</td>\n",
       "      <td>绝地求生</td>\n",
       "      <td>201639158</td>\n",
       "      <td>2019-04-09 19:54:17</td>\n",
       "      <td>2019-04-09 20:54:18</td>\n",
       "      <td>2019/04/09 00:00:00.000</td>\n",
       "      <td>2019-04-09</td>\n",
       "      <td>19:54:17</td>\n",
       "      <td>1</td>\n",
       "      <td>2019-04-09</td>\n",
       "      <td>20:54:18</td>\n",
       "    </tr>\n",
       "    <tr>\n",
       "      <th>3</th>\n",
       "      <td>3063</td>\n",
       "      <td>火影忍者</td>\n",
       "      <td>201716110</td>\n",
       "      <td>2019-04-09 18:20:37</td>\n",
       "      <td>2019-04-09 18:23:06</td>\n",
       "      <td>2019/04/09 00:00:00.000</td>\n",
       "      <td>2019-04-09</td>\n",
       "      <td>18:20:37</td>\n",
       "      <td>1</td>\n",
       "      <td>2019-04-09</td>\n",
       "      <td>18:23:06</td>\n",
       "    </tr>\n",
       "    <tr>\n",
       "      <th>4</th>\n",
       "      <td>3063</td>\n",
       "      <td>火影忍者</td>\n",
       "      <td>201716110</td>\n",
       "      <td>2019-04-09 12:14:53</td>\n",
       "      <td>2019-04-09 12:16:40</td>\n",
       "      <td>2019/04/09 00:00:00.000</td>\n",
       "      <td>2019-04-09</td>\n",
       "      <td>12:14:53</td>\n",
       "      <td>1</td>\n",
       "      <td>2019-04-09</td>\n",
       "      <td>12:16:40</td>\n",
       "    </tr>\n",
       "  </tbody>\n",
       "</table>\n",
       "</div>"
      ],
      "text/plain": [
       "   appid appname         xh           starttime            lasttime  \\\n",
       "0   3131    绝地求生  201657036 2019-04-09 23:27:57 2019-04-10 00:00:00   \n",
       "1   3063    火影忍者  201738080 2019-04-09 22:50:15 2019-04-09 22:53:37   \n",
       "2   3131    绝地求生  201639158 2019-04-09 19:54:17 2019-04-09 20:54:18   \n",
       "3   3063    火影忍者  201716110 2019-04-09 18:20:37 2019-04-09 18:23:06   \n",
       "4   3063    火影忍者  201716110 2019-04-09 12:14:53 2019-04-09 12:16:40   \n",
       "\n",
       "                  startday   start_day start_time  weekday    last_day  \\\n",
       "0  2019/04/09 00:00:00.000  2019-04-09   23:27:57        1  2019-04-10   \n",
       "1  2019/04/09 00:00:00.000  2019-04-09   22:50:15        1  2019-04-09   \n",
       "2  2019/04/09 00:00:00.000  2019-04-09   19:54:17        1  2019-04-09   \n",
       "3  2019/04/09 00:00:00.000  2019-04-09   18:20:37        1  2019-04-09   \n",
       "4  2019/04/09 00:00:00.000  2019-04-09   12:14:53        1  2019-04-09   \n",
       "\n",
       "  last_time  \n",
       "0  00:00:00  \n",
       "1  22:53:37  \n",
       "2  20:54:18  \n",
       "3  18:23:06  \n",
       "4  12:16:40  "
      ]
     },
     "execution_count": 40,
     "metadata": {},
     "output_type": "execute_result"
    }
   ],
   "source": [
    "df_bnet.head()"
   ]
  },
  {
   "cell_type": "markdown",
   "metadata": {},
   "source": [
    "### 3.1.2 统计网络行为时长last"
   ]
  },
  {
   "cell_type": "code",
   "execution_count": 41,
   "metadata": {
    "collapsed": true
   },
   "outputs": [],
   "source": [
    "df_bnet['time_delta'] = df_bnet['lasttime'] - df_bnet['starttime']"
   ]
  },
  {
   "cell_type": "markdown",
   "metadata": {},
   "source": [
    "last : 上网时长 单位为小时"
   ]
  },
  {
   "cell_type": "code",
   "execution_count": 42,
   "metadata": {
    "collapsed": true,
    "scrolled": true
   },
   "outputs": [],
   "source": [
    "df_bnet['last'] = df_bnet['time_delta'].dt.total_seconds()/(60*60)"
   ]
  },
  {
   "cell_type": "markdown",
   "metadata": {},
   "source": [
    "### 3.1.3 确定网络行为开始时间所属的学年和学期"
   ]
  },
  {
   "cell_type": "code",
   "execution_count": 43,
   "metadata": {
    "collapsed": true,
    "scrolled": false
   },
   "outputs": [],
   "source": [
    "#score_req['学年'].value_counts()"
   ]
  },
  {
   "cell_type": "code",
   "execution_count": 44,
   "metadata": {
    "collapsed": true,
    "scrolled": true
   },
   "outputs": [],
   "source": [
    "#xq1 = score_req[score['学期码']==3]\n",
    "#xq1.sort_values(by='考试日期')\n",
    "#####按学年分组查看各个学年对应的学期时间\n",
    "#xn_2014_2015 = score_req[score_req['学年'] == '2014-2015']\n",
    "#xn_2015_2016 = score_req[score_req['学年'] == '2015-2016']\n",
    "#xn_2016_2017 = score_req[score_req['学年'] == '2016-2017']\n",
    "#xn_2017_2018 = score_req[score_req['学年'] == '2017-2018']\n",
    "#xn_2018_2018 = score_req[score_req['学年'] == '2018-2019']"
   ]
  },
  {
   "cell_type": "code",
   "execution_count": 45,
   "metadata": {
    "collapsed": true,
    "scrolled": false
   },
   "outputs": [],
   "source": [
    "#xq1 = xn_2014_2015[df_score['学期码']==2]\n",
    "#xq1.sort_values(by='考试日期')"
   ]
  },
  {
   "cell_type": "markdown",
   "metadata": {},
   "source": [
    "**按照上网记录的时间给bnet添加学年学期属性**\n",
    "- 2014-2015学年：2014-09-01 到 2015-07-31\n",
    "- 2015-2016学年：2015-09-01 到 2016-07-31\n",
    "- 2016-2017学年：2016-09-01 到 2017-07-31\n",
    "- 2017-2018学年：2017-09-01 到 2018-07-31\n",
    "- 2018-2019学年：2018-09-01 到 2019-07-31"
   ]
  },
  {
   "cell_type": "code",
   "execution_count": 46,
   "metadata": {
    "collapsed": true
   },
   "outputs": [],
   "source": [
    "### 学年学期映射函数\n",
    "def to_xn(x):\n",
    "    y = x.strftime('%Y-%m-%d')\n",
    "    if(y>='2014-09-01'and y<='2015-01-31'):\n",
    "        return '2014-2015-1'\n",
    "    elif(y>'2015-01-31' and y<='2015-07-01'):\n",
    "        return '2014-2015-2'\n",
    "    elif(y>'2015-07-01' and y<='2015-09-01'):\n",
    "        return '2014-2015-3'\n",
    "    elif(y>'2015-09-01'and y<='2016-01-31'):\n",
    "        return '2015-2016-1'\n",
    "    elif(y>'2016-01-31' and y<='2016-07-01'):\n",
    "        return '2015-2016-2'\n",
    "    elif(y>'2016-07-01' and y<='2016-09-01'):\n",
    "        return '2015-2016-3'\n",
    "    elif(y>'2016-09-01'and y<='2017-01-31'):\n",
    "        return '2016-2017-1'\n",
    "    elif(y>'2017-01-31' and y<='2017-07-01'):\n",
    "        return '2016-2017-2'\n",
    "    elif(y>'2017-07-01' and y<='2017-09-01'):\n",
    "        return '2016-2017-3'\n",
    "    elif(y>'2017-09-01'and y<='2018-01-31'):\n",
    "        return '2017-2018-1'\n",
    "    elif(y>'2018-01-31' and y<='2018-07-01'):\n",
    "        return '2017-2018-2'\n",
    "    elif(y>'2018-07-01' and y<='2018-09-01'):\n",
    "        return '2017-2018-3'\n",
    "    elif(y>'2018-09-01' and y<='2019-01-31'):\n",
    "        return '2018-2019-1'\n",
    "    else:\n",
    "        return '2018-2019-2'"
   ]
  },
  {
   "cell_type": "code",
   "execution_count": 47,
   "metadata": {
    "collapsed": true
   },
   "outputs": [],
   "source": [
    "df_bnet['xn'] = df_bnet['start_day'].apply(to_xn)"
   ]
  },
  {
   "cell_type": "code",
   "execution_count": 48,
   "metadata": {},
   "outputs": [
    {
     "data": {
      "text/plain": [
       "0"
      ]
     },
     "execution_count": 48,
     "metadata": {},
     "output_type": "execute_result"
    }
   ],
   "source": [
    "df_bnet['xn'].isnull().sum()"
   ]
  },
  {
   "cell_type": "markdown",
   "metadata": {},
   "source": [
    "**将学年期分解为学年和学期**"
   ]
  },
  {
   "cell_type": "code",
   "execution_count": 49,
   "metadata": {
    "collapsed": true
   },
   "outputs": [],
   "source": [
    "df_bnet['xq'] = df_bnet['xn'].apply(lambda x:x[10:11])\n",
    "df_bnet['xn'] = df_bnet['xn'].apply(lambda x:x[0:9])"
   ]
  },
  {
   "cell_type": "markdown",
   "metadata": {},
   "source": [
    "将学期转换为int"
   ]
  },
  {
   "cell_type": "code",
   "execution_count": 50,
   "metadata": {
    "collapsed": true
   },
   "outputs": [],
   "source": [
    "df_bnet['xq'] = df_bnet['xq'].apply(pd.to_numeric)"
   ]
  },
  {
   "cell_type": "code",
   "execution_count": 51,
   "metadata": {},
   "outputs": [
    {
     "data": {
      "text/html": [
       "<div>\n",
       "<style scoped>\n",
       "    .dataframe tbody tr th:only-of-type {\n",
       "        vertical-align: middle;\n",
       "    }\n",
       "\n",
       "    .dataframe tbody tr th {\n",
       "        vertical-align: top;\n",
       "    }\n",
       "\n",
       "    .dataframe thead th {\n",
       "        text-align: right;\n",
       "    }\n",
       "</style>\n",
       "<table border=\"1\" class=\"dataframe\">\n",
       "  <thead>\n",
       "    <tr style=\"text-align: right;\">\n",
       "      <th></th>\n",
       "      <th>appid</th>\n",
       "      <th>appname</th>\n",
       "      <th>xh</th>\n",
       "      <th>starttime</th>\n",
       "      <th>lasttime</th>\n",
       "      <th>startday</th>\n",
       "      <th>start_day</th>\n",
       "      <th>start_time</th>\n",
       "      <th>weekday</th>\n",
       "      <th>last_day</th>\n",
       "      <th>last_time</th>\n",
       "      <th>time_delta</th>\n",
       "      <th>last</th>\n",
       "      <th>xn</th>\n",
       "      <th>xq</th>\n",
       "    </tr>\n",
       "  </thead>\n",
       "  <tbody>\n",
       "    <tr>\n",
       "      <th>0</th>\n",
       "      <td>3131</td>\n",
       "      <td>绝地求生</td>\n",
       "      <td>201657036</td>\n",
       "      <td>2019-04-09 23:27:57</td>\n",
       "      <td>2019-04-10 00:00:00</td>\n",
       "      <td>2019/04/09 00:00:00.000</td>\n",
       "      <td>2019-04-09</td>\n",
       "      <td>23:27:57</td>\n",
       "      <td>1</td>\n",
       "      <td>2019-04-10</td>\n",
       "      <td>00:00:00</td>\n",
       "      <td>00:32:03</td>\n",
       "      <td>0.534167</td>\n",
       "      <td>2018-2019</td>\n",
       "      <td>2</td>\n",
       "    </tr>\n",
       "    <tr>\n",
       "      <th>1</th>\n",
       "      <td>3063</td>\n",
       "      <td>火影忍者</td>\n",
       "      <td>201738080</td>\n",
       "      <td>2019-04-09 22:50:15</td>\n",
       "      <td>2019-04-09 22:53:37</td>\n",
       "      <td>2019/04/09 00:00:00.000</td>\n",
       "      <td>2019-04-09</td>\n",
       "      <td>22:50:15</td>\n",
       "      <td>1</td>\n",
       "      <td>2019-04-09</td>\n",
       "      <td>22:53:37</td>\n",
       "      <td>00:03:22</td>\n",
       "      <td>0.056111</td>\n",
       "      <td>2018-2019</td>\n",
       "      <td>2</td>\n",
       "    </tr>\n",
       "    <tr>\n",
       "      <th>2</th>\n",
       "      <td>3131</td>\n",
       "      <td>绝地求生</td>\n",
       "      <td>201639158</td>\n",
       "      <td>2019-04-09 19:54:17</td>\n",
       "      <td>2019-04-09 20:54:18</td>\n",
       "      <td>2019/04/09 00:00:00.000</td>\n",
       "      <td>2019-04-09</td>\n",
       "      <td>19:54:17</td>\n",
       "      <td>1</td>\n",
       "      <td>2019-04-09</td>\n",
       "      <td>20:54:18</td>\n",
       "      <td>01:00:01</td>\n",
       "      <td>1.000278</td>\n",
       "      <td>2018-2019</td>\n",
       "      <td>2</td>\n",
       "    </tr>\n",
       "  </tbody>\n",
       "</table>\n",
       "</div>"
      ],
      "text/plain": [
       "   appid appname         xh           starttime            lasttime  \\\n",
       "0   3131    绝地求生  201657036 2019-04-09 23:27:57 2019-04-10 00:00:00   \n",
       "1   3063    火影忍者  201738080 2019-04-09 22:50:15 2019-04-09 22:53:37   \n",
       "2   3131    绝地求生  201639158 2019-04-09 19:54:17 2019-04-09 20:54:18   \n",
       "\n",
       "                  startday   start_day start_time  weekday    last_day  \\\n",
       "0  2019/04/09 00:00:00.000  2019-04-09   23:27:57        1  2019-04-10   \n",
       "1  2019/04/09 00:00:00.000  2019-04-09   22:50:15        1  2019-04-09   \n",
       "2  2019/04/09 00:00:00.000  2019-04-09   19:54:17        1  2019-04-09   \n",
       "\n",
       "  last_time time_delta      last         xn  xq  \n",
       "0  00:00:00   00:32:03  0.534167  2018-2019   2  \n",
       "1  22:53:37   00:03:22  0.056111  2018-2019   2  \n",
       "2  20:54:18   01:00:01  1.000278  2018-2019   2  "
      ]
     },
     "execution_count": 51,
     "metadata": {},
     "output_type": "execute_result"
    }
   ],
   "source": [
    "df_bnet.head(3)"
   ]
  },
  {
   "cell_type": "markdown",
   "metadata": {},
   "source": [
    "### 3.1.4 将appname按照属性分类，游戏、直播、影音、短视频"
   ]
  },
  {
   "cell_type": "code",
   "execution_count": 52,
   "metadata": {
    "collapsed": true
   },
   "outputs": [],
   "source": [
    "game = ['王者荣耀','绝地求生','英雄联盟','穿越火线','地下城','剑灵','梦三国','欢乐斗地主','FIFA Online','火影忍者','穿越火线：枪战王者','QQ飞车手游','QQ炫舞','逆战','QQ飞车','QQ炫舞手游','全名冠军足球','龙之谷','天天酷跑','雷霆战机','疾风之刃','阴阳师','绝地求生：全军出击','魔兽']\n",
    "vedio = ['优酷','腾讯','爱奇艺','央视影音','风行','PP视频','哔哩哔哩','乐视','暴风影音','土豆','芒果TV','搜狐视频','爆米花网','看看视频','江苏TV']\n",
    "live = ['虎牙直播','一直播','斗鱼直播','企鹅电竞','腾讯NOW','网易CC','战旗直播','熊猫直播','触手tv','花椒直播','映客直播','全民直播','网易直播','龙珠直播','YY直播']\n",
    "vine = ['快手','抖音','火山小视频','腾讯微视','爱拍原创','梨视频','第一视频','今视网']"
   ]
  },
  {
   "cell_type": "code",
   "execution_count": 53,
   "metadata": {
    "collapsed": true
   },
   "outputs": [],
   "source": [
    "df_bnet['variety'] = df_bnet['appname'].apply(lambda x:'game' if x in game else('vedio' if x in vedio else('live' if x in live else 'vine')))"
   ]
  },
  {
   "cell_type": "markdown",
   "metadata": {},
   "source": [
    "### 3.1.5 根据starttime将网络访问时间划分为morning、afternoon、evening、night\n",
    "- morning 7:00-12:00\n",
    "- afternoon 12:00-19:00\n",
    "- evening 19:00-23:00\n",
    "- night 23:00-7:00"
   ]
  },
  {
   "cell_type": "code",
   "execution_count": 54,
   "metadata": {
    "collapsed": true
   },
   "outputs": [],
   "source": [
    "### 时间段转换函数\n",
    "def to_section(x):\n",
    "    y = x.strftime('%H:%M:%S')\n",
    "    if(y>'07:00:00'and y<='12:00:00'):\n",
    "        return 'morning'\n",
    "    elif(y>'12:00:00' and y<='19:00:00'):\n",
    "        return 'afternoon'\n",
    "    elif(y>'19:00:00'and y<='23:00:00'):\n",
    "        return 'evening'\n",
    "    else:\n",
    "        return 'night'"
   ]
  },
  {
   "cell_type": "code",
   "execution_count": 55,
   "metadata": {
    "collapsed": true
   },
   "outputs": [],
   "source": [
    "df_bnet['section'] = df_bnet['start_time'].apply(to_section)"
   ]
  },
  {
   "cell_type": "code",
   "execution_count": 56,
   "metadata": {
    "collapsed": true
   },
   "outputs": [],
   "source": [
    "net = df_bnet[['xh','xn','xq','variety','section','last','weekday']]"
   ]
  },
  {
   "cell_type": "code",
   "execution_count": 57,
   "metadata": {
    "scrolled": true
   },
   "outputs": [
    {
     "data": {
      "text/html": [
       "<div>\n",
       "<style scoped>\n",
       "    .dataframe tbody tr th:only-of-type {\n",
       "        vertical-align: middle;\n",
       "    }\n",
       "\n",
       "    .dataframe tbody tr th {\n",
       "        vertical-align: top;\n",
       "    }\n",
       "\n",
       "    .dataframe thead th {\n",
       "        text-align: right;\n",
       "    }\n",
       "</style>\n",
       "<table border=\"1\" class=\"dataframe\">\n",
       "  <thead>\n",
       "    <tr style=\"text-align: right;\">\n",
       "      <th></th>\n",
       "      <th>xh</th>\n",
       "      <th>xn</th>\n",
       "      <th>xq</th>\n",
       "      <th>variety</th>\n",
       "      <th>section</th>\n",
       "      <th>last</th>\n",
       "      <th>weekday</th>\n",
       "    </tr>\n",
       "  </thead>\n",
       "  <tbody>\n",
       "    <tr>\n",
       "      <th>0</th>\n",
       "      <td>201657036</td>\n",
       "      <td>2018-2019</td>\n",
       "      <td>2</td>\n",
       "      <td>game</td>\n",
       "      <td>night</td>\n",
       "      <td>0.534167</td>\n",
       "      <td>1</td>\n",
       "    </tr>\n",
       "    <tr>\n",
       "      <th>1</th>\n",
       "      <td>201738080</td>\n",
       "      <td>2018-2019</td>\n",
       "      <td>2</td>\n",
       "      <td>game</td>\n",
       "      <td>evening</td>\n",
       "      <td>0.056111</td>\n",
       "      <td>1</td>\n",
       "    </tr>\n",
       "    <tr>\n",
       "      <th>2</th>\n",
       "      <td>201639158</td>\n",
       "      <td>2018-2019</td>\n",
       "      <td>2</td>\n",
       "      <td>game</td>\n",
       "      <td>evening</td>\n",
       "      <td>1.000278</td>\n",
       "      <td>1</td>\n",
       "    </tr>\n",
       "    <tr>\n",
       "      <th>3</th>\n",
       "      <td>201716110</td>\n",
       "      <td>2018-2019</td>\n",
       "      <td>2</td>\n",
       "      <td>game</td>\n",
       "      <td>afternoon</td>\n",
       "      <td>0.041389</td>\n",
       "      <td>1</td>\n",
       "    </tr>\n",
       "  </tbody>\n",
       "</table>\n",
       "</div>"
      ],
      "text/plain": [
       "          xh         xn  xq variety    section      last  weekday\n",
       "0  201657036  2018-2019   2    game      night  0.534167        1\n",
       "1  201738080  2018-2019   2    game    evening  0.056111        1\n",
       "2  201639158  2018-2019   2    game    evening  1.000278        1\n",
       "3  201716110  2018-2019   2    game  afternoon  0.041389        1"
      ]
     },
     "execution_count": 57,
     "metadata": {},
     "output_type": "execute_result"
    }
   ],
   "source": [
    "net.head(4)"
   ]
  },
  {
   "cell_type": "markdown",
   "metadata": {},
   "source": [
    "### 3.1.6 统计variety, section, last, weekday"
   ]
  },
  {
   "cell_type": "code",
   "execution_count": 58,
   "metadata": {
    "collapsed": true
   },
   "outputs": [],
   "source": [
    "net_copy = net.copy()\n",
    "net_copy.drop(columns=['variety','section','last','weekday'],axis=1,inplace=True)"
   ]
  },
  {
   "cell_type": "markdown",
   "metadata": {},
   "source": [
    "**根据学号，学年，学期分组，对不同的variety的时长进行统计，并得出一个总的last**"
   ]
  },
  {
   "cell_type": "code",
   "execution_count": 59,
   "metadata": {
    "collapsed": true
   },
   "outputs": [],
   "source": [
    "net_varlast = net.copy()\n",
    "net_varlast['game_time'] = net_varlast.apply(lambda x:x['last'] if x['variety']=='game' else 0 ,axis=1)\n",
    "net_varlast['vedio_time'] = net_varlast.apply(lambda x:x['last'] if x['variety']=='vedio' else 0 ,axis=1)\n",
    "net_varlast['live_time'] = net_varlast.apply(lambda x:x['last'] if x['variety']=='live' else 0 ,axis=1)\n",
    "net_varlast['vine_time'] = net_varlast.apply(lambda x:x['last'] if x['variety']=='vine' else 0 ,axis=1)"
   ]
  },
  {
   "cell_type": "code",
   "execution_count": 60,
   "metadata": {
    "collapsed": true
   },
   "outputs": [],
   "source": [
    "net_group = net_varlast.groupby(['xh','xn','xq'])['game_time','vedio_time','live_time','vine_time'].sum()"
   ]
  },
  {
   "cell_type": "code",
   "execution_count": 61,
   "metadata": {},
   "outputs": [
    {
     "data": {
      "text/html": [
       "<div>\n",
       "<style scoped>\n",
       "    .dataframe tbody tr th:only-of-type {\n",
       "        vertical-align: middle;\n",
       "    }\n",
       "\n",
       "    .dataframe tbody tr th {\n",
       "        vertical-align: top;\n",
       "    }\n",
       "\n",
       "    .dataframe thead th {\n",
       "        text-align: right;\n",
       "    }\n",
       "</style>\n",
       "<table border=\"1\" class=\"dataframe\">\n",
       "  <thead>\n",
       "    <tr style=\"text-align: right;\">\n",
       "      <th></th>\n",
       "      <th></th>\n",
       "      <th></th>\n",
       "      <th>game_time</th>\n",
       "      <th>vedio_time</th>\n",
       "      <th>live_time</th>\n",
       "      <th>vine_time</th>\n",
       "    </tr>\n",
       "    <tr>\n",
       "      <th>xh</th>\n",
       "      <th>xn</th>\n",
       "      <th>xq</th>\n",
       "      <th></th>\n",
       "      <th></th>\n",
       "      <th></th>\n",
       "      <th></th>\n",
       "    </tr>\n",
       "  </thead>\n",
       "  <tbody>\n",
       "    <tr>\n",
       "      <th rowspan=\"2\" valign=\"top\">201400001</th>\n",
       "      <th rowspan=\"2\" valign=\"top\">2018-2019</th>\n",
       "      <th>1</th>\n",
       "      <td>0.000000</td>\n",
       "      <td>2.058056</td>\n",
       "      <td>0.000000</td>\n",
       "      <td>0.000000</td>\n",
       "    </tr>\n",
       "    <tr>\n",
       "      <th>2</th>\n",
       "      <td>1.788889</td>\n",
       "      <td>0.376111</td>\n",
       "      <td>0.000000</td>\n",
       "      <td>0.266389</td>\n",
       "    </tr>\n",
       "    <tr>\n",
       "      <th>201400002</th>\n",
       "      <th>2018-2019</th>\n",
       "      <th>2</th>\n",
       "      <td>1.751667</td>\n",
       "      <td>0.051667</td>\n",
       "      <td>0.480556</td>\n",
       "      <td>0.000000</td>\n",
       "    </tr>\n",
       "    <tr>\n",
       "      <th>201400003</th>\n",
       "      <th>2018-2019</th>\n",
       "      <th>2</th>\n",
       "      <td>0.000000</td>\n",
       "      <td>0.000556</td>\n",
       "      <td>0.000000</td>\n",
       "      <td>0.000000</td>\n",
       "    </tr>\n",
       "    <tr>\n",
       "      <th>201400004</th>\n",
       "      <th>2018-2019</th>\n",
       "      <th>1</th>\n",
       "      <td>2.013056</td>\n",
       "      <td>0.000278</td>\n",
       "      <td>0.000000</td>\n",
       "      <td>0.000000</td>\n",
       "    </tr>\n",
       "  </tbody>\n",
       "</table>\n",
       "</div>"
      ],
      "text/plain": [
       "                        game_time  vedio_time  live_time  vine_time\n",
       "xh        xn        xq                                             \n",
       "201400001 2018-2019 1    0.000000    2.058056   0.000000   0.000000\n",
       "                    2    1.788889    0.376111   0.000000   0.266389\n",
       "201400002 2018-2019 2    1.751667    0.051667   0.480556   0.000000\n",
       "201400003 2018-2019 2    0.000000    0.000556   0.000000   0.000000\n",
       "201400004 2018-2019 1    2.013056    0.000278   0.000000   0.000000"
      ]
     },
     "execution_count": 61,
     "metadata": {},
     "output_type": "execute_result"
    }
   ],
   "source": [
    "net_group.head()"
   ]
  },
  {
   "cell_type": "code",
   "execution_count": 62,
   "metadata": {
    "collapsed": true
   },
   "outputs": [],
   "source": [
    "net1 = pd.merge(net_copy,net_group,left_on=['xh','xn','xq'],right_index=True)"
   ]
  },
  {
   "cell_type": "code",
   "execution_count": 63,
   "metadata": {
    "collapsed": true,
    "scrolled": false
   },
   "outputs": [],
   "source": [
    "net1.drop_duplicates(inplace=True)"
   ]
  },
  {
   "cell_type": "markdown",
   "metadata": {},
   "source": [
    "计算总上网时长total_time"
   ]
  },
  {
   "cell_type": "code",
   "execution_count": 64,
   "metadata": {
    "collapsed": true
   },
   "outputs": [],
   "source": [
    "net1['total_time'] = net1['game_time']+net1['vedio_time']+net1['live_time']+net1['vine_time']"
   ]
  },
  {
   "cell_type": "markdown",
   "metadata": {},
   "source": [
    "**各个不同variety的次数(应该没有必要了，跟时长有点重复)**"
   ]
  },
  {
   "cell_type": "markdown",
   "metadata": {},
   "source": [
    "net_var = net.copy()\n",
    "net_var['game_count'] = net_var['variety'].apply(lambda x:1 if x=='game' else 0)\n",
    "net_var['vedio_count'] = net_var['variety'].apply(lambda x:1 if x=='vedio' else 0)\n",
    "net_var['live_count'] = net_var['variety'].apply(lambda x:1 if x=='live' else 0)\n",
    "net_var['vine_count'] = net_var['variety'].apply(lambda x:1 if x=='vine' else 0)"
   ]
  },
  {
   "cell_type": "markdown",
   "metadata": {},
   "source": [
    "net_var.head()"
   ]
  },
  {
   "cell_type": "markdown",
   "metadata": {},
   "source": [
    "net_group2 = net_var.groupby(['xh','xn'])['game_count','vedio_count','live_count','vine_count'].sum()"
   ]
  },
  {
   "cell_type": "markdown",
   "metadata": {
    "scrolled": false
   },
   "source": [
    "net_group2.head()"
   ]
  },
  {
   "cell_type": "markdown",
   "metadata": {},
   "source": [
    "net2 = pd.merge(net_copy,net_group2,left_on=['xh','xn','xq],right_index=True)"
   ]
  },
  {
   "cell_type": "markdown",
   "metadata": {
    "scrolled": true
   },
   "source": [
    "net2.head(3)"
   ]
  },
  {
   "cell_type": "markdown",
   "metadata": {},
   "source": [
    "net2.shape"
   ]
  },
  {
   "cell_type": "markdown",
   "metadata": {},
   "source": [
    "net2.drop_duplicates(inplace=True)"
   ]
  },
  {
   "cell_type": "markdown",
   "metadata": {},
   "source": [
    "net2['totalvar_count'] = net2['game_count']+net2['vedio_count']+net2['live_count']+net2['vine_count']"
   ]
  },
  {
   "cell_type": "markdown",
   "metadata": {},
   "source": [
    "net2.shape"
   ]
  },
  {
   "cell_type": "markdown",
   "metadata": {},
   "source": [
    "**根据学号，学年，学期分组，对不同的section的时长进行统计**"
   ]
  },
  {
   "cell_type": "code",
   "execution_count": 65,
   "metadata": {
    "collapsed": true
   },
   "outputs": [],
   "source": [
    "net_sec = net.copy()\n",
    "net_sec['mor_count'] = net_sec.apply(lambda x:x['last'] if x['section']=='morning' else 0 ,axis=1)\n",
    "net_sec['aft_count'] = net_sec.apply(lambda x:x['last'] if x['section']=='afternoon' else 0 ,axis=1)\n",
    "net_sec['eve_count'] = net_sec.apply(lambda x:x['last'] if x['section']=='evening' else 0 ,axis=1)\n",
    "net_sec['nig_count'] = net_sec.apply(lambda x:x['last'] if x['section']=='night' else 0 ,axis=1)"
   ]
  },
  {
   "cell_type": "code",
   "execution_count": 66,
   "metadata": {
    "collapsed": true
   },
   "outputs": [],
   "source": [
    "net_group3 = net_sec.groupby(['xh','xn','xq'])['mor_count','aft_count','eve_count','nig_count'].sum()"
   ]
  },
  {
   "cell_type": "code",
   "execution_count": 67,
   "metadata": {},
   "outputs": [
    {
     "data": {
      "text/html": [
       "<div>\n",
       "<style scoped>\n",
       "    .dataframe tbody tr th:only-of-type {\n",
       "        vertical-align: middle;\n",
       "    }\n",
       "\n",
       "    .dataframe tbody tr th {\n",
       "        vertical-align: top;\n",
       "    }\n",
       "\n",
       "    .dataframe thead th {\n",
       "        text-align: right;\n",
       "    }\n",
       "</style>\n",
       "<table border=\"1\" class=\"dataframe\">\n",
       "  <thead>\n",
       "    <tr style=\"text-align: right;\">\n",
       "      <th></th>\n",
       "      <th></th>\n",
       "      <th></th>\n",
       "      <th>mor_count</th>\n",
       "      <th>aft_count</th>\n",
       "      <th>eve_count</th>\n",
       "      <th>nig_count</th>\n",
       "    </tr>\n",
       "    <tr>\n",
       "      <th>xh</th>\n",
       "      <th>xn</th>\n",
       "      <th>xq</th>\n",
       "      <th></th>\n",
       "      <th></th>\n",
       "      <th></th>\n",
       "      <th></th>\n",
       "    </tr>\n",
       "  </thead>\n",
       "  <tbody>\n",
       "    <tr>\n",
       "      <th rowspan=\"2\" valign=\"top\">201400001</th>\n",
       "      <th rowspan=\"2\" valign=\"top\">2018-2019</th>\n",
       "      <th>1</th>\n",
       "      <td>0.000000</td>\n",
       "      <td>1.523889</td>\n",
       "      <td>0.534167</td>\n",
       "      <td>0.000000</td>\n",
       "    </tr>\n",
       "    <tr>\n",
       "      <th>2</th>\n",
       "      <td>0.265556</td>\n",
       "      <td>0.286389</td>\n",
       "      <td>1.290000</td>\n",
       "      <td>0.589444</td>\n",
       "    </tr>\n",
       "    <tr>\n",
       "      <th>201400002</th>\n",
       "      <th>2018-2019</th>\n",
       "      <th>2</th>\n",
       "      <td>0.001389</td>\n",
       "      <td>0.752778</td>\n",
       "      <td>1.417500</td>\n",
       "      <td>0.112222</td>\n",
       "    </tr>\n",
       "    <tr>\n",
       "      <th>201400003</th>\n",
       "      <th>2018-2019</th>\n",
       "      <th>2</th>\n",
       "      <td>0.000000</td>\n",
       "      <td>0.000000</td>\n",
       "      <td>0.000556</td>\n",
       "      <td>0.000000</td>\n",
       "    </tr>\n",
       "    <tr>\n",
       "      <th>201400004</th>\n",
       "      <th>2018-2019</th>\n",
       "      <th>1</th>\n",
       "      <td>0.000278</td>\n",
       "      <td>2.004722</td>\n",
       "      <td>0.008333</td>\n",
       "      <td>0.000000</td>\n",
       "    </tr>\n",
       "  </tbody>\n",
       "</table>\n",
       "</div>"
      ],
      "text/plain": [
       "                        mor_count  aft_count  eve_count  nig_count\n",
       "xh        xn        xq                                            \n",
       "201400001 2018-2019 1    0.000000   1.523889   0.534167   0.000000\n",
       "                    2    0.265556   0.286389   1.290000   0.589444\n",
       "201400002 2018-2019 2    0.001389   0.752778   1.417500   0.112222\n",
       "201400003 2018-2019 2    0.000000   0.000000   0.000556   0.000000\n",
       "201400004 2018-2019 1    0.000278   2.004722   0.008333   0.000000"
      ]
     },
     "execution_count": 67,
     "metadata": {},
     "output_type": "execute_result"
    }
   ],
   "source": [
    "net_group3.head()"
   ]
  },
  {
   "cell_type": "code",
   "execution_count": 68,
   "metadata": {
    "collapsed": true
   },
   "outputs": [],
   "source": [
    "net3 = pd.merge(net_copy,net_group3,left_on=['xh','xn','xq'],right_index=True)"
   ]
  },
  {
   "cell_type": "code",
   "execution_count": 69,
   "metadata": {},
   "outputs": [
    {
     "data": {
      "text/plain": [
       "(511113, 7)"
      ]
     },
     "execution_count": 69,
     "metadata": {},
     "output_type": "execute_result"
    }
   ],
   "source": [
    "net3.shape"
   ]
  },
  {
   "cell_type": "code",
   "execution_count": 70,
   "metadata": {
    "collapsed": true
   },
   "outputs": [],
   "source": [
    "net3.drop_duplicates(inplace=True)"
   ]
  },
  {
   "cell_type": "code",
   "execution_count": 71,
   "metadata": {
    "scrolled": true
   },
   "outputs": [
    {
     "data": {
      "text/plain": [
       "(29182, 7)"
      ]
     },
     "execution_count": 71,
     "metadata": {},
     "output_type": "execute_result"
    }
   ],
   "source": [
    "net3.shape"
   ]
  },
  {
   "cell_type": "markdown",
   "metadata": {},
   "source": [
    "**根据学号，学年，学期分组，对不同的weekday的次数进行统计**"
   ]
  },
  {
   "cell_type": "code",
   "execution_count": 72,
   "metadata": {},
   "outputs": [
    {
     "data": {
      "text/plain": [
       "dtype('int64')"
      ]
     },
     "execution_count": 72,
     "metadata": {},
     "output_type": "execute_result"
    }
   ],
   "source": [
    "net['weekday'].dtypes"
   ]
  },
  {
   "cell_type": "code",
   "execution_count": 73,
   "metadata": {},
   "outputs": [
    {
     "data": {
      "text/plain": [
       "0    124153\n",
       "4    102789\n",
       "3     95243\n",
       "6     75397\n",
       "1     46250\n",
       "5     43541\n",
       "2     23740\n",
       "Name: weekday, dtype: int64"
      ]
     },
     "execution_count": 73,
     "metadata": {},
     "output_type": "execute_result"
    }
   ],
   "source": [
    "net['weekday'].value_counts()"
   ]
  },
  {
   "cell_type": "code",
   "execution_count": 74,
   "metadata": {
    "collapsed": true
   },
   "outputs": [],
   "source": [
    "net_wd = net.copy()\n",
    "net_wd['Sun'] = net_wd.apply(lambda x:x['last'] if x['weekday']==0 else 0,axis=1)\n",
    "net_wd['Mon'] = net_wd.apply(lambda x:x['last'] if x['weekday']==1 else 0,axis=1)\n",
    "net_wd['Tue'] = net_wd.apply(lambda x:x['last'] if x['weekday']==2 else 0,axis=1)\n",
    "net_wd['Wed'] = net_wd.apply(lambda x:x['last'] if x['weekday']==3 else 0,axis=1)\n",
    "net_wd['Thu'] = net_wd.apply(lambda x:x['last'] if x['weekday']==4 else 0,axis=1)\n",
    "net_wd['Fri'] = net_wd.apply(lambda x:x['last'] if x['weekday']==5 else 0,axis=1)\n",
    "net_wd['Sat'] = net_wd.apply(lambda x:x['last'] if x['weekday']==6 else 0,axis=1)"
   ]
  },
  {
   "cell_type": "code",
   "execution_count": 75,
   "metadata": {
    "collapsed": true
   },
   "outputs": [],
   "source": [
    "net_group4 = net_wd.groupby(['xh','xn','xq'])['Sun','Mon','Tue','Wed','Thu','Fri','Sat'].sum()"
   ]
  },
  {
   "cell_type": "code",
   "execution_count": 76,
   "metadata": {
    "collapsed": true
   },
   "outputs": [],
   "source": [
    "net4 = pd.merge(net_copy,net_group4,left_on=['xh','xn','xq'],right_index=True)"
   ]
  },
  {
   "cell_type": "code",
   "execution_count": 77,
   "metadata": {
    "collapsed": true
   },
   "outputs": [],
   "source": [
    "net4.drop_duplicates(inplace=True)"
   ]
  },
  {
   "cell_type": "code",
   "execution_count": 78,
   "metadata": {},
   "outputs": [
    {
     "data": {
      "text/html": [
       "<div>\n",
       "<style scoped>\n",
       "    .dataframe tbody tr th:only-of-type {\n",
       "        vertical-align: middle;\n",
       "    }\n",
       "\n",
       "    .dataframe tbody tr th {\n",
       "        vertical-align: top;\n",
       "    }\n",
       "\n",
       "    .dataframe thead th {\n",
       "        text-align: right;\n",
       "    }\n",
       "</style>\n",
       "<table border=\"1\" class=\"dataframe\">\n",
       "  <thead>\n",
       "    <tr style=\"text-align: right;\">\n",
       "      <th></th>\n",
       "      <th>xh</th>\n",
       "      <th>xn</th>\n",
       "      <th>xq</th>\n",
       "      <th>Sun</th>\n",
       "      <th>Mon</th>\n",
       "      <th>Tue</th>\n",
       "      <th>Wed</th>\n",
       "      <th>Thu</th>\n",
       "      <th>Fri</th>\n",
       "      <th>Sat</th>\n",
       "    </tr>\n",
       "  </thead>\n",
       "  <tbody>\n",
       "    <tr>\n",
       "      <th>0</th>\n",
       "      <td>201657036</td>\n",
       "      <td>2018-2019</td>\n",
       "      <td>2</td>\n",
       "      <td>13.019444</td>\n",
       "      <td>5.667222</td>\n",
       "      <td>4.273333</td>\n",
       "      <td>3.634167</td>\n",
       "      <td>5.844167</td>\n",
       "      <td>0.531389</td>\n",
       "      <td>9.728611</td>\n",
       "    </tr>\n",
       "    <tr>\n",
       "      <th>1</th>\n",
       "      <td>201738080</td>\n",
       "      <td>2018-2019</td>\n",
       "      <td>2</td>\n",
       "      <td>0.672778</td>\n",
       "      <td>0.056111</td>\n",
       "      <td>0.000000</td>\n",
       "      <td>0.000000</td>\n",
       "      <td>0.000278</td>\n",
       "      <td>0.000000</td>\n",
       "      <td>0.060278</td>\n",
       "    </tr>\n",
       "    <tr>\n",
       "      <th>2</th>\n",
       "      <td>201639158</td>\n",
       "      <td>2018-2019</td>\n",
       "      <td>2</td>\n",
       "      <td>0.640000</td>\n",
       "      <td>2.270833</td>\n",
       "      <td>0.000278</td>\n",
       "      <td>0.000000</td>\n",
       "      <td>0.000000</td>\n",
       "      <td>0.000000</td>\n",
       "      <td>0.100556</td>\n",
       "    </tr>\n",
       "  </tbody>\n",
       "</table>\n",
       "</div>"
      ],
      "text/plain": [
       "          xh         xn  xq        Sun       Mon       Tue       Wed  \\\n",
       "0  201657036  2018-2019   2  13.019444  5.667222  4.273333  3.634167   \n",
       "1  201738080  2018-2019   2   0.672778  0.056111  0.000000  0.000000   \n",
       "2  201639158  2018-2019   2   0.640000  2.270833  0.000278  0.000000   \n",
       "\n",
       "        Thu       Fri       Sat  \n",
       "0  5.844167  0.531389  9.728611  \n",
       "1  0.000278  0.000000  0.060278  \n",
       "2  0.000000  0.000000  0.100556  "
      ]
     },
     "execution_count": 78,
     "metadata": {},
     "output_type": "execute_result"
    }
   ],
   "source": [
    "net4.head(3)"
   ]
  },
  {
   "cell_type": "markdown",
   "metadata": {},
   "source": [
    "### 3.1.7 合并网络行为表"
   ]
  },
  {
   "cell_type": "code",
   "execution_count": 79,
   "metadata": {
    "scrolled": false
   },
   "outputs": [
    {
     "data": {
      "text/html": [
       "<div>\n",
       "<style scoped>\n",
       "    .dataframe tbody tr th:only-of-type {\n",
       "        vertical-align: middle;\n",
       "    }\n",
       "\n",
       "    .dataframe tbody tr th {\n",
       "        vertical-align: top;\n",
       "    }\n",
       "\n",
       "    .dataframe thead th {\n",
       "        text-align: right;\n",
       "    }\n",
       "</style>\n",
       "<table border=\"1\" class=\"dataframe\">\n",
       "  <thead>\n",
       "    <tr style=\"text-align: right;\">\n",
       "      <th></th>\n",
       "      <th>xh</th>\n",
       "      <th>xn</th>\n",
       "      <th>xq</th>\n",
       "      <th>game_time</th>\n",
       "      <th>vedio_time</th>\n",
       "      <th>live_time</th>\n",
       "      <th>vine_time</th>\n",
       "      <th>total_time</th>\n",
       "      <th>mor_count</th>\n",
       "      <th>aft_count</th>\n",
       "      <th>eve_count</th>\n",
       "      <th>nig_count</th>\n",
       "      <th>Sun</th>\n",
       "      <th>Mon</th>\n",
       "      <th>Tue</th>\n",
       "      <th>Wed</th>\n",
       "      <th>Thu</th>\n",
       "      <th>Fri</th>\n",
       "      <th>Sat</th>\n",
       "    </tr>\n",
       "  </thead>\n",
       "  <tbody>\n",
       "    <tr>\n",
       "      <th>0</th>\n",
       "      <td>201657036</td>\n",
       "      <td>2018-2019</td>\n",
       "      <td>2</td>\n",
       "      <td>36.351389</td>\n",
       "      <td>2.697500</td>\n",
       "      <td>3.649444</td>\n",
       "      <td>0.0</td>\n",
       "      <td>42.698333</td>\n",
       "      <td>2.391389</td>\n",
       "      <td>26.117222</td>\n",
       "      <td>3.665833</td>\n",
       "      <td>10.523889</td>\n",
       "      <td>13.019444</td>\n",
       "      <td>5.667222</td>\n",
       "      <td>4.273333</td>\n",
       "      <td>3.634167</td>\n",
       "      <td>5.844167</td>\n",
       "      <td>0.531389</td>\n",
       "      <td>9.728611</td>\n",
       "    </tr>\n",
       "    <tr>\n",
       "      <th>1</th>\n",
       "      <td>201738080</td>\n",
       "      <td>2018-2019</td>\n",
       "      <td>2</td>\n",
       "      <td>0.056111</td>\n",
       "      <td>0.673056</td>\n",
       "      <td>0.060278</td>\n",
       "      <td>0.0</td>\n",
       "      <td>0.789444</td>\n",
       "      <td>0.049167</td>\n",
       "      <td>0.011389</td>\n",
       "      <td>0.056111</td>\n",
       "      <td>0.672778</td>\n",
       "      <td>0.672778</td>\n",
       "      <td>0.056111</td>\n",
       "      <td>0.000000</td>\n",
       "      <td>0.000000</td>\n",
       "      <td>0.000278</td>\n",
       "      <td>0.000000</td>\n",
       "      <td>0.060278</td>\n",
       "    </tr>\n",
       "    <tr>\n",
       "      <th>2</th>\n",
       "      <td>201639158</td>\n",
       "      <td>2018-2019</td>\n",
       "      <td>2</td>\n",
       "      <td>2.371667</td>\n",
       "      <td>0.640000</td>\n",
       "      <td>0.000000</td>\n",
       "      <td>0.0</td>\n",
       "      <td>3.011667</td>\n",
       "      <td>0.000000</td>\n",
       "      <td>0.357500</td>\n",
       "      <td>2.014167</td>\n",
       "      <td>0.640000</td>\n",
       "      <td>0.640000</td>\n",
       "      <td>2.270833</td>\n",
       "      <td>0.000278</td>\n",
       "      <td>0.000000</td>\n",
       "      <td>0.000000</td>\n",
       "      <td>0.000000</td>\n",
       "      <td>0.100556</td>\n",
       "    </tr>\n",
       "  </tbody>\n",
       "</table>\n",
       "</div>"
      ],
      "text/plain": [
       "          xh         xn  xq  game_time  vedio_time  live_time  vine_time  \\\n",
       "0  201657036  2018-2019   2  36.351389    2.697500   3.649444        0.0   \n",
       "1  201738080  2018-2019   2   0.056111    0.673056   0.060278        0.0   \n",
       "2  201639158  2018-2019   2   2.371667    0.640000   0.000000        0.0   \n",
       "\n",
       "   total_time  mor_count  aft_count  eve_count  nig_count        Sun  \\\n",
       "0   42.698333   2.391389  26.117222   3.665833  10.523889  13.019444   \n",
       "1    0.789444   0.049167   0.011389   0.056111   0.672778   0.672778   \n",
       "2    3.011667   0.000000   0.357500   2.014167   0.640000   0.640000   \n",
       "\n",
       "        Mon       Tue       Wed       Thu       Fri       Sat  \n",
       "0  5.667222  4.273333  3.634167  5.844167  0.531389  9.728611  \n",
       "1  0.056111  0.000000  0.000000  0.000278  0.000000  0.060278  \n",
       "2  2.270833  0.000278  0.000000  0.000000  0.000000  0.100556  "
      ]
     },
     "execution_count": 79,
     "metadata": {},
     "output_type": "execute_result"
    }
   ],
   "source": [
    "network = pd.merge(net1,net3)\n",
    "network = pd.merge(network,net4)\n",
    "network.head(3)"
   ]
  },
  {
   "cell_type": "code",
   "execution_count": 80,
   "metadata": {},
   "outputs": [
    {
     "data": {
      "text/plain": [
       "(29182, 19)"
      ]
     },
     "execution_count": 80,
     "metadata": {},
     "output_type": "execute_result"
    }
   ],
   "source": [
    "network.shape"
   ]
  },
  {
   "cell_type": "markdown",
   "metadata": {},
   "source": [
    "## 3.2 成绩表"
   ]
  },
  {
   "cell_type": "markdown",
   "metadata": {},
   "source": [
    "### 3.2.1 计算每学年每学期的加权平均分"
   ]
  },
  {
   "cell_type": "code",
   "execution_count": 81,
   "metadata": {
    "collapsed": true
   },
   "outputs": [],
   "source": [
    "score_req['总分'] = score_req ['课程成绩'] * score_req['学分']"
   ]
  },
  {
   "cell_type": "code",
   "execution_count": 82,
   "metadata": {
    "collapsed": true
   },
   "outputs": [],
   "source": [
    "score_group = score_req.groupby(['学号','学年','学期码'])[['总分','学分']].sum()"
   ]
  },
  {
   "cell_type": "code",
   "execution_count": 83,
   "metadata": {
    "collapsed": true
   },
   "outputs": [],
   "source": [
    "score_group['加权平均分'] = score_group['总分'] / score_group['学分']"
   ]
  },
  {
   "cell_type": "code",
   "execution_count": 84,
   "metadata": {
    "scrolled": false
   },
   "outputs": [
    {
     "data": {
      "text/html": [
       "<div>\n",
       "<style scoped>\n",
       "    .dataframe tbody tr th:only-of-type {\n",
       "        vertical-align: middle;\n",
       "    }\n",
       "\n",
       "    .dataframe tbody tr th {\n",
       "        vertical-align: top;\n",
       "    }\n",
       "\n",
       "    .dataframe thead th {\n",
       "        text-align: right;\n",
       "    }\n",
       "</style>\n",
       "<table border=\"1\" class=\"dataframe\">\n",
       "  <thead>\n",
       "    <tr style=\"text-align: right;\">\n",
       "      <th></th>\n",
       "      <th></th>\n",
       "      <th></th>\n",
       "      <th>总分</th>\n",
       "      <th>学分</th>\n",
       "      <th>加权平均分</th>\n",
       "    </tr>\n",
       "    <tr>\n",
       "      <th>学号</th>\n",
       "      <th>学年</th>\n",
       "      <th>学期码</th>\n",
       "      <th></th>\n",
       "      <th></th>\n",
       "      <th></th>\n",
       "    </tr>\n",
       "  </thead>\n",
       "  <tbody>\n",
       "    <tr>\n",
       "      <th rowspan=\"3\" valign=\"top\">201400001</th>\n",
       "      <th>2014-2015</th>\n",
       "      <th>1</th>\n",
       "      <td>210.0</td>\n",
       "      <td>4.0</td>\n",
       "      <td>52.500000</td>\n",
       "    </tr>\n",
       "    <tr>\n",
       "      <th rowspan=\"2\" valign=\"top\">2015-2016</th>\n",
       "      <th>1</th>\n",
       "      <td>1210.5</td>\n",
       "      <td>17.5</td>\n",
       "      <td>69.171429</td>\n",
       "    </tr>\n",
       "    <tr>\n",
       "      <th>2</th>\n",
       "      <td>1346.0</td>\n",
       "      <td>24.0</td>\n",
       "      <td>56.083333</td>\n",
       "    </tr>\n",
       "  </tbody>\n",
       "</table>\n",
       "</div>"
      ],
      "text/plain": [
       "                             总分    学分      加权平均分\n",
       "学号        学年        学期码                         \n",
       "201400001 2014-2015 1     210.0   4.0  52.500000\n",
       "          2015-2016 1    1210.5  17.5  69.171429\n",
       "                    2    1346.0  24.0  56.083333"
      ]
     },
     "execution_count": 84,
     "metadata": {},
     "output_type": "execute_result"
    }
   ],
   "source": [
    "score_group.head(3)"
   ]
  },
  {
   "cell_type": "code",
   "execution_count": 85,
   "metadata": {
    "scrolled": true
   },
   "outputs": [
    {
     "data": {
      "text/html": [
       "<div>\n",
       "<style scoped>\n",
       "    .dataframe tbody tr th:only-of-type {\n",
       "        vertical-align: middle;\n",
       "    }\n",
       "\n",
       "    .dataframe tbody tr th {\n",
       "        vertical-align: top;\n",
       "    }\n",
       "\n",
       "    .dataframe thead th {\n",
       "        text-align: right;\n",
       "    }\n",
       "</style>\n",
       "<table border=\"1\" class=\"dataframe\">\n",
       "  <thead>\n",
       "    <tr style=\"text-align: right;\">\n",
       "      <th></th>\n",
       "      <th></th>\n",
       "      <th></th>\n",
       "      <th>加权平均分</th>\n",
       "    </tr>\n",
       "    <tr>\n",
       "      <th>学号</th>\n",
       "      <th>学年</th>\n",
       "      <th>学期码</th>\n",
       "      <th></th>\n",
       "    </tr>\n",
       "  </thead>\n",
       "  <tbody>\n",
       "    <tr>\n",
       "      <th rowspan=\"2\" valign=\"top\">201400001</th>\n",
       "      <th>2014-2015</th>\n",
       "      <th>1</th>\n",
       "      <td>52.500000</td>\n",
       "    </tr>\n",
       "    <tr>\n",
       "      <th>2015-2016</th>\n",
       "      <th>1</th>\n",
       "      <td>69.171429</td>\n",
       "    </tr>\n",
       "  </tbody>\n",
       "</table>\n",
       "</div>"
      ],
      "text/plain": [
       "                             加权平均分\n",
       "学号        学年        学期码           \n",
       "201400001 2014-2015 1    52.500000\n",
       "          2015-2016 1    69.171429"
      ]
     },
     "execution_count": 85,
     "metadata": {},
     "output_type": "execute_result"
    }
   ],
   "source": [
    "score_group.drop(columns=['总分','学分'],axis=1,inplace=True)\n",
    "score_group.head(2)"
   ]
  },
  {
   "cell_type": "markdown",
   "metadata": {},
   "source": [
    "### 3.2.2 计算挂科次数"
   ]
  },
  {
   "cell_type": "code",
   "execution_count": 86,
   "metadata": {
    "collapsed": true
   },
   "outputs": [],
   "source": [
    "score_req['学年挂科次数'] = score_req['课程成绩'].apply(lambda x:1 if x<60 else 0)"
   ]
  },
  {
   "cell_type": "code",
   "execution_count": 87,
   "metadata": {
    "collapsed": true,
    "scrolled": true
   },
   "outputs": [],
   "source": [
    "score_group2 = score_req.groupby(['学号','学年','学期码'])[['学年挂科次数']].sum()"
   ]
  },
  {
   "cell_type": "code",
   "execution_count": 88,
   "metadata": {},
   "outputs": [
    {
     "data": {
      "text/html": [
       "<div>\n",
       "<style scoped>\n",
       "    .dataframe tbody tr th:only-of-type {\n",
       "        vertical-align: middle;\n",
       "    }\n",
       "\n",
       "    .dataframe tbody tr th {\n",
       "        vertical-align: top;\n",
       "    }\n",
       "\n",
       "    .dataframe thead th {\n",
       "        text-align: right;\n",
       "    }\n",
       "</style>\n",
       "<table border=\"1\" class=\"dataframe\">\n",
       "  <thead>\n",
       "    <tr style=\"text-align: right;\">\n",
       "      <th></th>\n",
       "      <th></th>\n",
       "      <th></th>\n",
       "      <th>学年挂科次数</th>\n",
       "    </tr>\n",
       "    <tr>\n",
       "      <th>学号</th>\n",
       "      <th>学年</th>\n",
       "      <th>学期码</th>\n",
       "      <th></th>\n",
       "    </tr>\n",
       "  </thead>\n",
       "  <tbody>\n",
       "    <tr>\n",
       "      <th rowspan=\"3\" valign=\"top\">201400001</th>\n",
       "      <th>2014-2015</th>\n",
       "      <th>1</th>\n",
       "      <td>1</td>\n",
       "    </tr>\n",
       "    <tr>\n",
       "      <th rowspan=\"2\" valign=\"top\">2015-2016</th>\n",
       "      <th>1</th>\n",
       "      <td>0</td>\n",
       "    </tr>\n",
       "    <tr>\n",
       "      <th>2</th>\n",
       "      <td>2</td>\n",
       "    </tr>\n",
       "  </tbody>\n",
       "</table>\n",
       "</div>"
      ],
      "text/plain": [
       "                         学年挂科次数\n",
       "学号        学年        学期码        \n",
       "201400001 2014-2015 1         1\n",
       "          2015-2016 1         0\n",
       "                    2         2"
      ]
     },
     "execution_count": 88,
     "metadata": {},
     "output_type": "execute_result"
    }
   ],
   "source": [
    "score_group2.head(3)"
   ]
  },
  {
   "cell_type": "markdown",
   "metadata": {},
   "source": [
    "### 3.2.3 滤除无用属性"
   ]
  },
  {
   "cell_type": "code",
   "execution_count": 89,
   "metadata": {},
   "outputs": [
    {
     "data": {
      "text/html": [
       "<div>\n",
       "<style scoped>\n",
       "    .dataframe tbody tr th:only-of-type {\n",
       "        vertical-align: middle;\n",
       "    }\n",
       "\n",
       "    .dataframe tbody tr th {\n",
       "        vertical-align: top;\n",
       "    }\n",
       "\n",
       "    .dataframe thead th {\n",
       "        text-align: right;\n",
       "    }\n",
       "</style>\n",
       "<table border=\"1\" class=\"dataframe\">\n",
       "  <thead>\n",
       "    <tr style=\"text-align: right;\">\n",
       "      <th></th>\n",
       "      <th>学号</th>\n",
       "      <th>学年</th>\n",
       "      <th>学期码</th>\n",
       "      <th>考试日期</th>\n",
       "      <th>课程成绩</th>\n",
       "      <th>学分</th>\n",
       "      <th>总分</th>\n",
       "      <th>学年挂科次数</th>\n",
       "    </tr>\n",
       "  </thead>\n",
       "  <tbody>\n",
       "    <tr>\n",
       "      <th>0</th>\n",
       "      <td>201434063</td>\n",
       "      <td>2017-2018</td>\n",
       "      <td>1</td>\n",
       "      <td>2018-01-14</td>\n",
       "      <td>65.0</td>\n",
       "      <td>3.5</td>\n",
       "      <td>227.5</td>\n",
       "      <td>0</td>\n",
       "    </tr>\n",
       "    <tr>\n",
       "      <th>1</th>\n",
       "      <td>201505099</td>\n",
       "      <td>2017-2018</td>\n",
       "      <td>1</td>\n",
       "      <td>2018-01-14</td>\n",
       "      <td>52.0</td>\n",
       "      <td>3.5</td>\n",
       "      <td>182.0</td>\n",
       "      <td>1</td>\n",
       "    </tr>\n",
       "  </tbody>\n",
       "</table>\n",
       "</div>"
      ],
      "text/plain": [
       "          学号         学年  学期码       考试日期  课程成绩   学分     总分  学年挂科次数\n",
       "0  201434063  2017-2018    1 2018-01-14  65.0  3.5  227.5       0\n",
       "1  201505099  2017-2018    1 2018-01-14  52.0  3.5  182.0       1"
      ]
     },
     "execution_count": 89,
     "metadata": {},
     "output_type": "execute_result"
    }
   ],
   "source": [
    "score_req.head(2)"
   ]
  },
  {
   "cell_type": "code",
   "execution_count": 90,
   "metadata": {
    "collapsed": true
   },
   "outputs": [],
   "source": [
    "score = score_req.drop(columns=['考试日期','课程成绩','学分','总分','学年挂科次数'])"
   ]
  },
  {
   "cell_type": "markdown",
   "metadata": {},
   "source": [
    "### 3.2.4 合并成绩表"
   ]
  },
  {
   "cell_type": "code",
   "execution_count": 91,
   "metadata": {
    "collapsed": true,
    "scrolled": true
   },
   "outputs": [],
   "source": [
    "score = pd.merge(score,score_group,left_on=['学号','学年','学期码'],right_index=True)\n",
    "score = pd.merge(score,score_group2,left_on=['学号','学年','学期码'],right_index=True)"
   ]
  },
  {
   "cell_type": "code",
   "execution_count": 92,
   "metadata": {
    "collapsed": true,
    "scrolled": true
   },
   "outputs": [],
   "source": [
    "#score.rename(columns={'学期码':'学期'},inplace=True)"
   ]
  },
  {
   "cell_type": "code",
   "execution_count": 93,
   "metadata": {
    "scrolled": false
   },
   "outputs": [
    {
     "data": {
      "text/html": [
       "<div>\n",
       "<style scoped>\n",
       "    .dataframe tbody tr th:only-of-type {\n",
       "        vertical-align: middle;\n",
       "    }\n",
       "\n",
       "    .dataframe tbody tr th {\n",
       "        vertical-align: top;\n",
       "    }\n",
       "\n",
       "    .dataframe thead th {\n",
       "        text-align: right;\n",
       "    }\n",
       "</style>\n",
       "<table border=\"1\" class=\"dataframe\">\n",
       "  <thead>\n",
       "    <tr style=\"text-align: right;\">\n",
       "      <th></th>\n",
       "      <th>学号</th>\n",
       "      <th>学年</th>\n",
       "      <th>学期码</th>\n",
       "      <th>加权平均分</th>\n",
       "      <th>学年挂科次数</th>\n",
       "    </tr>\n",
       "  </thead>\n",
       "  <tbody>\n",
       "    <tr>\n",
       "      <th>0</th>\n",
       "      <td>201434063</td>\n",
       "      <td>2017-2018</td>\n",
       "      <td>1</td>\n",
       "      <td>66.111111</td>\n",
       "      <td>0</td>\n",
       "    </tr>\n",
       "    <tr>\n",
       "      <th>165403</th>\n",
       "      <td>201434063</td>\n",
       "      <td>2017-2018</td>\n",
       "      <td>1</td>\n",
       "      <td>66.111111</td>\n",
       "      <td>0</td>\n",
       "    </tr>\n",
       "  </tbody>\n",
       "</table>\n",
       "</div>"
      ],
      "text/plain": [
       "               学号         学年  学期码      加权平均分  学年挂科次数\n",
       "0       201434063  2017-2018    1  66.111111       0\n",
       "165403  201434063  2017-2018    1  66.111111       0"
      ]
     },
     "execution_count": 93,
     "metadata": {},
     "output_type": "execute_result"
    }
   ],
   "source": [
    "score.head(2)"
   ]
  },
  {
   "cell_type": "code",
   "execution_count": 94,
   "metadata": {},
   "outputs": [
    {
     "data": {
      "text/plain": [
       "(1356688, 5)"
      ]
     },
     "execution_count": 94,
     "metadata": {},
     "output_type": "execute_result"
    }
   ],
   "source": [
    "score.shape"
   ]
  },
  {
   "cell_type": "code",
   "execution_count": 95,
   "metadata": {
    "collapsed": true
   },
   "outputs": [],
   "source": [
    "score.drop_duplicates(inplace=True)"
   ]
  },
  {
   "cell_type": "code",
   "execution_count": 96,
   "metadata": {},
   "outputs": [
    {
     "data": {
      "text/plain": [
       "(197527, 5)"
      ]
     },
     "execution_count": 96,
     "metadata": {},
     "output_type": "execute_result"
    }
   ],
   "source": [
    "score.shape"
   ]
  },
  {
   "cell_type": "markdown",
   "metadata": {},
   "source": [
    "### 3.2.5 是否挂过科"
   ]
  },
  {
   "cell_type": "code",
   "execution_count": 97,
   "metadata": {
    "collapsed": true
   },
   "outputs": [],
   "source": [
    "score['挂科'] = score['学年挂科次数'].apply(lambda x:'1' if x>0 else '0')"
   ]
  },
  {
   "cell_type": "code",
   "execution_count": 98,
   "metadata": {},
   "outputs": [
    {
     "data": {
      "text/html": [
       "<div>\n",
       "<style scoped>\n",
       "    .dataframe tbody tr th:only-of-type {\n",
       "        vertical-align: middle;\n",
       "    }\n",
       "\n",
       "    .dataframe tbody tr th {\n",
       "        vertical-align: top;\n",
       "    }\n",
       "\n",
       "    .dataframe thead th {\n",
       "        text-align: right;\n",
       "    }\n",
       "</style>\n",
       "<table border=\"1\" class=\"dataframe\">\n",
       "  <thead>\n",
       "    <tr style=\"text-align: right;\">\n",
       "      <th></th>\n",
       "      <th>学号</th>\n",
       "      <th>学年</th>\n",
       "      <th>学期码</th>\n",
       "      <th>加权平均分</th>\n",
       "      <th>学年挂科次数</th>\n",
       "      <th>挂科</th>\n",
       "    </tr>\n",
       "  </thead>\n",
       "  <tbody>\n",
       "    <tr>\n",
       "      <th>0</th>\n",
       "      <td>201434063</td>\n",
       "      <td>2017-2018</td>\n",
       "      <td>1</td>\n",
       "      <td>66.111111</td>\n",
       "      <td>0</td>\n",
       "      <td>0</td>\n",
       "    </tr>\n",
       "    <tr>\n",
       "      <th>1</th>\n",
       "      <td>201505099</td>\n",
       "      <td>2017-2018</td>\n",
       "      <td>1</td>\n",
       "      <td>33.880000</td>\n",
       "      <td>17</td>\n",
       "      <td>1</td>\n",
       "    </tr>\n",
       "  </tbody>\n",
       "</table>\n",
       "</div>"
      ],
      "text/plain": [
       "          学号         学年  学期码      加权平均分  学年挂科次数 挂科\n",
       "0  201434063  2017-2018    1  66.111111       0  0\n",
       "1  201505099  2017-2018    1  33.880000      17  1"
      ]
     },
     "execution_count": 98,
     "metadata": {},
     "output_type": "execute_result"
    }
   ],
   "source": [
    "score.head(2)"
   ]
  },
  {
   "cell_type": "markdown",
   "metadata": {},
   "source": [
    "## 3.3 合并成绩表，学籍表, 学生信息表和网络行为表"
   ]
  },
  {
   "cell_type": "markdown",
   "metadata": {},
   "source": [
    "## 3.3.1 合并成绩表和学籍表"
   ]
  },
  {
   "cell_type": "code",
   "execution_count": 99,
   "metadata": {
    "collapsed": true
   },
   "outputs": [],
   "source": [
    "score.columns=['xh','xn','xq','avg_score','fail_count','fail']"
   ]
  },
  {
   "cell_type": "code",
   "execution_count": 100,
   "metadata": {
    "scrolled": true
   },
   "outputs": [
    {
     "data": {
      "text/html": [
       "<div>\n",
       "<style scoped>\n",
       "    .dataframe tbody tr th:only-of-type {\n",
       "        vertical-align: middle;\n",
       "    }\n",
       "\n",
       "    .dataframe tbody tr th {\n",
       "        vertical-align: top;\n",
       "    }\n",
       "\n",
       "    .dataframe thead th {\n",
       "        text-align: right;\n",
       "    }\n",
       "</style>\n",
       "<table border=\"1\" class=\"dataframe\">\n",
       "  <thead>\n",
       "    <tr style=\"text-align: right;\">\n",
       "      <th></th>\n",
       "      <th>xh</th>\n",
       "      <th>yxsh</th>\n",
       "      <th>zym</th>\n",
       "      <th>sznj</th>\n",
       "    </tr>\n",
       "  </thead>\n",
       "  <tbody>\n",
       "    <tr>\n",
       "      <th>0</th>\n",
       "      <td>201489089</td>\n",
       "      <td>308</td>\n",
       "      <td>7003</td>\n",
       "      <td>2014</td>\n",
       "    </tr>\n",
       "    <tr>\n",
       "      <th>1</th>\n",
       "      <td>201539270</td>\n",
       "      <td>310</td>\n",
       "      <td>6403</td>\n",
       "      <td>2015</td>\n",
       "    </tr>\n",
       "    <tr>\n",
       "      <th>2</th>\n",
       "      <td>201559179</td>\n",
       "      <td>356</td>\n",
       "      <td>9111</td>\n",
       "      <td>2015</td>\n",
       "    </tr>\n",
       "  </tbody>\n",
       "</table>\n",
       "</div>"
      ],
      "text/plain": [
       "          xh yxsh   zym  sznj\n",
       "0  201489089  308  7003  2014\n",
       "1  201539270  310  6403  2015\n",
       "2  201559179  356  9111  2015"
      ]
     },
     "execution_count": 100,
     "metadata": {},
     "output_type": "execute_result"
    }
   ],
   "source": [
    "df_roll.head(3)"
   ]
  },
  {
   "cell_type": "code",
   "execution_count": 101,
   "metadata": {
    "collapsed": true
   },
   "outputs": [],
   "source": [
    "df_roll.rename(columns={'yxsh':'faculty','zym':'specialty'},inplace=True)"
   ]
  },
  {
   "cell_type": "code",
   "execution_count": 102,
   "metadata": {},
   "outputs": [
    {
     "data": {
      "text/plain": [
       "xh            0\n",
       "xn            0\n",
       "xq            0\n",
       "avg_score     0\n",
       "fail_count    0\n",
       "fail          0\n",
       "faculty       0\n",
       "specialty     0\n",
       "sznj          0\n",
       "dtype: int64"
      ]
     },
     "execution_count": 102,
     "metadata": {},
     "output_type": "execute_result"
    }
   ],
   "source": [
    "score = pd.merge(score,df_roll,how='left')\n",
    "score.isnull().sum()"
   ]
  },
  {
   "cell_type": "markdown",
   "metadata": {},
   "source": [
    "### 3.3.2 合并成绩表和学生信息表"
   ]
  },
  {
   "cell_type": "code",
   "execution_count": 103,
   "metadata": {
    "collapsed": true
   },
   "outputs": [],
   "source": [
    "score = pd.merge(score,df_std,how='left')"
   ]
  },
  {
   "cell_type": "code",
   "execution_count": 104,
   "metadata": {},
   "outputs": [
    {
     "data": {
      "text/html": [
       "<div>\n",
       "<style scoped>\n",
       "    .dataframe tbody tr th:only-of-type {\n",
       "        vertical-align: middle;\n",
       "    }\n",
       "\n",
       "    .dataframe tbody tr th {\n",
       "        vertical-align: top;\n",
       "    }\n",
       "\n",
       "    .dataframe thead th {\n",
       "        text-align: right;\n",
       "    }\n",
       "</style>\n",
       "<table border=\"1\" class=\"dataframe\">\n",
       "  <thead>\n",
       "    <tr style=\"text-align: right;\">\n",
       "      <th></th>\n",
       "      <th>xh</th>\n",
       "      <th>xn</th>\n",
       "      <th>xq</th>\n",
       "      <th>avg_score</th>\n",
       "      <th>fail_count</th>\n",
       "      <th>fail</th>\n",
       "      <th>faculty</th>\n",
       "      <th>specialty</th>\n",
       "      <th>sznj</th>\n",
       "      <th>sex</th>\n",
       "      <th>nation</th>\n",
       "    </tr>\n",
       "  </thead>\n",
       "  <tbody>\n",
       "    <tr>\n",
       "      <th>0</th>\n",
       "      <td>201434063</td>\n",
       "      <td>2017-2018</td>\n",
       "      <td>1</td>\n",
       "      <td>66.111111</td>\n",
       "      <td>0</td>\n",
       "      <td>0</td>\n",
       "      <td>339</td>\n",
       "      <td>6915</td>\n",
       "      <td>2014</td>\n",
       "      <td>男</td>\n",
       "      <td>1.0</td>\n",
       "    </tr>\n",
       "    <tr>\n",
       "      <th>1</th>\n",
       "      <td>201505099</td>\n",
       "      <td>2017-2018</td>\n",
       "      <td>1</td>\n",
       "      <td>33.880000</td>\n",
       "      <td>17</td>\n",
       "      <td>1</td>\n",
       "      <td>301</td>\n",
       "      <td>5028</td>\n",
       "      <td>2015</td>\n",
       "      <td>女</td>\n",
       "      <td>1.0</td>\n",
       "    </tr>\n",
       "    <tr>\n",
       "      <th>2</th>\n",
       "      <td>201629056</td>\n",
       "      <td>2017-2018</td>\n",
       "      <td>2</td>\n",
       "      <td>53.272727</td>\n",
       "      <td>3</td>\n",
       "      <td>1</td>\n",
       "      <td>329</td>\n",
       "      <td>8101</td>\n",
       "      <td>2016</td>\n",
       "      <td>男</td>\n",
       "      <td>1.0</td>\n",
       "    </tr>\n",
       "  </tbody>\n",
       "</table>\n",
       "</div>"
      ],
      "text/plain": [
       "          xh         xn  xq  avg_score  fail_count fail faculty specialty  \\\n",
       "0  201434063  2017-2018   1  66.111111           0    0     339      6915   \n",
       "1  201505099  2017-2018   1  33.880000          17    1     301      5028   \n",
       "2  201629056  2017-2018   2  53.272727           3    1     329      8101   \n",
       "\n",
       "   sznj sex  nation  \n",
       "0  2014   男     1.0  \n",
       "1  2015   女     1.0  \n",
       "2  2016   男     1.0  "
      ]
     },
     "execution_count": 104,
     "metadata": {},
     "output_type": "execute_result"
    }
   ],
   "source": [
    "score.head(3)"
   ]
  },
  {
   "cell_type": "markdown",
   "metadata": {},
   "source": [
    "### 3.3.3 合并成绩表和网络行为表"
   ]
  },
  {
   "cell_type": "code",
   "execution_count": 105,
   "metadata": {
    "collapsed": true,
    "scrolled": true
   },
   "outputs": [],
   "source": [
    "df = pd.merge(score,network,on=['xh','xn','xq'])"
   ]
  },
  {
   "cell_type": "code",
   "execution_count": 106,
   "metadata": {
    "scrolled": true
   },
   "outputs": [
    {
     "data": {
      "text/html": [
       "<div>\n",
       "<style scoped>\n",
       "    .dataframe tbody tr th:only-of-type {\n",
       "        vertical-align: middle;\n",
       "    }\n",
       "\n",
       "    .dataframe tbody tr th {\n",
       "        vertical-align: top;\n",
       "    }\n",
       "\n",
       "    .dataframe thead th {\n",
       "        text-align: right;\n",
       "    }\n",
       "</style>\n",
       "<table border=\"1\" class=\"dataframe\">\n",
       "  <thead>\n",
       "    <tr style=\"text-align: right;\">\n",
       "      <th></th>\n",
       "      <th>xh</th>\n",
       "      <th>xn</th>\n",
       "      <th>xq</th>\n",
       "      <th>avg_score</th>\n",
       "      <th>fail_count</th>\n",
       "      <th>fail</th>\n",
       "      <th>faculty</th>\n",
       "      <th>specialty</th>\n",
       "      <th>sznj</th>\n",
       "      <th>sex</th>\n",
       "      <th>...</th>\n",
       "      <th>aft_count</th>\n",
       "      <th>eve_count</th>\n",
       "      <th>nig_count</th>\n",
       "      <th>Sun</th>\n",
       "      <th>Mon</th>\n",
       "      <th>Tue</th>\n",
       "      <th>Wed</th>\n",
       "      <th>Thu</th>\n",
       "      <th>Fri</th>\n",
       "      <th>Sat</th>\n",
       "    </tr>\n",
       "  </thead>\n",
       "  <tbody>\n",
       "    <tr>\n",
       "      <th>0</th>\n",
       "      <td>201695012</td>\n",
       "      <td>2018-2019</td>\n",
       "      <td>1</td>\n",
       "      <td>70.700000</td>\n",
       "      <td>0</td>\n",
       "      <td>0</td>\n",
       "      <td>352</td>\n",
       "      <td>6110</td>\n",
       "      <td>2016</td>\n",
       "      <td>女</td>\n",
       "      <td>...</td>\n",
       "      <td>0.190556</td>\n",
       "      <td>0.177778</td>\n",
       "      <td>0.048611</td>\n",
       "      <td>0.000000</td>\n",
       "      <td>0.0</td>\n",
       "      <td>0.096389</td>\n",
       "      <td>0.000000</td>\n",
       "      <td>0.000000</td>\n",
       "      <td>0.423889</td>\n",
       "      <td>0.0</td>\n",
       "    </tr>\n",
       "    <tr>\n",
       "      <th>1</th>\n",
       "      <td>201625017</td>\n",
       "      <td>2018-2019</td>\n",
       "      <td>1</td>\n",
       "      <td>86.384615</td>\n",
       "      <td>0</td>\n",
       "      <td>0</td>\n",
       "      <td>352</td>\n",
       "      <td>6110</td>\n",
       "      <td>2016</td>\n",
       "      <td>男</td>\n",
       "      <td>...</td>\n",
       "      <td>3.105556</td>\n",
       "      <td>6.030556</td>\n",
       "      <td>0.000000</td>\n",
       "      <td>1.474722</td>\n",
       "      <td>0.0</td>\n",
       "      <td>0.000000</td>\n",
       "      <td>5.623333</td>\n",
       "      <td>0.000000</td>\n",
       "      <td>2.038056</td>\n",
       "      <td>0.0</td>\n",
       "    </tr>\n",
       "    <tr>\n",
       "      <th>2</th>\n",
       "      <td>201675025</td>\n",
       "      <td>2018-2019</td>\n",
       "      <td>1</td>\n",
       "      <td>86.851852</td>\n",
       "      <td>0</td>\n",
       "      <td>0</td>\n",
       "      <td>352</td>\n",
       "      <td>6107</td>\n",
       "      <td>2016</td>\n",
       "      <td>男</td>\n",
       "      <td>...</td>\n",
       "      <td>4.202778</td>\n",
       "      <td>2.500556</td>\n",
       "      <td>0.550000</td>\n",
       "      <td>0.839444</td>\n",
       "      <td>0.0</td>\n",
       "      <td>0.000000</td>\n",
       "      <td>4.087778</td>\n",
       "      <td>0.435833</td>\n",
       "      <td>1.890278</td>\n",
       "      <td>0.0</td>\n",
       "    </tr>\n",
       "  </tbody>\n",
       "</table>\n",
       "<p>3 rows × 27 columns</p>\n",
       "</div>"
      ],
      "text/plain": [
       "          xh         xn  xq  avg_score  fail_count fail faculty specialty  \\\n",
       "0  201695012  2018-2019   1  70.700000           0    0     352      6110   \n",
       "1  201625017  2018-2019   1  86.384615           0    0     352      6110   \n",
       "2  201675025  2018-2019   1  86.851852           0    0     352      6107   \n",
       "\n",
       "   sznj sex  ...  aft_count  eve_count  nig_count       Sun  Mon       Tue  \\\n",
       "0  2016   女  ...   0.190556   0.177778   0.048611  0.000000  0.0  0.096389   \n",
       "1  2016   男  ...   3.105556   6.030556   0.000000  1.474722  0.0  0.000000   \n",
       "2  2016   男  ...   4.202778   2.500556   0.550000  0.839444  0.0  0.000000   \n",
       "\n",
       "        Wed       Thu       Fri  Sat  \n",
       "0  0.000000  0.000000  0.423889  0.0  \n",
       "1  5.623333  0.000000  2.038056  0.0  \n",
       "2  4.087778  0.435833  1.890278  0.0  \n",
       "\n",
       "[3 rows x 27 columns]"
      ]
     },
     "execution_count": 106,
     "metadata": {},
     "output_type": "execute_result"
    }
   ],
   "source": [
    "df.head(3)"
   ]
  },
  {
   "cell_type": "code",
   "execution_count": 107,
   "metadata": {},
   "outputs": [
    {
     "data": {
      "text/plain": [
       "(14947, 27)"
      ]
     },
     "execution_count": 107,
     "metadata": {},
     "output_type": "execute_result"
    }
   ],
   "source": [
    "df.shape"
   ]
  },
  {
   "cell_type": "code",
   "execution_count": 108,
   "metadata": {
    "scrolled": true
   },
   "outputs": [
    {
     "data": {
      "text/html": [
       "<div>\n",
       "<style scoped>\n",
       "    .dataframe tbody tr th:only-of-type {\n",
       "        vertical-align: middle;\n",
       "    }\n",
       "\n",
       "    .dataframe tbody tr th {\n",
       "        vertical-align: top;\n",
       "    }\n",
       "\n",
       "    .dataframe thead th {\n",
       "        text-align: right;\n",
       "    }\n",
       "</style>\n",
       "<table border=\"1\" class=\"dataframe\">\n",
       "  <thead>\n",
       "    <tr style=\"text-align: right;\">\n",
       "      <th></th>\n",
       "      <th>xh</th>\n",
       "      <th>xq</th>\n",
       "      <th>avg_score</th>\n",
       "      <th>fail_count</th>\n",
       "      <th>sznj</th>\n",
       "      <th>nation</th>\n",
       "      <th>game_time</th>\n",
       "      <th>vedio_time</th>\n",
       "      <th>live_time</th>\n",
       "      <th>vine_time</th>\n",
       "      <th>...</th>\n",
       "      <th>aft_count</th>\n",
       "      <th>eve_count</th>\n",
       "      <th>nig_count</th>\n",
       "      <th>Sun</th>\n",
       "      <th>Mon</th>\n",
       "      <th>Tue</th>\n",
       "      <th>Wed</th>\n",
       "      <th>Thu</th>\n",
       "      <th>Fri</th>\n",
       "      <th>Sat</th>\n",
       "    </tr>\n",
       "  </thead>\n",
       "  <tbody>\n",
       "    <tr>\n",
       "      <th>count</th>\n",
       "      <td>1.494700e+04</td>\n",
       "      <td>14947.000000</td>\n",
       "      <td>14947.000000</td>\n",
       "      <td>14947.000000</td>\n",
       "      <td>14947.000000</td>\n",
       "      <td>14947.0</td>\n",
       "      <td>14947.000000</td>\n",
       "      <td>14947.000000</td>\n",
       "      <td>14947.000000</td>\n",
       "      <td>14947.000000</td>\n",
       "      <td>...</td>\n",
       "      <td>14947.000000</td>\n",
       "      <td>14947.000000</td>\n",
       "      <td>14947.000000</td>\n",
       "      <td>14947.000000</td>\n",
       "      <td>14947.000000</td>\n",
       "      <td>14947.000000</td>\n",
       "      <td>14947.000000</td>\n",
       "      <td>14947.000000</td>\n",
       "      <td>14947.000000</td>\n",
       "      <td>14947.000000</td>\n",
       "    </tr>\n",
       "    <tr>\n",
       "      <th>mean</th>\n",
       "      <td>2.016849e+08</td>\n",
       "      <td>1.125376</td>\n",
       "      <td>76.703955</td>\n",
       "      <td>0.709641</td>\n",
       "      <td>2016.456948</td>\n",
       "      <td>1.0</td>\n",
       "      <td>5.446376</td>\n",
       "      <td>1.230916</td>\n",
       "      <td>0.028598</td>\n",
       "      <td>0.019610</td>\n",
       "      <td>...</td>\n",
       "      <td>2.709687</td>\n",
       "      <td>2.035299</td>\n",
       "      <td>0.696049</td>\n",
       "      <td>1.194398</td>\n",
       "      <td>0.667417</td>\n",
       "      <td>0.318901</td>\n",
       "      <td>1.994713</td>\n",
       "      <td>1.180553</td>\n",
       "      <td>0.915302</td>\n",
       "      <td>0.454215</td>\n",
       "    </tr>\n",
       "    <tr>\n",
       "      <th>std</th>\n",
       "      <td>1.182589e+05</td>\n",
       "      <td>0.363702</td>\n",
       "      <td>14.124016</td>\n",
       "      <td>2.049237</td>\n",
       "      <td>1.146649</td>\n",
       "      <td>0.0</td>\n",
       "      <td>19.883319</td>\n",
       "      <td>5.568528</td>\n",
       "      <td>0.428363</td>\n",
       "      <td>0.540095</td>\n",
       "      <td>...</td>\n",
       "      <td>9.768659</td>\n",
       "      <td>5.135436</td>\n",
       "      <td>3.085488</td>\n",
       "      <td>4.073495</td>\n",
       "      <td>2.970813</td>\n",
       "      <td>2.547573</td>\n",
       "      <td>5.136511</td>\n",
       "      <td>3.705707</td>\n",
       "      <td>3.865744</td>\n",
       "      <td>3.297188</td>\n",
       "    </tr>\n",
       "    <tr>\n",
       "      <th>min</th>\n",
       "      <td>2.014000e+08</td>\n",
       "      <td>1.000000</td>\n",
       "      <td>0.000000</td>\n",
       "      <td>0.000000</td>\n",
       "      <td>2014.000000</td>\n",
       "      <td>1.0</td>\n",
       "      <td>0.000000</td>\n",
       "      <td>0.000000</td>\n",
       "      <td>0.000000</td>\n",
       "      <td>0.000000</td>\n",
       "      <td>...</td>\n",
       "      <td>0.000000</td>\n",
       "      <td>0.000000</td>\n",
       "      <td>0.000000</td>\n",
       "      <td>0.000000</td>\n",
       "      <td>0.000000</td>\n",
       "      <td>0.000000</td>\n",
       "      <td>0.000000</td>\n",
       "      <td>0.000000</td>\n",
       "      <td>0.000000</td>\n",
       "      <td>0.000000</td>\n",
       "    </tr>\n",
       "    <tr>\n",
       "      <th>25%</th>\n",
       "      <td>2.015980e+08</td>\n",
       "      <td>1.000000</td>\n",
       "      <td>72.447542</td>\n",
       "      <td>0.000000</td>\n",
       "      <td>2015.000000</td>\n",
       "      <td>1.0</td>\n",
       "      <td>0.000000</td>\n",
       "      <td>0.000278</td>\n",
       "      <td>0.000000</td>\n",
       "      <td>0.000000</td>\n",
       "      <td>...</td>\n",
       "      <td>0.000000</td>\n",
       "      <td>0.000000</td>\n",
       "      <td>0.000000</td>\n",
       "      <td>0.000000</td>\n",
       "      <td>0.000000</td>\n",
       "      <td>0.000000</td>\n",
       "      <td>0.000000</td>\n",
       "      <td>0.000000</td>\n",
       "      <td>0.000000</td>\n",
       "      <td>0.000000</td>\n",
       "    </tr>\n",
       "    <tr>\n",
       "      <th>50%</th>\n",
       "      <td>2.016941e+08</td>\n",
       "      <td>1.000000</td>\n",
       "      <td>80.055556</td>\n",
       "      <td>0.000000</td>\n",
       "      <td>2016.000000</td>\n",
       "      <td>1.0</td>\n",
       "      <td>0.398889</td>\n",
       "      <td>0.014167</td>\n",
       "      <td>0.000000</td>\n",
       "      <td>0.000000</td>\n",
       "      <td>...</td>\n",
       "      <td>0.188611</td>\n",
       "      <td>0.117778</td>\n",
       "      <td>0.000000</td>\n",
       "      <td>0.000278</td>\n",
       "      <td>0.000000</td>\n",
       "      <td>0.000000</td>\n",
       "      <td>0.034444</td>\n",
       "      <td>0.000000</td>\n",
       "      <td>0.000000</td>\n",
       "      <td>0.000000</td>\n",
       "    </tr>\n",
       "    <tr>\n",
       "      <th>75%</th>\n",
       "      <td>2.017894e+08</td>\n",
       "      <td>1.000000</td>\n",
       "      <td>85.704793</td>\n",
       "      <td>0.000000</td>\n",
       "      <td>2017.000000</td>\n",
       "      <td>1.0</td>\n",
       "      <td>5.308333</td>\n",
       "      <td>0.679028</td>\n",
       "      <td>0.000000</td>\n",
       "      <td>0.000000</td>\n",
       "      <td>...</td>\n",
       "      <td>2.400139</td>\n",
       "      <td>2.329722</td>\n",
       "      <td>0.475972</td>\n",
       "      <td>0.865833</td>\n",
       "      <td>0.035972</td>\n",
       "      <td>0.000000</td>\n",
       "      <td>1.722083</td>\n",
       "      <td>0.894722</td>\n",
       "      <td>0.413333</td>\n",
       "      <td>0.000000</td>\n",
       "    </tr>\n",
       "    <tr>\n",
       "      <th>max</th>\n",
       "      <td>2.018994e+08</td>\n",
       "      <td>3.000000</td>\n",
       "      <td>100.000000</td>\n",
       "      <td>26.000000</td>\n",
       "      <td>2018.000000</td>\n",
       "      <td>1.0</td>\n",
       "      <td>984.606389</td>\n",
       "      <td>272.251944</td>\n",
       "      <td>26.109444</td>\n",
       "      <td>48.254167</td>\n",
       "      <td>...</td>\n",
       "      <td>477.422500</td>\n",
       "      <td>194.907500</td>\n",
       "      <td>163.566389</td>\n",
       "      <td>187.405000</td>\n",
       "      <td>145.312778</td>\n",
       "      <td>149.048889</td>\n",
       "      <td>123.999444</td>\n",
       "      <td>134.548611</td>\n",
       "      <td>140.591667</td>\n",
       "      <td>128.857500</td>\n",
       "    </tr>\n",
       "  </tbody>\n",
       "</table>\n",
       "<p>8 rows × 22 columns</p>\n",
       "</div>"
      ],
      "text/plain": [
       "                 xh            xq     avg_score    fail_count          sznj  \\\n",
       "count  1.494700e+04  14947.000000  14947.000000  14947.000000  14947.000000   \n",
       "mean   2.016849e+08      1.125376     76.703955      0.709641   2016.456948   \n",
       "std    1.182589e+05      0.363702     14.124016      2.049237      1.146649   \n",
       "min    2.014000e+08      1.000000      0.000000      0.000000   2014.000000   \n",
       "25%    2.015980e+08      1.000000     72.447542      0.000000   2015.000000   \n",
       "50%    2.016941e+08      1.000000     80.055556      0.000000   2016.000000   \n",
       "75%    2.017894e+08      1.000000     85.704793      0.000000   2017.000000   \n",
       "max    2.018994e+08      3.000000    100.000000     26.000000   2018.000000   \n",
       "\n",
       "        nation     game_time    vedio_time     live_time     vine_time  ...  \\\n",
       "count  14947.0  14947.000000  14947.000000  14947.000000  14947.000000  ...   \n",
       "mean       1.0      5.446376      1.230916      0.028598      0.019610  ...   \n",
       "std        0.0     19.883319      5.568528      0.428363      0.540095  ...   \n",
       "min        1.0      0.000000      0.000000      0.000000      0.000000  ...   \n",
       "25%        1.0      0.000000      0.000278      0.000000      0.000000  ...   \n",
       "50%        1.0      0.398889      0.014167      0.000000      0.000000  ...   \n",
       "75%        1.0      5.308333      0.679028      0.000000      0.000000  ...   \n",
       "max        1.0    984.606389    272.251944     26.109444     48.254167  ...   \n",
       "\n",
       "          aft_count     eve_count     nig_count           Sun           Mon  \\\n",
       "count  14947.000000  14947.000000  14947.000000  14947.000000  14947.000000   \n",
       "mean       2.709687      2.035299      0.696049      1.194398      0.667417   \n",
       "std        9.768659      5.135436      3.085488      4.073495      2.970813   \n",
       "min        0.000000      0.000000      0.000000      0.000000      0.000000   \n",
       "25%        0.000000      0.000000      0.000000      0.000000      0.000000   \n",
       "50%        0.188611      0.117778      0.000000      0.000278      0.000000   \n",
       "75%        2.400139      2.329722      0.475972      0.865833      0.035972   \n",
       "max      477.422500    194.907500    163.566389    187.405000    145.312778   \n",
       "\n",
       "                Tue           Wed           Thu           Fri           Sat  \n",
       "count  14947.000000  14947.000000  14947.000000  14947.000000  14947.000000  \n",
       "mean       0.318901      1.994713      1.180553      0.915302      0.454215  \n",
       "std        2.547573      5.136511      3.705707      3.865744      3.297188  \n",
       "min        0.000000      0.000000      0.000000      0.000000      0.000000  \n",
       "25%        0.000000      0.000000      0.000000      0.000000      0.000000  \n",
       "50%        0.000000      0.034444      0.000000      0.000000      0.000000  \n",
       "75%        0.000000      1.722083      0.894722      0.413333      0.000000  \n",
       "max      149.048889    123.999444    134.548611    140.591667    128.857500  \n",
       "\n",
       "[8 rows x 22 columns]"
      ]
     },
     "execution_count": 108,
     "metadata": {},
     "output_type": "execute_result"
    }
   ],
   "source": [
    "df.describe()"
   ]
  },
  {
   "cell_type": "code",
   "execution_count": 109,
   "metadata": {
    "collapsed": true
   },
   "outputs": [],
   "source": [
    "import seaborn"
   ]
  },
  {
   "cell_type": "code",
   "execution_count": 110,
   "metadata": {
    "scrolled": true
   },
   "outputs": [
    {
     "data": {
      "text/plain": [
       "<matplotlib.axes._subplots.AxesSubplot at 0x20b911e2390>"
      ]
     },
     "execution_count": 110,
     "metadata": {},
     "output_type": "execute_result"
    },
    {
     "data": {
      "image/png": "[encoded data removed]",
      "text/plain": [
       "<Figure size 432x288 with 2 Axes>"
      ]
     },
     "metadata": {
      "needs_background": "light"
     },
     "output_type": "display_data"
    }
   ],
   "source": [
    "seaborn.heatmap(df.corr())"
   ]
  },
  {
   "cell_type": "code",
   "execution_count": 111,
   "metadata": {
    "scrolled": true
   },
   "outputs": [
    {
     "data": {
      "text/html": [
       "<div>\n",
       "<style scoped>\n",
       "    .dataframe tbody tr th:only-of-type {\n",
       "        vertical-align: middle;\n",
       "    }\n",
       "\n",
       "    .dataframe tbody tr th {\n",
       "        vertical-align: top;\n",
       "    }\n",
       "\n",
       "    .dataframe thead th {\n",
       "        text-align: right;\n",
       "    }\n",
       "</style>\n",
       "<table border=\"1\" class=\"dataframe\">\n",
       "  <thead>\n",
       "    <tr style=\"text-align: right;\">\n",
       "      <th></th>\n",
       "      <th>xh</th>\n",
       "      <th>xq</th>\n",
       "      <th>avg_score</th>\n",
       "      <th>fail_count</th>\n",
       "      <th>sznj</th>\n",
       "      <th>nation</th>\n",
       "      <th>game_time</th>\n",
       "      <th>vedio_time</th>\n",
       "      <th>live_time</th>\n",
       "      <th>vine_time</th>\n",
       "      <th>...</th>\n",
       "      <th>aft_count</th>\n",
       "      <th>eve_count</th>\n",
       "      <th>nig_count</th>\n",
       "      <th>Sun</th>\n",
       "      <th>Mon</th>\n",
       "      <th>Tue</th>\n",
       "      <th>Wed</th>\n",
       "      <th>Thu</th>\n",
       "      <th>Fri</th>\n",
       "      <th>Sat</th>\n",
       "    </tr>\n",
       "  </thead>\n",
       "  <tbody>\n",
       "    <tr>\n",
       "      <th>xh</th>\n",
       "      <td>1.000000</td>\n",
       "      <td>0.000172</td>\n",
       "      <td>0.110457</td>\n",
       "      <td>-0.105174</td>\n",
       "      <td>0.973769</td>\n",
       "      <td>NaN</td>\n",
       "      <td>-0.059336</td>\n",
       "      <td>-0.100592</td>\n",
       "      <td>-0.027830</td>\n",
       "      <td>-0.004088</td>\n",
       "      <td>...</td>\n",
       "      <td>-0.078278</td>\n",
       "      <td>-0.078092</td>\n",
       "      <td>-0.056879</td>\n",
       "      <td>-0.079904</td>\n",
       "      <td>-0.057674</td>\n",
       "      <td>-0.045882</td>\n",
       "      <td>-0.123973</td>\n",
       "      <td>-0.084006</td>\n",
       "      <td>-0.020509</td>\n",
       "      <td>-0.034270</td>\n",
       "    </tr>\n",
       "    <tr>\n",
       "      <th>xq</th>\n",
       "      <td>0.000172</td>\n",
       "      <td>1.000000</td>\n",
       "      <td>0.067353</td>\n",
       "      <td>-0.109688</td>\n",
       "      <td>0.001393</td>\n",
       "      <td>NaN</td>\n",
       "      <td>-0.031454</td>\n",
       "      <td>0.120118</td>\n",
       "      <td>0.160556</td>\n",
       "      <td>0.069285</td>\n",
       "      <td>...</td>\n",
       "      <td>-0.002482</td>\n",
       "      <td>-0.022158</td>\n",
       "      <td>0.057703</td>\n",
       "      <td>0.018017</td>\n",
       "      <td>0.015257</td>\n",
       "      <td>0.026204</td>\n",
       "      <td>-0.085162</td>\n",
       "      <td>0.019338</td>\n",
       "      <td>-0.014459</td>\n",
       "      <td>0.117025</td>\n",
       "    </tr>\n",
       "    <tr>\n",
       "      <th>avg_score</th>\n",
       "      <td>0.110457</td>\n",
       "      <td>0.067353</td>\n",
       "      <td>1.000000</td>\n",
       "      <td>-0.780122</td>\n",
       "      <td>0.114460</td>\n",
       "      <td>NaN</td>\n",
       "      <td>-0.093781</td>\n",
       "      <td>-0.027731</td>\n",
       "      <td>0.001859</td>\n",
       "      <td>-0.005718</td>\n",
       "      <td>...</td>\n",
       "      <td>-0.092847</td>\n",
       "      <td>-0.103105</td>\n",
       "      <td>-0.076447</td>\n",
       "      <td>-0.078778</td>\n",
       "      <td>-0.080690</td>\n",
       "      <td>-0.036096</td>\n",
       "      <td>-0.137808</td>\n",
       "      <td>-0.095020</td>\n",
       "      <td>-0.058270</td>\n",
       "      <td>-0.025354</td>\n",
       "    </tr>\n",
       "    <tr>\n",
       "      <th>fail_count</th>\n",
       "      <td>-0.105174</td>\n",
       "      <td>-0.109688</td>\n",
       "      <td>-0.780122</td>\n",
       "      <td>1.000000</td>\n",
       "      <td>-0.107628</td>\n",
       "      <td>NaN</td>\n",
       "      <td>0.074018</td>\n",
       "      <td>0.017528</td>\n",
       "      <td>-0.020249</td>\n",
       "      <td>0.009935</td>\n",
       "      <td>...</td>\n",
       "      <td>0.076408</td>\n",
       "      <td>0.081242</td>\n",
       "      <td>0.051312</td>\n",
       "      <td>0.058898</td>\n",
       "      <td>0.055851</td>\n",
       "      <td>0.026476</td>\n",
       "      <td>0.120178</td>\n",
       "      <td>0.080692</td>\n",
       "      <td>0.044963</td>\n",
       "      <td>0.000786</td>\n",
       "    </tr>\n",
       "    <tr>\n",
       "      <th>sznj</th>\n",
       "      <td>0.973769</td>\n",
       "      <td>0.001393</td>\n",
       "      <td>0.114460</td>\n",
       "      <td>-0.107628</td>\n",
       "      <td>1.000000</td>\n",
       "      <td>NaN</td>\n",
       "      <td>-0.062058</td>\n",
       "      <td>-0.102025</td>\n",
       "      <td>-0.029901</td>\n",
       "      <td>-0.002504</td>\n",
       "      <td>...</td>\n",
       "      <td>-0.081576</td>\n",
       "      <td>-0.080772</td>\n",
       "      <td>-0.058282</td>\n",
       "      <td>-0.081346</td>\n",
       "      <td>-0.059776</td>\n",
       "      <td>-0.048316</td>\n",
       "      <td>-0.127669</td>\n",
       "      <td>-0.087124</td>\n",
       "      <td>-0.023386</td>\n",
       "      <td>-0.034921</td>\n",
       "    </tr>\n",
       "    <tr>\n",
       "      <th>nation</th>\n",
       "      <td>NaN</td>\n",
       "      <td>NaN</td>\n",
       "      <td>NaN</td>\n",
       "      <td>NaN</td>\n",
       "      <td>NaN</td>\n",
       "      <td>NaN</td>\n",
       "      <td>NaN</td>\n",
       "      <td>NaN</td>\n",
       "      <td>NaN</td>\n",
       "      <td>NaN</td>\n",
       "      <td>...</td>\n",
       "      <td>NaN</td>\n",
       "      <td>NaN</td>\n",
       "      <td>NaN</td>\n",
       "      <td>NaN</td>\n",
       "      <td>NaN</td>\n",
       "      <td>NaN</td>\n",
       "      <td>NaN</td>\n",
       "      <td>NaN</td>\n",
       "      <td>NaN</td>\n",
       "      <td>NaN</td>\n",
       "    </tr>\n",
       "    <tr>\n",
       "      <th>game_time</th>\n",
       "      <td>-0.059336</td>\n",
       "      <td>-0.031454</td>\n",
       "      <td>-0.093781</td>\n",
       "      <td>0.074018</td>\n",
       "      <td>-0.062058</td>\n",
       "      <td>NaN</td>\n",
       "      <td>1.000000</td>\n",
       "      <td>0.001660</td>\n",
       "      <td>0.076445</td>\n",
       "      <td>0.028594</td>\n",
       "      <td>...</td>\n",
       "      <td>0.936851</td>\n",
       "      <td>0.856231</td>\n",
       "      <td>0.237336</td>\n",
       "      <td>0.826264</td>\n",
       "      <td>0.843327</td>\n",
       "      <td>0.790231</td>\n",
       "      <td>0.645775</td>\n",
       "      <td>0.766839</td>\n",
       "      <td>0.845242</td>\n",
       "      <td>0.797719</td>\n",
       "    </tr>\n",
       "    <tr>\n",
       "      <th>vedio_time</th>\n",
       "      <td>-0.100592</td>\n",
       "      <td>0.120118</td>\n",
       "      <td>-0.027731</td>\n",
       "      <td>0.017528</td>\n",
       "      <td>-0.102025</td>\n",
       "      <td>NaN</td>\n",
       "      <td>0.001660</td>\n",
       "      <td>1.000000</td>\n",
       "      <td>0.002956</td>\n",
       "      <td>-0.002372</td>\n",
       "      <td>...</td>\n",
       "      <td>0.181775</td>\n",
       "      <td>0.115201</td>\n",
       "      <td>0.661532</td>\n",
       "      <td>0.161444</td>\n",
       "      <td>0.188383</td>\n",
       "      <td>0.240303</td>\n",
       "      <td>0.313426</td>\n",
       "      <td>0.300086</td>\n",
       "      <td>0.136061</td>\n",
       "      <td>0.158956</td>\n",
       "    </tr>\n",
       "    <tr>\n",
       "      <th>live_time</th>\n",
       "      <td>-0.027830</td>\n",
       "      <td>0.160556</td>\n",
       "      <td>0.001859</td>\n",
       "      <td>-0.020249</td>\n",
       "      <td>-0.029901</td>\n",
       "      <td>NaN</td>\n",
       "      <td>0.076445</td>\n",
       "      <td>0.002956</td>\n",
       "      <td>1.000000</td>\n",
       "      <td>0.005307</td>\n",
       "      <td>...</td>\n",
       "      <td>0.082931</td>\n",
       "      <td>0.094211</td>\n",
       "      <td>0.029074</td>\n",
       "      <td>0.105328</td>\n",
       "      <td>0.066835</td>\n",
       "      <td>0.064730</td>\n",
       "      <td>0.009379</td>\n",
       "      <td>0.079547</td>\n",
       "      <td>0.039364</td>\n",
       "      <td>0.206250</td>\n",
       "    </tr>\n",
       "    <tr>\n",
       "      <th>vine_time</th>\n",
       "      <td>-0.004088</td>\n",
       "      <td>0.069285</td>\n",
       "      <td>-0.005718</td>\n",
       "      <td>0.009935</td>\n",
       "      <td>-0.002504</td>\n",
       "      <td>NaN</td>\n",
       "      <td>0.028594</td>\n",
       "      <td>-0.002372</td>\n",
       "      <td>0.005307</td>\n",
       "      <td>1.000000</td>\n",
       "      <td>...</td>\n",
       "      <td>0.046550</td>\n",
       "      <td>0.060990</td>\n",
       "      <td>0.027690</td>\n",
       "      <td>0.058978</td>\n",
       "      <td>0.066417</td>\n",
       "      <td>0.064534</td>\n",
       "      <td>0.016672</td>\n",
       "      <td>0.026292</td>\n",
       "      <td>0.020994</td>\n",
       "      <td>0.070220</td>\n",
       "    </tr>\n",
       "    <tr>\n",
       "      <th>total_time</th>\n",
       "      <td>-0.084676</td>\n",
       "      <td>0.007225</td>\n",
       "      <td>-0.097581</td>\n",
       "      <td>0.075598</td>\n",
       "      <td>-0.087676</td>\n",
       "      <td>NaN</td>\n",
       "      <td>0.962618</td>\n",
       "      <td>0.270407</td>\n",
       "      <td>0.094988</td>\n",
       "      <td>0.052991</td>\n",
       "      <td>...</td>\n",
       "      <td>0.951025</td>\n",
       "      <td>0.856355</td>\n",
       "      <td>0.406959</td>\n",
       "      <td>0.840200</td>\n",
       "      <td>0.863218</td>\n",
       "      <td>0.826117</td>\n",
       "      <td>0.704727</td>\n",
       "      <td>0.819045</td>\n",
       "      <td>0.849238</td>\n",
       "      <td>0.814513</td>\n",
       "    </tr>\n",
       "    <tr>\n",
       "      <th>mor_count</th>\n",
       "      <td>-0.062498</td>\n",
       "      <td>0.016599</td>\n",
       "      <td>-0.052835</td>\n",
       "      <td>0.036947</td>\n",
       "      <td>-0.064288</td>\n",
       "      <td>NaN</td>\n",
       "      <td>0.856715</td>\n",
       "      <td>0.180599</td>\n",
       "      <td>0.088408</td>\n",
       "      <td>0.036985</td>\n",
       "      <td>...</td>\n",
       "      <td>0.775321</td>\n",
       "      <td>0.637297</td>\n",
       "      <td>0.209077</td>\n",
       "      <td>0.752338</td>\n",
       "      <td>0.750630</td>\n",
       "      <td>0.740182</td>\n",
       "      <td>0.595241</td>\n",
       "      <td>0.676318</td>\n",
       "      <td>0.735568</td>\n",
       "      <td>0.761362</td>\n",
       "    </tr>\n",
       "    <tr>\n",
       "      <th>aft_count</th>\n",
       "      <td>-0.078278</td>\n",
       "      <td>-0.002482</td>\n",
       "      <td>-0.092847</td>\n",
       "      <td>0.076408</td>\n",
       "      <td>-0.081576</td>\n",
       "      <td>NaN</td>\n",
       "      <td>0.936851</td>\n",
       "      <td>0.181775</td>\n",
       "      <td>0.082931</td>\n",
       "      <td>0.046550</td>\n",
       "      <td>...</td>\n",
       "      <td>1.000000</td>\n",
       "      <td>0.776073</td>\n",
       "      <td>0.267251</td>\n",
       "      <td>0.787615</td>\n",
       "      <td>0.824133</td>\n",
       "      <td>0.796401</td>\n",
       "      <td>0.660618</td>\n",
       "      <td>0.775821</td>\n",
       "      <td>0.815493</td>\n",
       "      <td>0.786818</td>\n",
       "    </tr>\n",
       "    <tr>\n",
       "      <th>eve_count</th>\n",
       "      <td>-0.078092</td>\n",
       "      <td>-0.022158</td>\n",
       "      <td>-0.103105</td>\n",
       "      <td>0.081242</td>\n",
       "      <td>-0.080772</td>\n",
       "      <td>NaN</td>\n",
       "      <td>0.856231</td>\n",
       "      <td>0.115201</td>\n",
       "      <td>0.094211</td>\n",
       "      <td>0.060990</td>\n",
       "      <td>...</td>\n",
       "      <td>0.776073</td>\n",
       "      <td>1.000000</td>\n",
       "      <td>0.263432</td>\n",
       "      <td>0.743999</td>\n",
       "      <td>0.741591</td>\n",
       "      <td>0.671405</td>\n",
       "      <td>0.589056</td>\n",
       "      <td>0.746443</td>\n",
       "      <td>0.737638</td>\n",
       "      <td>0.652657</td>\n",
       "    </tr>\n",
       "    <tr>\n",
       "      <th>nig_count</th>\n",
       "      <td>-0.056879</td>\n",
       "      <td>0.057703</td>\n",
       "      <td>-0.076447</td>\n",
       "      <td>0.051312</td>\n",
       "      <td>-0.058282</td>\n",
       "      <td>NaN</td>\n",
       "      <td>0.237336</td>\n",
       "      <td>0.661532</td>\n",
       "      <td>0.029074</td>\n",
       "      <td>0.027690</td>\n",
       "      <td>...</td>\n",
       "      <td>0.267251</td>\n",
       "      <td>0.263432</td>\n",
       "      <td>1.000000</td>\n",
       "      <td>0.298210</td>\n",
       "      <td>0.344789</td>\n",
       "      <td>0.322693</td>\n",
       "      <td>0.384982</td>\n",
       "      <td>0.352210</td>\n",
       "      <td>0.317119</td>\n",
       "      <td>0.260980</td>\n",
       "    </tr>\n",
       "    <tr>\n",
       "      <th>Sun</th>\n",
       "      <td>-0.079904</td>\n",
       "      <td>0.018017</td>\n",
       "      <td>-0.078778</td>\n",
       "      <td>0.058898</td>\n",
       "      <td>-0.081346</td>\n",
       "      <td>NaN</td>\n",
       "      <td>0.826264</td>\n",
       "      <td>0.161444</td>\n",
       "      <td>0.105328</td>\n",
       "      <td>0.058978</td>\n",
       "      <td>...</td>\n",
       "      <td>0.787615</td>\n",
       "      <td>0.743999</td>\n",
       "      <td>0.298210</td>\n",
       "      <td>1.000000</td>\n",
       "      <td>0.737472</td>\n",
       "      <td>0.668440</td>\n",
       "      <td>0.457062</td>\n",
       "      <td>0.612021</td>\n",
       "      <td>0.654625</td>\n",
       "      <td>0.694919</td>\n",
       "    </tr>\n",
       "    <tr>\n",
       "      <th>Mon</th>\n",
       "      <td>-0.057674</td>\n",
       "      <td>0.015257</td>\n",
       "      <td>-0.080690</td>\n",
       "      <td>0.055851</td>\n",
       "      <td>-0.059776</td>\n",
       "      <td>NaN</td>\n",
       "      <td>0.843327</td>\n",
       "      <td>0.188383</td>\n",
       "      <td>0.066835</td>\n",
       "      <td>0.066417</td>\n",
       "      <td>...</td>\n",
       "      <td>0.824133</td>\n",
       "      <td>0.741591</td>\n",
       "      <td>0.344789</td>\n",
       "      <td>0.737472</td>\n",
       "      <td>1.000000</td>\n",
       "      <td>0.734911</td>\n",
       "      <td>0.498652</td>\n",
       "      <td>0.666833</td>\n",
       "      <td>0.714024</td>\n",
       "      <td>0.679932</td>\n",
       "    </tr>\n",
       "    <tr>\n",
       "      <th>Tue</th>\n",
       "      <td>-0.045882</td>\n",
       "      <td>0.026204</td>\n",
       "      <td>-0.036096</td>\n",
       "      <td>0.026476</td>\n",
       "      <td>-0.048316</td>\n",
       "      <td>NaN</td>\n",
       "      <td>0.790231</td>\n",
       "      <td>0.240303</td>\n",
       "      <td>0.064730</td>\n",
       "      <td>0.064534</td>\n",
       "      <td>...</td>\n",
       "      <td>0.796401</td>\n",
       "      <td>0.671405</td>\n",
       "      <td>0.322693</td>\n",
       "      <td>0.668440</td>\n",
       "      <td>0.734911</td>\n",
       "      <td>1.000000</td>\n",
       "      <td>0.449519</td>\n",
       "      <td>0.617044</td>\n",
       "      <td>0.703372</td>\n",
       "      <td>0.711144</td>\n",
       "    </tr>\n",
       "    <tr>\n",
       "      <th>Wed</th>\n",
       "      <td>-0.123973</td>\n",
       "      <td>-0.085162</td>\n",
       "      <td>-0.137808</td>\n",
       "      <td>0.120178</td>\n",
       "      <td>-0.127669</td>\n",
       "      <td>NaN</td>\n",
       "      <td>0.645775</td>\n",
       "      <td>0.313426</td>\n",
       "      <td>0.009379</td>\n",
       "      <td>0.016672</td>\n",
       "      <td>...</td>\n",
       "      <td>0.660618</td>\n",
       "      <td>0.589056</td>\n",
       "      <td>0.384982</td>\n",
       "      <td>0.457062</td>\n",
       "      <td>0.498652</td>\n",
       "      <td>0.449519</td>\n",
       "      <td>1.000000</td>\n",
       "      <td>0.523966</td>\n",
       "      <td>0.452524</td>\n",
       "      <td>0.388985</td>\n",
       "    </tr>\n",
       "    <tr>\n",
       "      <th>Thu</th>\n",
       "      <td>-0.084006</td>\n",
       "      <td>0.019338</td>\n",
       "      <td>-0.095020</td>\n",
       "      <td>0.080692</td>\n",
       "      <td>-0.087124</td>\n",
       "      <td>NaN</td>\n",
       "      <td>0.766839</td>\n",
       "      <td>0.300086</td>\n",
       "      <td>0.079547</td>\n",
       "      <td>0.026292</td>\n",
       "      <td>...</td>\n",
       "      <td>0.775821</td>\n",
       "      <td>0.746443</td>\n",
       "      <td>0.352210</td>\n",
       "      <td>0.612021</td>\n",
       "      <td>0.666833</td>\n",
       "      <td>0.617044</td>\n",
       "      <td>0.523966</td>\n",
       "      <td>1.000000</td>\n",
       "      <td>0.670073</td>\n",
       "      <td>0.586304</td>\n",
       "    </tr>\n",
       "    <tr>\n",
       "      <th>Fri</th>\n",
       "      <td>-0.020509</td>\n",
       "      <td>-0.014459</td>\n",
       "      <td>-0.058270</td>\n",
       "      <td>0.044963</td>\n",
       "      <td>-0.023386</td>\n",
       "      <td>NaN</td>\n",
       "      <td>0.845242</td>\n",
       "      <td>0.136061</td>\n",
       "      <td>0.039364</td>\n",
       "      <td>0.020994</td>\n",
       "      <td>...</td>\n",
       "      <td>0.815493</td>\n",
       "      <td>0.737638</td>\n",
       "      <td>0.317119</td>\n",
       "      <td>0.654625</td>\n",
       "      <td>0.714024</td>\n",
       "      <td>0.703372</td>\n",
       "      <td>0.452524</td>\n",
       "      <td>0.670073</td>\n",
       "      <td>1.000000</td>\n",
       "      <td>0.709425</td>\n",
       "    </tr>\n",
       "    <tr>\n",
       "      <th>Sat</th>\n",
       "      <td>-0.034270</td>\n",
       "      <td>0.117025</td>\n",
       "      <td>-0.025354</td>\n",
       "      <td>0.000786</td>\n",
       "      <td>-0.034921</td>\n",
       "      <td>NaN</td>\n",
       "      <td>0.797719</td>\n",
       "      <td>0.158956</td>\n",
       "      <td>0.206250</td>\n",
       "      <td>0.070220</td>\n",
       "      <td>...</td>\n",
       "      <td>0.786818</td>\n",
       "      <td>0.652657</td>\n",
       "      <td>0.260980</td>\n",
       "      <td>0.694919</td>\n",
       "      <td>0.679932</td>\n",
       "      <td>0.711144</td>\n",
       "      <td>0.388985</td>\n",
       "      <td>0.586304</td>\n",
       "      <td>0.709425</td>\n",
       "      <td>1.000000</td>\n",
       "    </tr>\n",
       "  </tbody>\n",
       "</table>\n",
       "<p>22 rows × 22 columns</p>\n",
       "</div>"
      ],
      "text/plain": [
       "                  xh        xq  avg_score  fail_count      sznj  nation  \\\n",
       "xh          1.000000  0.000172   0.110457   -0.105174  0.973769     NaN   \n",
       "xq          0.000172  1.000000   0.067353   -0.109688  0.001393     NaN   \n",
       "avg_score   0.110457  0.067353   1.000000   -0.780122  0.114460     NaN   \n",
       "fail_count -0.105174 -0.109688  -0.780122    1.000000 -0.107628     NaN   \n",
       "sznj        0.973769  0.001393   0.114460   -0.107628  1.000000     NaN   \n",
       "nation           NaN       NaN        NaN         NaN       NaN     NaN   \n",
       "game_time  -0.059336 -0.031454  -0.093781    0.074018 -0.062058     NaN   \n",
       "vedio_time -0.100592  0.120118  -0.027731    0.017528 -0.102025     NaN   \n",
       "live_time  -0.027830  0.160556   0.001859   -0.020249 -0.029901     NaN   \n",
       "vine_time  -0.004088  0.069285  -0.005718    0.009935 -0.002504     NaN   \n",
       "total_time -0.084676  0.007225  -0.097581    0.075598 -0.087676     NaN   \n",
       "mor_count  -0.062498  0.016599  -0.052835    0.036947 -0.064288     NaN   \n",
       "aft_count  -0.078278 -0.002482  -0.092847    0.076408 -0.081576     NaN   \n",
       "eve_count  -0.078092 -0.022158  -0.103105    0.081242 -0.080772     NaN   \n",
       "nig_count  -0.056879  0.057703  -0.076447    0.051312 -0.058282     NaN   \n",
       "Sun        -0.079904  0.018017  -0.078778    0.058898 -0.081346     NaN   \n",
       "Mon        -0.057674  0.015257  -0.080690    0.055851 -0.059776     NaN   \n",
       "Tue        -0.045882  0.026204  -0.036096    0.026476 -0.048316     NaN   \n",
       "Wed        -0.123973 -0.085162  -0.137808    0.120178 -0.127669     NaN   \n",
       "Thu        -0.084006  0.019338  -0.095020    0.080692 -0.087124     NaN   \n",
       "Fri        -0.020509 -0.014459  -0.058270    0.044963 -0.023386     NaN   \n",
       "Sat        -0.034270  0.117025  -0.025354    0.000786 -0.034921     NaN   \n",
       "\n",
       "            game_time  vedio_time  live_time  vine_time  ...  aft_count  \\\n",
       "xh          -0.059336   -0.100592  -0.027830  -0.004088  ...  -0.078278   \n",
       "xq          -0.031454    0.120118   0.160556   0.069285  ...  -0.002482   \n",
       "avg_score   -0.093781   -0.027731   0.001859  -0.005718  ...  -0.092847   \n",
       "fail_count   0.074018    0.017528  -0.020249   0.009935  ...   0.076408   \n",
       "sznj        -0.062058   -0.102025  -0.029901  -0.002504  ...  -0.081576   \n",
       "nation            NaN         NaN        NaN        NaN  ...        NaN   \n",
       "game_time    1.000000    0.001660   0.076445   0.028594  ...   0.936851   \n",
       "vedio_time   0.001660    1.000000   0.002956  -0.002372  ...   0.181775   \n",
       "live_time    0.076445    0.002956   1.000000   0.005307  ...   0.082931   \n",
       "vine_time    0.028594   -0.002372   0.005307   1.000000  ...   0.046550   \n",
       "total_time   0.962618    0.270407   0.094988   0.052991  ...   0.951025   \n",
       "mor_count    0.856715    0.180599   0.088408   0.036985  ...   0.775321   \n",
       "aft_count    0.936851    0.181775   0.082931   0.046550  ...   1.000000   \n",
       "eve_count    0.856231    0.115201   0.094211   0.060990  ...   0.776073   \n",
       "nig_count    0.237336    0.661532   0.029074   0.027690  ...   0.267251   \n",
       "Sun          0.826264    0.161444   0.105328   0.058978  ...   0.787615   \n",
       "Mon          0.843327    0.188383   0.066835   0.066417  ...   0.824133   \n",
       "Tue          0.790231    0.240303   0.064730   0.064534  ...   0.796401   \n",
       "Wed          0.645775    0.313426   0.009379   0.016672  ...   0.660618   \n",
       "Thu          0.766839    0.300086   0.079547   0.026292  ...   0.775821   \n",
       "Fri          0.845242    0.136061   0.039364   0.020994  ...   0.815493   \n",
       "Sat          0.797719    0.158956   0.206250   0.070220  ...   0.786818   \n",
       "\n",
       "            eve_count  nig_count       Sun       Mon       Tue       Wed  \\\n",
       "xh          -0.078092  -0.056879 -0.079904 -0.057674 -0.045882 -0.123973   \n",
       "xq          -0.022158   0.057703  0.018017  0.015257  0.026204 -0.085162   \n",
       "avg_score   -0.103105  -0.076447 -0.078778 -0.080690 -0.036096 -0.137808   \n",
       "fail_count   0.081242   0.051312  0.058898  0.055851  0.026476  0.120178   \n",
       "sznj        -0.080772  -0.058282 -0.081346 -0.059776 -0.048316 -0.127669   \n",
       "nation            NaN        NaN       NaN       NaN       NaN       NaN   \n",
       "game_time    0.856231   0.237336  0.826264  0.843327  0.790231  0.645775   \n",
       "vedio_time   0.115201   0.661532  0.161444  0.188383  0.240303  0.313426   \n",
       "live_time    0.094211   0.029074  0.105328  0.066835  0.064730  0.009379   \n",
       "vine_time    0.060990   0.027690  0.058978  0.066417  0.064534  0.016672   \n",
       "total_time   0.856355   0.406959  0.840200  0.863218  0.826117  0.704727   \n",
       "mor_count    0.637297   0.209077  0.752338  0.750630  0.740182  0.595241   \n",
       "aft_count    0.776073   0.267251  0.787615  0.824133  0.796401  0.660618   \n",
       "eve_count    1.000000   0.263432  0.743999  0.741591  0.671405  0.589056   \n",
       "nig_count    0.263432   1.000000  0.298210  0.344789  0.322693  0.384982   \n",
       "Sun          0.743999   0.298210  1.000000  0.737472  0.668440  0.457062   \n",
       "Mon          0.741591   0.344789  0.737472  1.000000  0.734911  0.498652   \n",
       "Tue          0.671405   0.322693  0.668440  0.734911  1.000000  0.449519   \n",
       "Wed          0.589056   0.384982  0.457062  0.498652  0.449519  1.000000   \n",
       "Thu          0.746443   0.352210  0.612021  0.666833  0.617044  0.523966   \n",
       "Fri          0.737638   0.317119  0.654625  0.714024  0.703372  0.452524   \n",
       "Sat          0.652657   0.260980  0.694919  0.679932  0.711144  0.388985   \n",
       "\n",
       "                 Thu       Fri       Sat  \n",
       "xh         -0.084006 -0.020509 -0.034270  \n",
       "xq          0.019338 -0.014459  0.117025  \n",
       "avg_score  -0.095020 -0.058270 -0.025354  \n",
       "fail_count  0.080692  0.044963  0.000786  \n",
       "sznj       -0.087124 -0.023386 -0.034921  \n",
       "nation           NaN       NaN       NaN  \n",
       "game_time   0.766839  0.845242  0.797719  \n",
       "vedio_time  0.300086  0.136061  0.158956  \n",
       "live_time   0.079547  0.039364  0.206250  \n",
       "vine_time   0.026292  0.020994  0.070220  \n",
       "total_time  0.819045  0.849238  0.814513  \n",
       "mor_count   0.676318  0.735568  0.761362  \n",
       "aft_count   0.775821  0.815493  0.786818  \n",
       "eve_count   0.746443  0.737638  0.652657  \n",
       "nig_count   0.352210  0.317119  0.260980  \n",
       "Sun         0.612021  0.654625  0.694919  \n",
       "Mon         0.666833  0.714024  0.679932  \n",
       "Tue         0.617044  0.703372  0.711144  \n",
       "Wed         0.523966  0.452524  0.388985  \n",
       "Thu         1.000000  0.670073  0.586304  \n",
       "Fri         0.670073  1.000000  0.709425  \n",
       "Sat         0.586304  0.709425  1.000000  \n",
       "\n",
       "[22 rows x 22 columns]"
      ]
     },
     "execution_count": 111,
     "metadata": {},
     "output_type": "execute_result"
    }
   ],
   "source": [
    "df.corr()"
   ]
  },
  {
   "cell_type": "code",
   "execution_count": 112,
   "metadata": {
    "scrolled": true
   },
   "outputs": [
    {
     "data": {
      "text/plain": [
       "Index(['xh', 'xn', 'xq', 'avg_score', 'fail_count', 'fail', 'faculty',\n",
       "       'specialty', 'sznj', 'sex', 'nation', 'game_time', 'vedio_time',\n",
       "       'live_time', 'vine_time', 'total_time', 'mor_count', 'aft_count',\n",
       "       'eve_count', 'nig_count', 'Sun', 'Mon', 'Tue', 'Wed', 'Thu', 'Fri',\n",
       "       'Sat'],\n",
       "      dtype='object')"
      ]
     },
     "execution_count": 112,
     "metadata": {},
     "output_type": "execute_result"
    }
   ],
   "source": [
    "df.columns"
   ]
  },
  {
   "cell_type": "markdown",
   "metadata": {},
   "source": [
    "## 3.5 PCA分析"
   ]
  },
  {
   "cell_type": "code",
   "execution_count": 113,
   "metadata": {
    "collapsed": true
   },
   "outputs": [],
   "source": [
    "from sklearn.decomposition import PCA\n",
    "pca = PCA()\n",
    "df_num = df[['xh','avg_score','fail_count','sznj','game_time','vedio_time','live_time','total_time','mor_count','aft_count','nig_count','Sun','Mon','Tue','Wed','Thu','Fri','Sat']].values\n",
    "newData = pca.fit_transform(df_num)"
   ]
  },
  {
   "cell_type": "code",
   "execution_count": 115,
   "metadata": {
    "collapsed": true
   },
   "outputs": [],
   "source": [
    "df_ratio = pd.DataFrame(index=['xh','avg_score','fail_count','sznj','game_time','vedio_time','live_time','total_time','mor_count','aft_count','nig_count','Sun','Mon','Tue','Wed','Thu','Fri','Sat'],data = pca.explained_variance_ratio_,columns=['ratio'])\n",
    "df_ratio.sort_values(by='ratio',ascending=False,inplace=True)\n",
    "df_ratio"
   ]
  },
  {
   "cell_type": "code",
   "execution_count": 118,
   "metadata": {},
   "outputs": [
    {
     "data": {
      "image/png": "[encoded data removed]",
      "text/plain": [
       "<Figure size 432x288 with 1 Axes>"
      ]
     },
     "metadata": {
      "needs_background": "light"
     },
     "output_type": "display_data"
    }
   ],
   "source": [
    "plt.scatter(newData[:, 3], newData[:, 2],marker='o')\n",
    "plt.show()"
   ]
  },
  {
   "cell_type": "markdown",
   "metadata": {},
   "source": [
    "# 4. 数据可视化"
   ]
  },
  {
   "cell_type": "markdown",
   "metadata": {},
   "source": [
    "## 4.1 上网时段时长的变化"
   ]
  },
  {
   "cell_type": "code",
   "execution_count": 118,
   "metadata": {},
   "outputs": [
    {
     "data": {
      "image/png": "[encoded data removed]",
      "text/plain": [
       "<Figure size 1440x864 with 3 Axes>"
      ]
     },
     "metadata": {
      "needs_background": "light"
     },
     "output_type": "display_data"
    }
   ],
   "source": [
    "plt.figure(figsize=(20,12))\n",
    "\n",
    "### 两个学期相比\n",
    "df_secxn = df.groupby(['xn','xq'])['mor_count','aft_count','eve_count','nig_count'].sum()\n",
    "### 三个学期的人数\n",
    "df_numxn = df.groupby(['xn','xq'])['xh'].count()\n",
    "df_numxn\n",
    "\n",
    "plt.subplot(3,1,1)\n",
    "X1 = np.arange(4)\n",
    "z1 = df_numxn[0]\n",
    "z2 = df_numxn[1]\n",
    "z3 = df_numxn[2]\n",
    "y1=[df_secxn.loc['2017-2018',3]['mor_count']/z1,df_secxn.loc['2017-2018',3]['aft_count']/z1,df_secxn.loc['2017-2018',3]['eve_count']/z1,df_secxn.loc['2017-2018',3]['nig_count']/z1]\n",
    "y2=[df_secxn.loc['2018-2019',1]['mor_count']/z2,df_secxn.loc['2018-2019',1]['aft_count']/z2,df_secxn.loc['2018-2019',1]['eve_count']/z2,df_secxn.loc['2018-2019',1]['nig_count']/z2]\n",
    "y3=[df_secxn.loc['2018-2019',2]['mor_count']/z3,df_secxn.loc['2018-2019',2]['aft_count']/z3,df_secxn.loc['2018-2019',2]['eve_count']/z3,df_secxn.loc['2018-2019',2]['nig_count']/z3]\n",
    "bar_width=0.1\n",
    "tick_label=['mor_count','aft_count','eve_count','nig_count']\n",
    "\n",
    "plt.bar(X1,y1,bar_width,label='2017-2018-3',color='salmon')\n",
    "plt.bar(X1+bar_width,y2,bar_width,label='2018-2019-1',color='orchid')\n",
    "plt.bar(X1+bar_width*2,y3,bar_width,label='2018-2019-2',color='yellow')\n",
    "\n",
    "for x,y in zip(X1,y1):\n",
    "    plt.text(x,y+0.05,'%.2f' % y,ha='center',va='bottom') #ha=horizonal alignment 对齐\n",
    "for x,y in zip(X1,y2):\n",
    "    plt.text(x+bar_width,y+0.30,'%.2f' % y,ha='center',va='top') #ha=horizonal alignment\n",
    "for x,y in zip(X1,y3):\n",
    "    plt.text(x+bar_width*2,y+0.30,'%.2f' % y,ha='center',va='top') #ha=horizonal alignment\n",
    "    \n",
    "plt.legend(loc='best')\n",
    "plt.xlabel('section')\n",
    "plt.ylabel('hour/person')\n",
    "plt.xticks(X1+bar_width/3,tick_label)\n",
    "\n",
    "\n",
    "### 男女生相比\n",
    "df_secsex = df.groupby(['sex'])['mor_count','aft_count','eve_count','nig_count'].sum()\n",
    "\n",
    "### 男女生人数\n",
    "df_numsex = df.groupby(['sex'])['xh'].count()\n",
    "df_numsex\n",
    "\n",
    "plt.subplot(3,1,2)\n",
    "X2 =np.arange(4)\n",
    "z2 = df_numsex[0]\n",
    "z1 = df_numsex[1]\n",
    "y1=[df_secsex.loc['男']['mor_count']/z1,df_secsex.loc['男']['aft_count']/z1,df_secsex.loc['男']['eve_count']/z1,df_secsex.loc['男']['nig_count']/z1]\n",
    "y2=[df_secsex.loc['女']['mor_count']/z2,df_secsex.loc['女']['aft_count']/z2,df_secsex.loc['女']['eve_count']/z2,df_secsex.loc['女']['nig_count']/z2]\n",
    "\n",
    "bar_width=0.1\n",
    "tick_label=['mor_count','aft_count','eve_count','nig_count']\n",
    "\n",
    "plt.bar(X2,y1,bar_width,label='man',color='salmon')\n",
    "plt.bar(X2+bar_width,y2,bar_width,label='woman',color='orchid')\n",
    "\n",
    "for x,y in zip(X2,y1):\n",
    "    plt.text(x,y+0.05,'%.2f' % y,ha='center',va='bottom') #ha=horizonal alignment 对齐\n",
    "for x,y in zip(X2,y2):\n",
    "    plt.text(x+bar_width,y+0.30,'%.2f' % y,ha='center',va='top') #ha=horizonal alignment\n",
    "\n",
    "plt.legend(loc='best')\n",
    "plt.xlabel('sex')\n",
    "plt.ylabel('hour/person')\n",
    "plt.xticks(X2+bar_width/2,tick_label)\n",
    "\n",
    "\n",
    "\n",
    "### 所在年级相比\n",
    "df_secnj = df.groupby(['sznj'])['mor_count','aft_count','eve_count','nig_count'].sum()\n",
    "\n",
    "### 所在年级人数\n",
    "df_numnj = df.groupby(['sznj'])['xh'].count()\n",
    "df_numnj\n",
    "\n",
    "plt.subplot(3,1,3)\n",
    "\n",
    "X3 =np.arange(4)\n",
    "z1 = df_numnj[2014]\n",
    "z2 = df_numnj[2015]\n",
    "z3 = df_numnj[2016]\n",
    "z4 = df_numnj[2017]\n",
    "z5 = df_numnj[2018]\n",
    "\n",
    "y1=[df_secnj.loc[2014]['mor_count']/z1,df_secnj.loc[2014]['aft_count']/z1,df_secnj.loc[2014]['eve_count']/z1,df_secnj.loc[2014]['nig_count']/z1]\n",
    "y2=[df_secnj.loc[2015]['mor_count']/z2,df_secnj.loc[2015]['aft_count']/z2,df_secnj.loc[2015]['eve_count']/z2,df_secnj.loc[2015]['nig_count']/z2]\n",
    "y3=[df_secnj.loc[2016]['mor_count']/z3,df_secnj.loc[2016]['aft_count']/z3,df_secnj.loc[2016]['eve_count']/z3,df_secnj.loc[2016]['nig_count']/z3]\n",
    "y4=[df_secnj.loc[2017]['mor_count']/z4,df_secnj.loc[2017]['aft_count']/z4,df_secnj.loc[2017]['eve_count']/z4,df_secnj.loc[2017]['nig_count']/z4]\n",
    "y5=[df_secnj.loc[2018]['mor_count']/z5,df_secnj.loc[2018]['aft_count']/z5,df_secnj.loc[2018]['eve_count']/z5,df_secnj.loc[2018]['nig_count']/z5]\n",
    "\n",
    "bar_width=0.1\n",
    "tick_label=['mor_count','aft_count','eve_count','nig_count']\n",
    "\n",
    "plt.bar(X3,y1,bar_width,label='2014',color='salmon')\n",
    "plt.bar(X3+bar_width,y2,bar_width,label='2015',color='orchid')\n",
    "plt.bar(X3+bar_width*2,y2,bar_width,label='2016',color='yellow')\n",
    "plt.bar(X3+bar_width*3,y3,bar_width,label='2017',color='blue')\n",
    "plt.bar(X3+bar_width*4,y4,bar_width,label='2018',color='green')\n",
    "\n",
    "for x,y in zip(X2,y1):\n",
    "    plt.text(x,y+0.05,'%.2f' % y,ha='center',va='bottom') #ha=horizonal alignment 对齐\n",
    "for x,y in zip(X2,y2):\n",
    "    plt.text(x+bar_width,y+0.30,'%.2f' % y,ha='center',va='bottom') #ha=horizonal alignment\n",
    "for x,y in zip(X2,y3):\n",
    "    plt.text(x+bar_width*2,y+0.30,'%.2f' % y,ha='center',va='bottom') #ha=horizonal alignment\n",
    "for x,y in zip(X2,y4):\n",
    "    plt.text(x+bar_width*3,y+0.30,'%.2f' % y,ha='center',va='bottom') #ha=horizonal alignment\n",
    "for x,y in zip(X2,y5):\n",
    "    plt.text(x+bar_width*4,y+0.30,'%.2f' % y,ha='center',va='bottom') #ha=horizonal alignment\n",
    "\n",
    "plt.legend(loc='best')\n",
    "plt.xlabel('grade')\n",
    "plt.ylabel('hour/person')\n",
    "plt.xticks(X3+bar_width*4/2,tick_label)\n",
    "\n",
    "'''\n",
    "### 所在星期几相比\n",
    "df_secwd = df.groupby(['weekday'])['mor_count','aft_count','eve_count','nig_count'].sum()\n",
    "\n",
    "### 所在星期几使用网络的人数\n",
    "df_numwd = df.groupby(['weekday'])['xh'].count()\n",
    "df_numwd\n",
    "\n",
    "plt.subplot(4,1,4)\n",
    "\n",
    "X4 =np.arange(4)\n",
    "z1 = df_numwd[0]\n",
    "z2 = df_numwd[1]\n",
    "z3 = df_numwd[2]\n",
    "z4 = df_numwd[3]\n",
    "z5 = df_numwd[4]\n",
    "z6 = df_numwd[5]\n",
    "z7 = df_numwd[6]\n",
    "\n",
    "y1=[df_secwd.loc[0]['mor_count']/z1,df_secwd.loc[0]['aft_count']/z1,df_secwd.loc[0]['eve_count']/z1,df_secwd.loc[0]['nig_count']/z1]\n",
    "y2=[df_secwd.loc[1]['mor_count']/z2,df_secwd.loc[1]['aft_count']/z2,df_secwd.loc[1]['eve_count']/z2,df_secwd.loc[1]['nig_count']/z2]\n",
    "y3=[df_secwd.loc[2]['mor_count']/z3,df_secwd.loc[2]['aft_count']/z3,df_secwd.loc[2]['eve_count']/z3,df_secwd.loc[2]['nig_count']/z3]\n",
    "y4=[df_secwd.loc[3]['mor_count']/z4,df_secwd.loc[3]['aft_count']/z4,df_secwd.loc[3]['eve_count']/z4,df_secwd.loc[3]['nig_count']/z4]\n",
    "y5=[df_secwd.loc[4]['mor_count']/z5,df_secwd.loc[4]['aft_count']/z5,df_secwd.loc[4]['eve_count']/z5,df_secwd.loc[4]['nig_count']/z5]\n",
    "y6=[df_secwd.loc[5]['mor_count']/z6,df_secwd.loc[5]['aft_count']/z6,df_secwd.loc[5]['eve_count']/z6,df_secwd.loc[5]['nig_count']/z6]\n",
    "y7=[df_secwd.loc[6]['mor_count']/z7,df_secwd.loc[6]['aft_count']/z7,df_secwd.loc[6]['eve_count']/z7,df_secwd.loc[6]['nig_count']/z7]\n",
    "\n",
    "bar_width=0.1\n",
    "tick_label=['mor_count','aft_count','eve_count','nig_count']\n",
    "\n",
    "plt.bar(X4,y1,bar_width,label='Sun',color='salmon')\n",
    "plt.bar(X4+bar_width,y2,bar_width,label='Mon',color='orchid')\n",
    "plt.bar(X4+bar_width*2,y3,bar_width,label='Tue',color='yellow')\n",
    "plt.bar(X4+bar_width*3,y4,bar_width,label='Wed',color='blue')\n",
    "plt.bar(X4+bar_width*4,y5,bar_width,label='Thu',color='green')\n",
    "plt.bar(X4+bar_width*5,y6,bar_width,label='Fri',color='cyan')\n",
    "plt.bar(X4+bar_width*6,y7,bar_width,label='Sat',color='red')\n",
    "\n",
    "for x,y in zip(X4,y1):\n",
    "    plt.text(x,y+0.05,'%.2f' % y,ha='center',va='bottom') #ha=horizonal alignment 对齐\n",
    "for x,y in zip(X4,y2):\n",
    "    plt.text(x+bar_width,y+0.30,'%.2f' % y,ha='center',va='top') #ha=horizonal alignment\n",
    "for x,y in zip(X4,y3):\n",
    "    plt.text(x+bar_width*2,y+0.30,'%.2f' % y,ha='center',va='top') #ha=horizonal alignment\n",
    "for x,y in zip(X4,y4):\n",
    "    plt.text(x+bar_width*3,y+0.30,'%.2f' % y,ha='center',va='top') #ha=horizonal alignment\n",
    "for x,y in zip(X4,y5):\n",
    "    plt.text(x+bar_width*4,y+0.30,'%.2f' % y,ha='center',va='top') #ha=horizonal alignment\n",
    "for x,y in zip(X4,y6):\n",
    "    plt.text(x+bar_width*5,y+0.30,'%.2f' % y,ha='center',va='top') #ha=horizonal alignment\n",
    "for x,y in zip(X4,y7):\n",
    "    plt.text(x+bar_width*6,y+0.30,'%.2f' % y,ha='center',va='top') #ha=horizonal alignment\n",
    "\n",
    "plt.legend(loc='best')\n",
    "plt.xlabel('weekday')\n",
    "plt.ylabel('hour/person')\n",
    "plt.xticks(X4+bar_width*4/2,tick_label)\n",
    "\n",
    "plt.savefig('network_section.jpg')\n",
    "'''\n",
    "plt.tight_layout()\n",
    "\n",
    "plt.show()"
   ]
  },
  {
   "cell_type": "markdown",
   "metadata": {},
   "source": [
    "### 时段：\n",
    "- 上网普遍集中在下午或者傍晚\n",
    "- 小学期熬夜现象严重，平均凌晨2点停止上网\n",
    "- 第二学期情况比第一学期的严重\n",
    "- 正常学期普遍1点睡"
   ]
  },
  {
   "cell_type": "markdown",
   "metadata": {},
   "source": [
    "### 性别：\n",
    "- 男生上网时长比女生多一倍以上\n",
    "- 男生平均凌晨1点以后睡，女生平均12点以后睡"
   ]
  },
  {
   "cell_type": "markdown",
   "metadata": {},
   "source": [
    "### 年级：\n",
    "- 年级越大，上网时长越大"
   ]
  },
  {
   "cell_type": "markdown",
   "metadata": {},
   "source": [
    "### 工作日：\n",
    "- 周二上网频率最高，其次为周五、周一、周六\n",
    "- 基本是周日、周一、周二上网时长增加，周三、周四开始减少，周六到周日减少"
   ]
  },
  {
   "cell_type": "markdown",
   "metadata": {},
   "source": [
    "## 4.2 挂科的变化"
   ]
  },
  {
   "cell_type": "code",
   "execution_count": 119,
   "metadata": {},
   "outputs": [
    {
     "data": {
      "image/png": "[encoded data removed]",
      "text/plain": [
       "<Figure size 864x864 with 3 Axes>"
      ]
     },
     "metadata": {
      "needs_background": "light"
     },
     "output_type": "display_data"
    }
   ],
   "source": [
    "plt.figure(1,figsize=(12,12))\n",
    "\n",
    "sc = score.copy()\n",
    "sc['fail'] = sc['fail'].apply(pd.to_numeric)\n",
    "\n",
    "### 三个学期相比\n",
    "df_secxn = sc.groupby(['xn','xq'])['fail'].sum()\n",
    "### 三个学期的人数\n",
    "df_numxn = sc.groupby(['xn','xq'])['xh'].count()\n",
    "\n",
    "num = df_numxn.values.reshape(5,3)\n",
    "fail = df_secxn.values.reshape(5,3)\n",
    "\n",
    "y = np.array(fail/num)\n",
    "\n",
    "plt.subplot(3,1,1)\n",
    "X1 = np.arange(3)\n",
    "\n",
    "bar_width=0.1\n",
    "tick_label=['1','2','3']\n",
    "\n",
    "plt.bar(X1,y[0],bar_width,label='2014-2015',color='salmon')\n",
    "plt.bar(X1+bar_width,y[1],bar_width,label='2015-2016',color='orchid')\n",
    "plt.bar(X1+bar_width*2,y[2],bar_width,label='2016-2017',color='yellow')\n",
    "plt.bar(X1+bar_width*3,y[3],bar_width,label='2017-2018',color='blue')\n",
    "plt.bar(X1+bar_width*4,y[4],bar_width,label='2018-2019',color='red')\n",
    "#for x,y in zip(X1,y1):\n",
    "#    plt.text(x,y+0.05,'%.2f' % y,ha='center',va='bottom') #ha=horizonal alignment 对齐\n",
    "for x,Y in zip(X1,y[0]):\n",
    "    plt.text(x,Y+0.01,'%.2f' % Y,ha='center',va='bottom') #ha=horizonal alignment 对齐\n",
    "for x,Y in zip(X1,y[1]):\n",
    "    plt.text(x+bar_width,Y+0.01,'%.2f' % Y,ha='center',va='top') #ha=horizonal alignment\n",
    "for x,Y in zip(X1,y[2]):\n",
    "    plt.text(x+bar_width*2,Y+0.01,'%.2f' % Y,ha='center',va='top') #ha=horizonal alignment\n",
    "for x,Y in zip(X1,y[3]):\n",
    "    plt.text(x+bar_width*3,Y+0.01,'%.2f' % Y,ha='center',va='top') #ha=horizonal alignment\n",
    "for x,Y in zip(X1,y[4]):\n",
    "    plt.text(x+bar_width*4,Y+0.01,'%.2f' % Y,ha='center',va='top') #ha=horizonal alignment\n",
    "\n",
    "\n",
    "plt.legend(loc='best')\n",
    "plt.xlabel('xq')\n",
    "plt.ylabel('fail_rate')\n",
    "plt.xticks(X1+bar_width*4/2,tick_label)\n",
    "\n",
    "### 男女相比\n",
    "df_sec = sc.groupby(['xq','sex'])['fail'].sum()\n",
    "### 两个学期的人数\n",
    "df_num = sc.groupby(['xq','sex'])['xh'].count()\n",
    "\n",
    "num = df_num.values.reshape(3,2)\n",
    "fail = df_sec.values.reshape(3,2)\n",
    "\n",
    "y = np.array(fail/num)\n",
    "\n",
    "plt.subplot(3,1,2)\n",
    "X = np.arange(2)\n",
    "\n",
    "bar_width=0.1\n",
    "tick_label=['woman','man']\n",
    "\n",
    "plt.bar(X,y[0],bar_width,label='1',color='salmon')\n",
    "plt.bar(X+bar_width,y[1],bar_width,label='2',color='orchid')\n",
    "plt.bar(X+bar_width*2,y[2],bar_width,label='3',color='yellow')\n",
    "#for x,y in zip(X1,y1):\n",
    "#    plt.text(x,y+0.05,'%.2f' % y,ha='center',va='bottom') #ha=horizonal alignment 对齐\n",
    "for x,Y in zip(X,y[0]):\n",
    "    plt.text(x,Y+0.01,'%.2f' % Y,ha='center',va='bottom') #ha=horizonal alignment 对齐\n",
    "for x,Y in zip(X,y[1]):\n",
    "    plt.text(x+bar_width,Y+0.01,'%.2f' % Y,ha='center',va='top') #ha=horizonal alignment\n",
    "for x,Y in zip(X,y[2]):\n",
    "    plt.text(x+bar_width*2,Y+0.01,'%.2f' % Y,ha='center',va='top') #ha=horizonal alignment\n",
    "\n",
    "\n",
    "plt.legend(loc='best')\n",
    "plt.xlabel('sex')\n",
    "plt.ylabel('fail_rate')\n",
    "plt.xticks(X+bar_width*3/2,tick_label)\n",
    "\n",
    "### 年级相比\n",
    "df_sec = sc.groupby(['sznj'])['fail'].sum()\n",
    "### 各个年级的人数\n",
    "df_num = sc.groupby(['sznj'])['xh'].count()\n",
    "\n",
    "num = df_num.values.reshape(5,1).ravel()\n",
    "fail = df_sec.values.reshape(5,1).ravel()\n",
    "\n",
    "y = np.array(fail/num)\n",
    "plt.subplot(3,1,3)\n",
    "X = np.arange(5)\n",
    "\n",
    "bar_width=0.1\n",
    "tick_label=['2014','2015','2016','2017','2018']\n",
    "\n",
    "plt.bar(X,y,bar_width,color='orchid')\n",
    "\n",
    "for x,Y in zip(X,y):\n",
    "    plt.text(x,Y+0.01,'%.2f' % Y,ha='center',va='bottom') #ha=horizonal alignment 对齐\n",
    "\n",
    "plt.xlabel('sznj')\n",
    "plt.ylabel('fail_rate')\n",
    "plt.xticks(X,tick_label)\n",
    "\n",
    "plt.tight_layout()\n",
    "plt.show()"
   ]
  },
  {
   "cell_type": "markdown",
   "metadata": {},
   "source": [
    "- 正常学期随着年级的增长，挂科率升高\n",
    "- 男女生相比，女生在各个学年的挂科率更高"
   ]
  },
  {
   "cell_type": "code",
   "execution_count": 120,
   "metadata": {
    "collapsed": true
   },
   "outputs": [],
   "source": [
    "## score  df network"
   ]
  },
  {
   "cell_type": "markdown",
   "metadata": {},
   "source": [
    "## 一. 学生成绩分析"
   ]
  },
  {
   "cell_type": "code",
   "execution_count": 121,
   "metadata": {},
   "outputs": [
    {
     "data": {
      "text/html": [
       "<div>\n",
       "<style scoped>\n",
       "    .dataframe tbody tr th:only-of-type {\n",
       "        vertical-align: middle;\n",
       "    }\n",
       "\n",
       "    .dataframe tbody tr th {\n",
       "        vertical-align: top;\n",
       "    }\n",
       "\n",
       "    .dataframe thead th {\n",
       "        text-align: right;\n",
       "    }\n",
       "</style>\n",
       "<table border=\"1\" class=\"dataframe\">\n",
       "  <thead>\n",
       "    <tr style=\"text-align: right;\">\n",
       "      <th></th>\n",
       "      <th>xh</th>\n",
       "      <th>xn</th>\n",
       "      <th>xq</th>\n",
       "      <th>avg_score</th>\n",
       "      <th>fail_count</th>\n",
       "      <th>fail</th>\n",
       "      <th>faculty</th>\n",
       "      <th>specialty</th>\n",
       "      <th>sznj</th>\n",
       "      <th>sex</th>\n",
       "      <th>nation</th>\n",
       "    </tr>\n",
       "  </thead>\n",
       "  <tbody>\n",
       "    <tr>\n",
       "      <th>0</th>\n",
       "      <td>201434063</td>\n",
       "      <td>2017-2018</td>\n",
       "      <td>1</td>\n",
       "      <td>66.111111</td>\n",
       "      <td>0</td>\n",
       "      <td>0</td>\n",
       "      <td>339</td>\n",
       "      <td>6915</td>\n",
       "      <td>2014</td>\n",
       "      <td>男</td>\n",
       "      <td>1.0</td>\n",
       "    </tr>\n",
       "    <tr>\n",
       "      <th>1</th>\n",
       "      <td>201505099</td>\n",
       "      <td>2017-2018</td>\n",
       "      <td>1</td>\n",
       "      <td>33.880000</td>\n",
       "      <td>17</td>\n",
       "      <td>1</td>\n",
       "      <td>301</td>\n",
       "      <td>5028</td>\n",
       "      <td>2015</td>\n",
       "      <td>女</td>\n",
       "      <td>1.0</td>\n",
       "    </tr>\n",
       "  </tbody>\n",
       "</table>\n",
       "</div>"
      ],
      "text/plain": [
       "          xh         xn  xq  avg_score  fail_count fail faculty specialty  \\\n",
       "0  201434063  2017-2018   1  66.111111           0    0     339      6915   \n",
       "1  201505099  2017-2018   1  33.880000          17    1     301      5028   \n",
       "\n",
       "   sznj sex  nation  \n",
       "0  2014   男     1.0  \n",
       "1  2015   女     1.0  "
      ]
     },
     "execution_count": 121,
     "metadata": {},
     "output_type": "execute_result"
    }
   ],
   "source": [
    "score.head(2)"
   ]
  },
  {
   "cell_type": "code",
   "execution_count": 122,
   "metadata": {
    "collapsed": true
   },
   "outputs": [],
   "source": [
    "avg = score.groupby(['xn','xq','faculty'])[['avg_score']].mean()"
   ]
  },
  {
   "cell_type": "code",
   "execution_count": 123,
   "metadata": {
    "scrolled": true
   },
   "outputs": [
    {
     "data": {
      "text/plain": [
       "30"
      ]
     },
     "execution_count": 123,
     "metadata": {},
     "output_type": "execute_result"
    }
   ],
   "source": [
    "score['faculty'].drop_duplicates().count()"
   ]
  },
  {
   "cell_type": "markdown",
   "metadata": {},
   "source": [
    "30个院系"
   ]
  },
  {
   "cell_type": "code",
   "execution_count": 124,
   "metadata": {
    "scrolled": false
   },
   "outputs": [
    {
     "data": {
      "text/html": [
       "<div>\n",
       "<style scoped>\n",
       "    .dataframe tbody tr th:only-of-type {\n",
       "        vertical-align: middle;\n",
       "    }\n",
       "\n",
       "    .dataframe tbody tr th {\n",
       "        vertical-align: top;\n",
       "    }\n",
       "\n",
       "    .dataframe thead th {\n",
       "        text-align: right;\n",
       "    }\n",
       "</style>\n",
       "<table border=\"1\" class=\"dataframe\">\n",
       "  <thead>\n",
       "    <tr style=\"text-align: right;\">\n",
       "      <th></th>\n",
       "      <th>avg_score</th>\n",
       "    </tr>\n",
       "  </thead>\n",
       "  <tbody>\n",
       "    <tr>\n",
       "      <th>count</th>\n",
       "      <td>350.000000</td>\n",
       "    </tr>\n",
       "    <tr>\n",
       "      <th>mean</th>\n",
       "      <td>74.967655</td>\n",
       "    </tr>\n",
       "    <tr>\n",
       "      <th>std</th>\n",
       "      <td>12.437251</td>\n",
       "    </tr>\n",
       "    <tr>\n",
       "      <th>min</th>\n",
       "      <td>0.000000</td>\n",
       "    </tr>\n",
       "    <tr>\n",
       "      <th>25%</th>\n",
       "      <td>73.850618</td>\n",
       "    </tr>\n",
       "    <tr>\n",
       "      <th>50%</th>\n",
       "      <td>76.236206</td>\n",
       "    </tr>\n",
       "    <tr>\n",
       "      <th>75%</th>\n",
       "      <td>79.906143</td>\n",
       "    </tr>\n",
       "    <tr>\n",
       "      <th>max</th>\n",
       "      <td>89.848916</td>\n",
       "    </tr>\n",
       "  </tbody>\n",
       "</table>\n",
       "</div>"
      ],
      "text/plain": [
       "        avg_score\n",
       "count  350.000000\n",
       "mean    74.967655\n",
       "std     12.437251\n",
       "min      0.000000\n",
       "25%     73.850618\n",
       "50%     76.236206\n",
       "75%     79.906143\n",
       "max     89.848916"
      ]
     },
     "execution_count": 124,
     "metadata": {},
     "output_type": "execute_result"
    }
   ],
   "source": [
    "avg.describe()"
   ]
  },
  {
   "cell_type": "code",
   "execution_count": 125,
   "metadata": {},
   "outputs": [
    {
     "data": {
      "text/html": [
       "<div>\n",
       "<style scoped>\n",
       "    .dataframe tbody tr th:only-of-type {\n",
       "        vertical-align: middle;\n",
       "    }\n",
       "\n",
       "    .dataframe tbody tr th {\n",
       "        vertical-align: top;\n",
       "    }\n",
       "\n",
       "    .dataframe thead th {\n",
       "        text-align: right;\n",
       "    }\n",
       "</style>\n",
       "<table border=\"1\" class=\"dataframe\">\n",
       "  <thead>\n",
       "    <tr style=\"text-align: right;\">\n",
       "      <th></th>\n",
       "      <th>avg_score</th>\n",
       "    </tr>\n",
       "  </thead>\n",
       "  <tbody>\n",
       "    <tr>\n",
       "      <th>count</th>\n",
       "      <td>14.000000</td>\n",
       "    </tr>\n",
       "    <tr>\n",
       "      <th>mean</th>\n",
       "      <td>20.477526</td>\n",
       "    </tr>\n",
       "    <tr>\n",
       "      <th>std</th>\n",
       "      <td>15.966367</td>\n",
       "    </tr>\n",
       "    <tr>\n",
       "      <th>min</th>\n",
       "      <td>0.000000</td>\n",
       "    </tr>\n",
       "    <tr>\n",
       "      <th>25%</th>\n",
       "      <td>8.079167</td>\n",
       "    </tr>\n",
       "    <tr>\n",
       "      <th>50%</th>\n",
       "      <td>21.260906</td>\n",
       "    </tr>\n",
       "    <tr>\n",
       "      <th>75%</th>\n",
       "      <td>25.866422</td>\n",
       "    </tr>\n",
       "    <tr>\n",
       "      <th>max</th>\n",
       "      <td>48.717949</td>\n",
       "    </tr>\n",
       "  </tbody>\n",
       "</table>\n",
       "</div>"
      ],
      "text/plain": [
       "       avg_score\n",
       "count  14.000000\n",
       "mean   20.477526\n",
       "std    15.966367\n",
       "min     0.000000\n",
       "25%     8.079167\n",
       "50%    21.260906\n",
       "75%    25.866422\n",
       "max    48.717949"
      ]
     },
     "execution_count": 125,
     "metadata": {},
     "output_type": "execute_result"
    }
   ],
   "source": [
    "avg_fail = avg[avg['avg_score']<60]\n",
    "avg_fail.describe()"
   ]
  },
  {
   "cell_type": "markdown",
   "metadata": {},
   "source": [
    "- 各个院系每年每个学期的平均分50%到达76以上\n",
    "- 各个院系挂科的人平均分20分，75%的人挂科比较严重，最高才48.7分"
   ]
  },
  {
   "cell_type": "markdown",
   "metadata": {},
   "source": [
    "### 学生成绩与网络时长"
   ]
  },
  {
   "cell_type": "code",
   "execution_count": 126,
   "metadata": {},
   "outputs": [
    {
     "data": {
      "text/html": [
       "<div>\n",
       "<style scoped>\n",
       "    .dataframe tbody tr th:only-of-type {\n",
       "        vertical-align: middle;\n",
       "    }\n",
       "\n",
       "    .dataframe tbody tr th {\n",
       "        vertical-align: top;\n",
       "    }\n",
       "\n",
       "    .dataframe thead th {\n",
       "        text-align: right;\n",
       "    }\n",
       "</style>\n",
       "<table border=\"1\" class=\"dataframe\">\n",
       "  <thead>\n",
       "    <tr style=\"text-align: right;\">\n",
       "      <th></th>\n",
       "      <th>xh</th>\n",
       "      <th>xq</th>\n",
       "      <th>game_time</th>\n",
       "      <th>vedio_time</th>\n",
       "      <th>live_time</th>\n",
       "      <th>vine_time</th>\n",
       "      <th>total_time</th>\n",
       "      <th>mor_count</th>\n",
       "      <th>aft_count</th>\n",
       "      <th>eve_count</th>\n",
       "      <th>nig_count</th>\n",
       "      <th>Sun</th>\n",
       "      <th>Mon</th>\n",
       "      <th>Tue</th>\n",
       "      <th>Wed</th>\n",
       "      <th>Thu</th>\n",
       "      <th>Fri</th>\n",
       "      <th>Sat</th>\n",
       "    </tr>\n",
       "  </thead>\n",
       "  <tbody>\n",
       "    <tr>\n",
       "      <th>count</th>\n",
       "      <td>2.918200e+04</td>\n",
       "      <td>29182.000000</td>\n",
       "      <td>29182.000000</td>\n",
       "      <td>29182.000000</td>\n",
       "      <td>29182.000000</td>\n",
       "      <td>29182.000000</td>\n",
       "      <td>29182.000000</td>\n",
       "      <td>29182.000000</td>\n",
       "      <td>29182.000000</td>\n",
       "      <td>29182.000000</td>\n",
       "      <td>29182.000000</td>\n",
       "      <td>29182.000000</td>\n",
       "      <td>29182.000000</td>\n",
       "      <td>29182.000000</td>\n",
       "      <td>29182.000000</td>\n",
       "      <td>29182.000000</td>\n",
       "      <td>29182.000000</td>\n",
       "      <td>29182.000000</td>\n",
       "    </tr>\n",
       "    <tr>\n",
       "      <th>mean</th>\n",
       "      <td>2.016819e+08</td>\n",
       "      <td>1.550031</td>\n",
       "      <td>4.951152</td>\n",
       "      <td>1.233226</td>\n",
       "      <td>0.194311</td>\n",
       "      <td>0.097854</td>\n",
       "      <td>6.476543</td>\n",
       "      <td>1.330756</td>\n",
       "      <td>2.483766</td>\n",
       "      <td>1.968786</td>\n",
       "      <td>0.693235</td>\n",
       "      <td>1.407803</td>\n",
       "      <td>0.671765</td>\n",
       "      <td>0.323171</td>\n",
       "      <td>1.255357</td>\n",
       "      <td>1.168814</td>\n",
       "      <td>0.663628</td>\n",
       "      <td>0.986005</td>\n",
       "    </tr>\n",
       "    <tr>\n",
       "      <th>std</th>\n",
       "      <td>1.194158e+05</td>\n",
       "      <td>0.510150</td>\n",
       "      <td>16.838498</td>\n",
       "      <td>4.668010</td>\n",
       "      <td>1.260344</td>\n",
       "      <td>1.234807</td>\n",
       "      <td>17.800470</td>\n",
       "      <td>5.750910</td>\n",
       "      <td>8.271095</td>\n",
       "      <td>4.632340</td>\n",
       "      <td>2.665936</td>\n",
       "      <td>3.940790</td>\n",
       "      <td>2.807796</td>\n",
       "      <td>2.150813</td>\n",
       "      <td>3.976039</td>\n",
       "      <td>3.410857</td>\n",
       "      <td>3.223062</td>\n",
       "      <td>3.832215</td>\n",
       "    </tr>\n",
       "    <tr>\n",
       "      <th>min</th>\n",
       "      <td>2.014000e+08</td>\n",
       "      <td>1.000000</td>\n",
       "      <td>0.000000</td>\n",
       "      <td>0.000000</td>\n",
       "      <td>0.000000</td>\n",
       "      <td>0.000000</td>\n",
       "      <td>0.000000</td>\n",
       "      <td>0.000000</td>\n",
       "      <td>0.000000</td>\n",
       "      <td>0.000000</td>\n",
       "      <td>0.000000</td>\n",
       "      <td>0.000000</td>\n",
       "      <td>0.000000</td>\n",
       "      <td>0.000000</td>\n",
       "      <td>0.000000</td>\n",
       "      <td>0.000000</td>\n",
       "      <td>0.000000</td>\n",
       "      <td>0.000000</td>\n",
       "    </tr>\n",
       "    <tr>\n",
       "      <th>25%</th>\n",
       "      <td>2.015880e+08</td>\n",
       "      <td>1.000000</td>\n",
       "      <td>0.000000</td>\n",
       "      <td>0.000278</td>\n",
       "      <td>0.000000</td>\n",
       "      <td>0.000000</td>\n",
       "      <td>0.103125</td>\n",
       "      <td>0.000000</td>\n",
       "      <td>0.000000</td>\n",
       "      <td>0.000000</td>\n",
       "      <td>0.000000</td>\n",
       "      <td>0.000000</td>\n",
       "      <td>0.000000</td>\n",
       "      <td>0.000000</td>\n",
       "      <td>0.000000</td>\n",
       "      <td>0.000000</td>\n",
       "      <td>0.000000</td>\n",
       "      <td>0.000000</td>\n",
       "    </tr>\n",
       "    <tr>\n",
       "      <th>50%</th>\n",
       "      <td>2.016850e+08</td>\n",
       "      <td>2.000000</td>\n",
       "      <td>0.204444</td>\n",
       "      <td>0.013333</td>\n",
       "      <td>0.000000</td>\n",
       "      <td>0.000000</td>\n",
       "      <td>1.693889</td>\n",
       "      <td>0.007778</td>\n",
       "      <td>0.167361</td>\n",
       "      <td>0.148333</td>\n",
       "      <td>0.000278</td>\n",
       "      <td>0.002500</td>\n",
       "      <td>0.000000</td>\n",
       "      <td>0.000000</td>\n",
       "      <td>0.000278</td>\n",
       "      <td>0.000556</td>\n",
       "      <td>0.000000</td>\n",
       "      <td>0.000000</td>\n",
       "    </tr>\n",
       "    <tr>\n",
       "      <th>75%</th>\n",
       "      <td>2.017861e+08</td>\n",
       "      <td>2.000000</td>\n",
       "      <td>4.791042</td>\n",
       "      <td>0.770833</td>\n",
       "      <td>0.000000</td>\n",
       "      <td>0.000000</td>\n",
       "      <td>7.136389</td>\n",
       "      <td>0.862778</td>\n",
       "      <td>2.239861</td>\n",
       "      <td>2.327778</td>\n",
       "      <td>0.511528</td>\n",
       "      <td>1.204722</td>\n",
       "      <td>0.067708</td>\n",
       "      <td>0.000000</td>\n",
       "      <td>0.668958</td>\n",
       "      <td>0.931597</td>\n",
       "      <td>0.042778</td>\n",
       "      <td>0.225486</td>\n",
       "    </tr>\n",
       "    <tr>\n",
       "      <th>max</th>\n",
       "      <td>2.019993e+08</td>\n",
       "      <td>3.000000</td>\n",
       "      <td>984.606389</td>\n",
       "      <td>272.251944</td>\n",
       "      <td>49.199167</td>\n",
       "      <td>88.287222</td>\n",
       "      <td>984.606389</td>\n",
       "      <td>397.464167</td>\n",
       "      <td>477.422500</td>\n",
       "      <td>194.907500</td>\n",
       "      <td>163.566389</td>\n",
       "      <td>187.405000</td>\n",
       "      <td>145.312778</td>\n",
       "      <td>149.048889</td>\n",
       "      <td>123.999444</td>\n",
       "      <td>134.548611</td>\n",
       "      <td>140.591667</td>\n",
       "      <td>128.857500</td>\n",
       "    </tr>\n",
       "  </tbody>\n",
       "</table>\n",
       "</div>"
      ],
      "text/plain": [
       "                 xh            xq     game_time    vedio_time     live_time  \\\n",
       "count  2.918200e+04  29182.000000  29182.000000  29182.000000  29182.000000   \n",
       "mean   2.016819e+08      1.550031      4.951152      1.233226      0.194311   \n",
       "std    1.194158e+05      0.510150     16.838498      4.668010      1.260344   \n",
       "min    2.014000e+08      1.000000      0.000000      0.000000      0.000000   \n",
       "25%    2.015880e+08      1.000000      0.000000      0.000278      0.000000   \n",
       "50%    2.016850e+08      2.000000      0.204444      0.013333      0.000000   \n",
       "75%    2.017861e+08      2.000000      4.791042      0.770833      0.000000   \n",
       "max    2.019993e+08      3.000000    984.606389    272.251944     49.199167   \n",
       "\n",
       "          vine_time    total_time     mor_count     aft_count     eve_count  \\\n",
       "count  29182.000000  29182.000000  29182.000000  29182.000000  29182.000000   \n",
       "mean       0.097854      6.476543      1.330756      2.483766      1.968786   \n",
       "std        1.234807     17.800470      5.750910      8.271095      4.632340   \n",
       "min        0.000000      0.000000      0.000000      0.000000      0.000000   \n",
       "25%        0.000000      0.103125      0.000000      0.000000      0.000000   \n",
       "50%        0.000000      1.693889      0.007778      0.167361      0.148333   \n",
       "75%        0.000000      7.136389      0.862778      2.239861      2.327778   \n",
       "max       88.287222    984.606389    397.464167    477.422500    194.907500   \n",
       "\n",
       "          nig_count           Sun           Mon           Tue           Wed  \\\n",
       "count  29182.000000  29182.000000  29182.000000  29182.000000  29182.000000   \n",
       "mean       0.693235      1.407803      0.671765      0.323171      1.255357   \n",
       "std        2.665936      3.940790      2.807796      2.150813      3.976039   \n",
       "min        0.000000      0.000000      0.000000      0.000000      0.000000   \n",
       "25%        0.000000      0.000000      0.000000      0.000000      0.000000   \n",
       "50%        0.000278      0.002500      0.000000      0.000000      0.000278   \n",
       "75%        0.511528      1.204722      0.067708      0.000000      0.668958   \n",
       "max      163.566389    187.405000    145.312778    149.048889    123.999444   \n",
       "\n",
       "                Thu           Fri           Sat  \n",
       "count  29182.000000  29182.000000  29182.000000  \n",
       "mean       1.168814      0.663628      0.986005  \n",
       "std        3.410857      3.223062      3.832215  \n",
       "min        0.000000      0.000000      0.000000  \n",
       "25%        0.000000      0.000000      0.000000  \n",
       "50%        0.000556      0.000000      0.000000  \n",
       "75%        0.931597      0.042778      0.225486  \n",
       "max      134.548611    140.591667    128.857500  "
      ]
     },
     "execution_count": 126,
     "metadata": {},
     "output_type": "execute_result"
    }
   ],
   "source": [
    "network.describe()"
   ]
  },
  {
   "cell_type": "code",
   "execution_count": 127,
   "metadata": {},
   "outputs": [
    {
     "data": {
      "text/html": [
       "<div>\n",
       "<style scoped>\n",
       "    .dataframe tbody tr th:only-of-type {\n",
       "        vertical-align: middle;\n",
       "    }\n",
       "\n",
       "    .dataframe tbody tr th {\n",
       "        vertical-align: top;\n",
       "    }\n",
       "\n",
       "    .dataframe thead th {\n",
       "        text-align: right;\n",
       "    }\n",
       "</style>\n",
       "<table border=\"1\" class=\"dataframe\">\n",
       "  <thead>\n",
       "    <tr style=\"text-align: right;\">\n",
       "      <th></th>\n",
       "      <th>xh</th>\n",
       "      <th>xn</th>\n",
       "      <th>xq</th>\n",
       "      <th>game_time</th>\n",
       "      <th>vedio_time</th>\n",
       "      <th>live_time</th>\n",
       "      <th>vine_time</th>\n",
       "      <th>total_time</th>\n",
       "      <th>mor_count</th>\n",
       "      <th>aft_count</th>\n",
       "      <th>eve_count</th>\n",
       "      <th>nig_count</th>\n",
       "      <th>Sun</th>\n",
       "      <th>Mon</th>\n",
       "      <th>Tue</th>\n",
       "      <th>Wed</th>\n",
       "      <th>Thu</th>\n",
       "      <th>Fri</th>\n",
       "      <th>Sat</th>\n",
       "    </tr>\n",
       "  </thead>\n",
       "  <tbody>\n",
       "    <tr>\n",
       "      <th>0</th>\n",
       "      <td>201657036</td>\n",
       "      <td>2018-2019</td>\n",
       "      <td>2</td>\n",
       "      <td>36.351389</td>\n",
       "      <td>2.697500</td>\n",
       "      <td>3.649444</td>\n",
       "      <td>0.0</td>\n",
       "      <td>42.698333</td>\n",
       "      <td>2.391389</td>\n",
       "      <td>26.117222</td>\n",
       "      <td>3.665833</td>\n",
       "      <td>10.523889</td>\n",
       "      <td>13.019444</td>\n",
       "      <td>5.667222</td>\n",
       "      <td>4.273333</td>\n",
       "      <td>3.634167</td>\n",
       "      <td>5.844167</td>\n",
       "      <td>0.531389</td>\n",
       "      <td>9.728611</td>\n",
       "    </tr>\n",
       "    <tr>\n",
       "      <th>1</th>\n",
       "      <td>201738080</td>\n",
       "      <td>2018-2019</td>\n",
       "      <td>2</td>\n",
       "      <td>0.056111</td>\n",
       "      <td>0.673056</td>\n",
       "      <td>0.060278</td>\n",
       "      <td>0.0</td>\n",
       "      <td>0.789444</td>\n",
       "      <td>0.049167</td>\n",
       "      <td>0.011389</td>\n",
       "      <td>0.056111</td>\n",
       "      <td>0.672778</td>\n",
       "      <td>0.672778</td>\n",
       "      <td>0.056111</td>\n",
       "      <td>0.000000</td>\n",
       "      <td>0.000000</td>\n",
       "      <td>0.000278</td>\n",
       "      <td>0.000000</td>\n",
       "      <td>0.060278</td>\n",
       "    </tr>\n",
       "    <tr>\n",
       "      <th>2</th>\n",
       "      <td>201639158</td>\n",
       "      <td>2018-2019</td>\n",
       "      <td>2</td>\n",
       "      <td>2.371667</td>\n",
       "      <td>0.640000</td>\n",
       "      <td>0.000000</td>\n",
       "      <td>0.0</td>\n",
       "      <td>3.011667</td>\n",
       "      <td>0.000000</td>\n",
       "      <td>0.357500</td>\n",
       "      <td>2.014167</td>\n",
       "      <td>0.640000</td>\n",
       "      <td>0.640000</td>\n",
       "      <td>2.270833</td>\n",
       "      <td>0.000278</td>\n",
       "      <td>0.000000</td>\n",
       "      <td>0.000000</td>\n",
       "      <td>0.000000</td>\n",
       "      <td>0.100556</td>\n",
       "    </tr>\n",
       "  </tbody>\n",
       "</table>\n",
       "</div>"
      ],
      "text/plain": [
       "          xh         xn  xq  game_time  vedio_time  live_time  vine_time  \\\n",
       "0  201657036  2018-2019   2  36.351389    2.697500   3.649444        0.0   \n",
       "1  201738080  2018-2019   2   0.056111    0.673056   0.060278        0.0   \n",
       "2  201639158  2018-2019   2   2.371667    0.640000   0.000000        0.0   \n",
       "\n",
       "   total_time  mor_count  aft_count  eve_count  nig_count        Sun  \\\n",
       "0   42.698333   2.391389  26.117222   3.665833  10.523889  13.019444   \n",
       "1    0.789444   0.049167   0.011389   0.056111   0.672778   0.672778   \n",
       "2    3.011667   0.000000   0.357500   2.014167   0.640000   0.640000   \n",
       "\n",
       "        Mon       Tue       Wed       Thu       Fri       Sat  \n",
       "0  5.667222  4.273333  3.634167  5.844167  0.531389  9.728611  \n",
       "1  0.056111  0.000000  0.000000  0.000278  0.000000  0.060278  \n",
       "2  2.270833  0.000278  0.000000  0.000000  0.000000  0.100556  "
      ]
     },
     "execution_count": 127,
     "metadata": {},
     "output_type": "execute_result"
    }
   ],
   "source": [
    "network.head(3)"
   ]
  },
  {
   "cell_type": "code",
   "execution_count": 128,
   "metadata": {},
   "outputs": [
    {
     "data": {
      "text/plain": [
       "2    15679\n",
       "1    13317\n",
       "3      186\n",
       "Name: xq, dtype: int64"
      ]
     },
     "execution_count": 128,
     "metadata": {},
     "output_type": "execute_result"
    }
   ],
   "source": [
    "network['xq'].value_counts()"
   ]
  },
  {
   "cell_type": "markdown",
   "metadata": {},
   "source": [
    "考虑到小学期的长短和课程的多少问题，将小学期和第一学期分开计算"
   ]
  },
  {
   "cell_type": "code",
   "execution_count": 129,
   "metadata": {
    "collapsed": true
   },
   "outputs": [],
   "source": [
    "net1 = network[network['xq']== 1 ]\n",
    "net2 = network[network['xq']== 2 ]\n",
    "net3 = network[network['xq']== 3 ]"
   ]
  },
  {
   "cell_type": "code",
   "execution_count": 130,
   "metadata": {},
   "outputs": [
    {
     "data": {
      "text/html": [
       "<div>\n",
       "<style scoped>\n",
       "    .dataframe tbody tr th:only-of-type {\n",
       "        vertical-align: middle;\n",
       "    }\n",
       "\n",
       "    .dataframe tbody tr th {\n",
       "        vertical-align: top;\n",
       "    }\n",
       "\n",
       "    .dataframe thead th {\n",
       "        text-align: right;\n",
       "    }\n",
       "</style>\n",
       "<table border=\"1\" class=\"dataframe\">\n",
       "  <thead>\n",
       "    <tr style=\"text-align: right;\">\n",
       "      <th></th>\n",
       "      <th>xh</th>\n",
       "      <th>xq</th>\n",
       "      <th>game_time</th>\n",
       "      <th>vedio_time</th>\n",
       "      <th>live_time</th>\n",
       "      <th>vine_time</th>\n",
       "      <th>total_time</th>\n",
       "      <th>mor_count</th>\n",
       "      <th>aft_count</th>\n",
       "      <th>eve_count</th>\n",
       "      <th>nig_count</th>\n",
       "      <th>Sun</th>\n",
       "      <th>Mon</th>\n",
       "      <th>Tue</th>\n",
       "      <th>Wed</th>\n",
       "      <th>Thu</th>\n",
       "      <th>Fri</th>\n",
       "      <th>Sat</th>\n",
       "    </tr>\n",
       "  </thead>\n",
       "  <tbody>\n",
       "    <tr>\n",
       "      <th>count</th>\n",
       "      <td>1.331700e+04</td>\n",
       "      <td>13317.0</td>\n",
       "      <td>13317.000000</td>\n",
       "      <td>13317.000000</td>\n",
       "      <td>13317.0</td>\n",
       "      <td>13317.000000</td>\n",
       "      <td>13317.000000</td>\n",
       "      <td>13317.000000</td>\n",
       "      <td>13317.000000</td>\n",
       "      <td>13317.000000</td>\n",
       "      <td>13317.000000</td>\n",
       "      <td>13317.000000</td>\n",
       "      <td>13317.000000</td>\n",
       "      <td>13317.000000</td>\n",
       "      <td>13317.000000</td>\n",
       "      <td>13317.000000</td>\n",
       "      <td>13317.000000</td>\n",
       "      <td>13317.000000</td>\n",
       "    </tr>\n",
       "    <tr>\n",
       "      <th>mean</th>\n",
       "      <td>2.016831e+08</td>\n",
       "      <td>1.0</td>\n",
       "      <td>5.617111</td>\n",
       "      <td>1.103896</td>\n",
       "      <td>0.0</td>\n",
       "      <td>0.003976</td>\n",
       "      <td>6.724983</td>\n",
       "      <td>1.257046</td>\n",
       "      <td>2.737228</td>\n",
       "      <td>2.068200</td>\n",
       "      <td>0.662508</td>\n",
       "      <td>1.164455</td>\n",
       "      <td>0.659530</td>\n",
       "      <td>0.305978</td>\n",
       "      <td>2.170147</td>\n",
       "      <td>1.167667</td>\n",
       "      <td>0.947884</td>\n",
       "      <td>0.309321</td>\n",
       "    </tr>\n",
       "    <tr>\n",
       "      <th>std</th>\n",
       "      <td>1.183206e+05</td>\n",
       "      <td>0.0</td>\n",
       "      <td>20.020302</td>\n",
       "      <td>3.447256</td>\n",
       "      <td>0.0</td>\n",
       "      <td>0.419286</td>\n",
       "      <td>20.369931</td>\n",
       "      <td>6.643862</td>\n",
       "      <td>9.695662</td>\n",
       "      <td>5.133766</td>\n",
       "      <td>2.261183</td>\n",
       "      <td>4.039541</td>\n",
       "      <td>2.932737</td>\n",
       "      <td>2.567802</td>\n",
       "      <td>5.328507</td>\n",
       "      <td>3.524088</td>\n",
       "      <td>3.848416</td>\n",
       "      <td>2.871872</td>\n",
       "    </tr>\n",
       "    <tr>\n",
       "      <th>min</th>\n",
       "      <td>2.014000e+08</td>\n",
       "      <td>1.0</td>\n",
       "      <td>0.000000</td>\n",
       "      <td>0.000000</td>\n",
       "      <td>0.0</td>\n",
       "      <td>0.000000</td>\n",
       "      <td>0.000000</td>\n",
       "      <td>0.000000</td>\n",
       "      <td>0.000000</td>\n",
       "      <td>0.000000</td>\n",
       "      <td>0.000000</td>\n",
       "      <td>0.000000</td>\n",
       "      <td>0.000000</td>\n",
       "      <td>0.000000</td>\n",
       "      <td>0.000000</td>\n",
       "      <td>0.000000</td>\n",
       "      <td>0.000000</td>\n",
       "      <td>0.000000</td>\n",
       "    </tr>\n",
       "    <tr>\n",
       "      <th>25%</th>\n",
       "      <td>2.015960e+08</td>\n",
       "      <td>1.0</td>\n",
       "      <td>0.000000</td>\n",
       "      <td>0.000000</td>\n",
       "      <td>0.0</td>\n",
       "      <td>0.000000</td>\n",
       "      <td>0.096667</td>\n",
       "      <td>0.000000</td>\n",
       "      <td>0.000000</td>\n",
       "      <td>0.000000</td>\n",
       "      <td>0.000000</td>\n",
       "      <td>0.000000</td>\n",
       "      <td>0.000000</td>\n",
       "      <td>0.000000</td>\n",
       "      <td>0.000000</td>\n",
       "      <td>0.000000</td>\n",
       "      <td>0.000000</td>\n",
       "      <td>0.000000</td>\n",
       "    </tr>\n",
       "    <tr>\n",
       "      <th>50%</th>\n",
       "      <td>2.016862e+08</td>\n",
       "      <td>1.0</td>\n",
       "      <td>0.525000</td>\n",
       "      <td>0.013056</td>\n",
       "      <td>0.0</td>\n",
       "      <td>0.000000</td>\n",
       "      <td>1.786944</td>\n",
       "      <td>0.000556</td>\n",
       "      <td>0.208611</td>\n",
       "      <td>0.152500</td>\n",
       "      <td>0.000000</td>\n",
       "      <td>0.000278</td>\n",
       "      <td>0.000000</td>\n",
       "      <td>0.000000</td>\n",
       "      <td>0.086389</td>\n",
       "      <td>0.000000</td>\n",
       "      <td>0.000000</td>\n",
       "      <td>0.000000</td>\n",
       "    </tr>\n",
       "    <tr>\n",
       "      <th>75%</th>\n",
       "      <td>2.017860e+08</td>\n",
       "      <td>1.0</td>\n",
       "      <td>5.570278</td>\n",
       "      <td>0.645833</td>\n",
       "      <td>0.0</td>\n",
       "      <td>0.000000</td>\n",
       "      <td>7.279167</td>\n",
       "      <td>0.719722</td>\n",
       "      <td>2.497500</td>\n",
       "      <td>2.386944</td>\n",
       "      <td>0.472222</td>\n",
       "      <td>0.847500</td>\n",
       "      <td>0.036111</td>\n",
       "      <td>0.000000</td>\n",
       "      <td>2.034722</td>\n",
       "      <td>0.912778</td>\n",
       "      <td>0.505278</td>\n",
       "      <td>0.000000</td>\n",
       "    </tr>\n",
       "    <tr>\n",
       "      <th>max</th>\n",
       "      <td>2.018994e+08</td>\n",
       "      <td>1.0</td>\n",
       "      <td>984.606389</td>\n",
       "      <td>86.549722</td>\n",
       "      <td>0.0</td>\n",
       "      <td>48.254167</td>\n",
       "      <td>984.606389</td>\n",
       "      <td>397.464167</td>\n",
       "      <td>477.422500</td>\n",
       "      <td>194.907500</td>\n",
       "      <td>54.776944</td>\n",
       "      <td>187.405000</td>\n",
       "      <td>145.312778</td>\n",
       "      <td>149.048889</td>\n",
       "      <td>123.999444</td>\n",
       "      <td>132.141944</td>\n",
       "      <td>140.591667</td>\n",
       "      <td>126.996111</td>\n",
       "    </tr>\n",
       "  </tbody>\n",
       "</table>\n",
       "</div>"
      ],
      "text/plain": [
       "                 xh       xq     game_time    vedio_time  live_time  \\\n",
       "count  1.331700e+04  13317.0  13317.000000  13317.000000    13317.0   \n",
       "mean   2.016831e+08      1.0      5.617111      1.103896        0.0   \n",
       "std    1.183206e+05      0.0     20.020302      3.447256        0.0   \n",
       "min    2.014000e+08      1.0      0.000000      0.000000        0.0   \n",
       "25%    2.015960e+08      1.0      0.000000      0.000000        0.0   \n",
       "50%    2.016862e+08      1.0      0.525000      0.013056        0.0   \n",
       "75%    2.017860e+08      1.0      5.570278      0.645833        0.0   \n",
       "max    2.018994e+08      1.0    984.606389     86.549722        0.0   \n",
       "\n",
       "          vine_time    total_time     mor_count     aft_count     eve_count  \\\n",
       "count  13317.000000  13317.000000  13317.000000  13317.000000  13317.000000   \n",
       "mean       0.003976      6.724983      1.257046      2.737228      2.068200   \n",
       "std        0.419286     20.369931      6.643862      9.695662      5.133766   \n",
       "min        0.000000      0.000000      0.000000      0.000000      0.000000   \n",
       "25%        0.000000      0.096667      0.000000      0.000000      0.000000   \n",
       "50%        0.000000      1.786944      0.000556      0.208611      0.152500   \n",
       "75%        0.000000      7.279167      0.719722      2.497500      2.386944   \n",
       "max       48.254167    984.606389    397.464167    477.422500    194.907500   \n",
       "\n",
       "          nig_count           Sun           Mon           Tue           Wed  \\\n",
       "count  13317.000000  13317.000000  13317.000000  13317.000000  13317.000000   \n",
       "mean       0.662508      1.164455      0.659530      0.305978      2.170147   \n",
       "std        2.261183      4.039541      2.932737      2.567802      5.328507   \n",
       "min        0.000000      0.000000      0.000000      0.000000      0.000000   \n",
       "25%        0.000000      0.000000      0.000000      0.000000      0.000000   \n",
       "50%        0.000000      0.000278      0.000000      0.000000      0.086389   \n",
       "75%        0.472222      0.847500      0.036111      0.000000      2.034722   \n",
       "max       54.776944    187.405000    145.312778    149.048889    123.999444   \n",
       "\n",
       "                Thu           Fri           Sat  \n",
       "count  13317.000000  13317.000000  13317.000000  \n",
       "mean       1.167667      0.947884      0.309321  \n",
       "std        3.524088      3.848416      2.871872  \n",
       "min        0.000000      0.000000      0.000000  \n",
       "25%        0.000000      0.000000      0.000000  \n",
       "50%        0.000000      0.000000      0.000000  \n",
       "75%        0.912778      0.505278      0.000000  \n",
       "max      132.141944    140.591667    126.996111  "
      ]
     },
     "execution_count": 130,
     "metadata": {},
     "output_type": "execute_result"
    }
   ],
   "source": [
    "net1.describe()"
   ]
  },
  {
   "cell_type": "markdown",
   "metadata": {},
   "source": [
    "- 对第一学期来说，只有25%的学生学期网络总时长的超过7.28小时，这与具有网络行为数据的学生中22%多的挂科率相对应\n",
    "- 最大网络时长竟达到984.6小时，75%在7.28小时以下，平均时长达到6.72小时，两极分化严重\n",
    "- 访问网络时间段多在下午和晚上，都是学习可用时间\n",
    "- 在访问网络的站点来看，75%是游戏"
   ]
  },
  {
   "cell_type": "code",
   "execution_count": 131,
   "metadata": {
    "scrolled": true
   },
   "outputs": [
    {
     "data": {
      "text/html": [
       "<div>\n",
       "<style scoped>\n",
       "    .dataframe tbody tr th:only-of-type {\n",
       "        vertical-align: middle;\n",
       "    }\n",
       "\n",
       "    .dataframe tbody tr th {\n",
       "        vertical-align: top;\n",
       "    }\n",
       "\n",
       "    .dataframe thead th {\n",
       "        text-align: right;\n",
       "    }\n",
       "</style>\n",
       "<table border=\"1\" class=\"dataframe\">\n",
       "  <thead>\n",
       "    <tr style=\"text-align: right;\">\n",
       "      <th></th>\n",
       "      <th>appid</th>\n",
       "      <th>appname</th>\n",
       "      <th>xh</th>\n",
       "      <th>starttime</th>\n",
       "      <th>lasttime</th>\n",
       "      <th>startday</th>\n",
       "      <th>start_day</th>\n",
       "      <th>start_time</th>\n",
       "      <th>weekday</th>\n",
       "      <th>last_day</th>\n",
       "      <th>last_time</th>\n",
       "      <th>time_delta</th>\n",
       "      <th>last</th>\n",
       "      <th>xn</th>\n",
       "      <th>xq</th>\n",
       "      <th>variety</th>\n",
       "      <th>section</th>\n",
       "    </tr>\n",
       "  </thead>\n",
       "  <tbody>\n",
       "    <tr>\n",
       "      <th>0</th>\n",
       "      <td>3131</td>\n",
       "      <td>绝地求生</td>\n",
       "      <td>201657036</td>\n",
       "      <td>2019-04-09 23:27:57</td>\n",
       "      <td>2019-04-10</td>\n",
       "      <td>2019/04/09 00:00:00.000</td>\n",
       "      <td>2019-04-09</td>\n",
       "      <td>23:27:57</td>\n",
       "      <td>1</td>\n",
       "      <td>2019-04-10</td>\n",
       "      <td>00:00:00</td>\n",
       "      <td>00:32:03</td>\n",
       "      <td>0.534167</td>\n",
       "      <td>2018-2019</td>\n",
       "      <td>2</td>\n",
       "      <td>game</td>\n",
       "      <td>night</td>\n",
       "    </tr>\n",
       "  </tbody>\n",
       "</table>\n",
       "</div>"
      ],
      "text/plain": [
       "   appid appname         xh           starttime   lasttime  \\\n",
       "0   3131    绝地求生  201657036 2019-04-09 23:27:57 2019-04-10   \n",
       "\n",
       "                  startday   start_day start_time  weekday    last_day  \\\n",
       "0  2019/04/09 00:00:00.000  2019-04-09   23:27:57        1  2019-04-10   \n",
       "\n",
       "  last_time time_delta      last         xn  xq variety section  \n",
       "0  00:00:00   00:32:03  0.534167  2018-2019   2    game   night  "
      ]
     },
     "execution_count": 131,
     "metadata": {},
     "output_type": "execute_result"
    }
   ],
   "source": [
    "# 按每天一小时来算，判断网络时长为多久才算沉迷\n",
    "df_bnet.head(1)"
   ]
  },
  {
   "cell_type": "code",
   "execution_count": 132,
   "metadata": {},
   "outputs": [
    {
     "name": "stderr",
     "output_type": "stream",
     "text": [
      "C:\\Users\\Marc\\Anaconda3\\lib\\site-packages\\ipykernel_launcher.py:2: SettingWithCopyWarning: \n",
      "A value is trying to be set on a copy of a slice from a DataFrame.\n",
      "Try using .loc[row_indexer,col_indexer] = value instead\n",
      "\n",
      "See the caveats in the documentation: http://pandas.pydata.org/pandas-docs/stable/indexing.html#indexing-view-versus-copy\n",
      "  \n"
     ]
    }
   ],
   "source": [
    "days = df_bnet[['starttime','xn','xq']]\n",
    "days['days'] = days['starttime'].dt.strftime('%Y%m%d').apply(pd.to_numeric)\n",
    "day1 = days[days['xq']==1]\n",
    "day2 = days[days['xq']==2]\n",
    "day3 = days[days['xn']=='2017-2018']"
   ]
  },
  {
   "cell_type": "code",
   "execution_count": 133,
   "metadata": {},
   "outputs": [
    {
     "name": "stderr",
     "output_type": "stream",
     "text": [
      "C:\\Users\\Marc\\Anaconda3\\lib\\site-packages\\pandas\\core\\frame.py:3940: SettingWithCopyWarning: \n",
      "A value is trying to be set on a copy of a slice from a DataFrame\n",
      "\n",
      "See the caveats in the documentation: http://pandas.pydata.org/pandas-docs/stable/indexing.html#indexing-view-versus-copy\n",
      "  errors=errors)\n"
     ]
    }
   ],
   "source": [
    "day1.drop(columns=['starttime'],inplace=True)\n",
    "day2.drop(columns=['starttime'],inplace=True)\n",
    "day3.drop(columns=['starttime'],inplace=True)"
   ]
  },
  {
   "cell_type": "code",
   "execution_count": 134,
   "metadata": {
    "collapsed": true
   },
   "outputs": [],
   "source": [
    "day1 = day1.drop_duplicates()\n",
    "day2 = day3.drop_duplicates()\n",
    "day3 = day3.drop_duplicates()"
   ]
  },
  {
   "cell_type": "code",
   "execution_count": 135,
   "metadata": {},
   "outputs": [
    {
     "data": {
      "text/plain": [
       "139"
      ]
     },
     "execution_count": 135,
     "metadata": {},
     "output_type": "execute_result"
    }
   ],
   "source": [
    "len(day1)"
   ]
  },
  {
   "cell_type": "code",
   "execution_count": 136,
   "metadata": {},
   "outputs": [
    {
     "data": {
      "text/plain": [
       "17"
      ]
     },
     "execution_count": 136,
     "metadata": {},
     "output_type": "execute_result"
    }
   ],
   "source": [
    "len(day2)"
   ]
  },
  {
   "cell_type": "code",
   "execution_count": 137,
   "metadata": {},
   "outputs": [
    {
     "data": {
      "text/plain": [
       "17"
      ]
     },
     "execution_count": 137,
     "metadata": {},
     "output_type": "execute_result"
    }
   ],
   "source": [
    "len(day3)"
   ]
  },
  {
   "cell_type": "markdown",
   "metadata": {},
   "source": [
    "# 网络数据中第一学期139天，第二学期17天，第三学期17天"
   ]
  },
  {
   "cell_type": "markdown",
   "metadata": {},
   "source": [
    " 按照一天一个小时来算，总时长分别为139小时，17小时，17小时\n",
    " 对于网络时长较大的同学进行分析"
   ]
  },
  {
   "cell_type": "code",
   "execution_count": 138,
   "metadata": {},
   "outputs": [
    {
     "data": {
      "text/html": [
       "<div>\n",
       "<style scoped>\n",
       "    .dataframe tbody tr th:only-of-type {\n",
       "        vertical-align: middle;\n",
       "    }\n",
       "\n",
       "    .dataframe tbody tr th {\n",
       "        vertical-align: top;\n",
       "    }\n",
       "\n",
       "    .dataframe thead th {\n",
       "        text-align: right;\n",
       "    }\n",
       "</style>\n",
       "<table border=\"1\" class=\"dataframe\">\n",
       "  <thead>\n",
       "    <tr style=\"text-align: right;\">\n",
       "      <th></th>\n",
       "      <th>xh</th>\n",
       "      <th>xn</th>\n",
       "      <th>xq</th>\n",
       "      <th>avg_score</th>\n",
       "      <th>fail_count</th>\n",
       "      <th>fail</th>\n",
       "      <th>faculty</th>\n",
       "      <th>specialty</th>\n",
       "      <th>sznj</th>\n",
       "      <th>sex</th>\n",
       "      <th>nation</th>\n",
       "      <th>game_time</th>\n",
       "      <th>vedio_time</th>\n",
       "      <th>live_time</th>\n",
       "      <th>vine_time</th>\n",
       "      <th>total_time</th>\n",
       "      <th>mor_count</th>\n",
       "      <th>aft_count</th>\n",
       "      <th>eve_count</th>\n",
       "      <th>nig_count</th>\n",
       "      <th>Sun</th>\n",
       "      <th>Mon</th>\n",
       "      <th>Tue</th>\n",
       "      <th>Wed</th>\n",
       "      <th>Thu</th>\n",
       "      <th>Fri</th>\n",
       "      <th>Sat</th>\n",
       "    </tr>\n",
       "  </thead>\n",
       "  <tbody>\n",
       "    <tr>\n",
       "      <th>0</th>\n",
       "      <td>201695012</td>\n",
       "      <td>2018-2019</td>\n",
       "      <td>1</td>\n",
       "      <td>70.7</td>\n",
       "      <td>0</td>\n",
       "      <td>0</td>\n",
       "      <td>352</td>\n",
       "      <td>6110</td>\n",
       "      <td>2016</td>\n",
       "      <td>女</td>\n",
       "      <td>1.0</td>\n",
       "      <td>0.423889</td>\n",
       "      <td>0.096389</td>\n",
       "      <td>0.0</td>\n",
       "      <td>0.0</td>\n",
       "      <td>0.520278</td>\n",
       "      <td>0.103333</td>\n",
       "      <td>0.190556</td>\n",
       "      <td>0.177778</td>\n",
       "      <td>0.048611</td>\n",
       "      <td>0.0</td>\n",
       "      <td>0.0</td>\n",
       "      <td>0.096389</td>\n",
       "      <td>0.0</td>\n",
       "      <td>0.0</td>\n",
       "      <td>0.423889</td>\n",
       "      <td>0.0</td>\n",
       "    </tr>\n",
       "  </tbody>\n",
       "</table>\n",
       "</div>"
      ],
      "text/plain": [
       "          xh         xn  xq  avg_score  fail_count fail faculty specialty  \\\n",
       "0  201695012  2018-2019   1       70.7           0    0     352      6110   \n",
       "\n",
       "   sznj sex  nation  game_time  vedio_time  live_time  vine_time  total_time  \\\n",
       "0  2016   女     1.0   0.423889    0.096389        0.0        0.0    0.520278   \n",
       "\n",
       "   mor_count  aft_count  eve_count  nig_count  Sun  Mon       Tue  Wed  Thu  \\\n",
       "0   0.103333   0.190556   0.177778   0.048611  0.0  0.0  0.096389  0.0  0.0   \n",
       "\n",
       "        Fri  Sat  \n",
       "0  0.423889  0.0  "
      ]
     },
     "execution_count": 138,
     "metadata": {},
     "output_type": "execute_result"
    }
   ],
   "source": [
    "pd.set_option('display.max_columns',30)\n",
    "df.head(1)"
   ]
  },
  {
   "cell_type": "code",
   "execution_count": 139,
   "metadata": {
    "collapsed": true
   },
   "outputs": [],
   "source": [
    "netsc = df[['xh','xn','xq','avg_score','fail_count','fail','sex','sznj','total_time','nig_count']]"
   ]
  },
  {
   "cell_type": "code",
   "execution_count": 140,
   "metadata": {
    "collapsed": true
   },
   "outputs": [],
   "source": [
    "netsc1 = netsc[netsc['total_time']>=139]\n",
    "netsc1 = netsc1[netsc1['xq']==1]\n",
    "netsc2 = netsc[netsc['total_time']>=17]\n",
    "netsc2 = netsc2[netsc2['xq']==2]\n",
    "netsc3 = netsc[netsc['total_time']>=17]\n",
    "netsc3 = netsc3[netsc3['xq']==3]"
   ]
  },
  {
   "cell_type": "code",
   "execution_count": 141,
   "metadata": {
    "scrolled": false
   },
   "outputs": [
    {
     "data": {
      "text/html": [
       "<div>\n",
       "<style scoped>\n",
       "    .dataframe tbody tr th:only-of-type {\n",
       "        vertical-align: middle;\n",
       "    }\n",
       "\n",
       "    .dataframe tbody tr th {\n",
       "        vertical-align: top;\n",
       "    }\n",
       "\n",
       "    .dataframe thead th {\n",
       "        text-align: right;\n",
       "    }\n",
       "</style>\n",
       "<table border=\"1\" class=\"dataframe\">\n",
       "  <thead>\n",
       "    <tr style=\"text-align: right;\">\n",
       "      <th></th>\n",
       "      <th>xh</th>\n",
       "      <th>xq</th>\n",
       "      <th>avg_score</th>\n",
       "      <th>fail_count</th>\n",
       "      <th>sznj</th>\n",
       "      <th>total_time</th>\n",
       "      <th>nig_count</th>\n",
       "    </tr>\n",
       "  </thead>\n",
       "  <tbody>\n",
       "    <tr>\n",
       "      <th>count</th>\n",
       "      <td>3.400000e+01</td>\n",
       "      <td>34.0</td>\n",
       "      <td>34.000000</td>\n",
       "      <td>34.000000</td>\n",
       "      <td>34.000000</td>\n",
       "      <td>34.000000</td>\n",
       "      <td>34.000000</td>\n",
       "    </tr>\n",
       "    <tr>\n",
       "      <th>mean</th>\n",
       "      <td>2.016286e+08</td>\n",
       "      <td>1.0</td>\n",
       "      <td>70.032759</td>\n",
       "      <td>1.529412</td>\n",
       "      <td>2015.941176</td>\n",
       "      <td>290.814428</td>\n",
       "      <td>6.902672</td>\n",
       "    </tr>\n",
       "    <tr>\n",
       "      <th>std</th>\n",
       "      <td>1.157268e+05</td>\n",
       "      <td>0.0</td>\n",
       "      <td>16.743703</td>\n",
       "      <td>3.359611</td>\n",
       "      <td>1.099344</td>\n",
       "      <td>194.857069</td>\n",
       "      <td>10.409899</td>\n",
       "    </tr>\n",
       "    <tr>\n",
       "      <th>min</th>\n",
       "      <td>2.014700e+08</td>\n",
       "      <td>1.0</td>\n",
       "      <td>22.378947</td>\n",
       "      <td>0.000000</td>\n",
       "      <td>2014.000000</td>\n",
       "      <td>143.691111</td>\n",
       "      <td>0.000000</td>\n",
       "    </tr>\n",
       "    <tr>\n",
       "      <th>25%</th>\n",
       "      <td>2.015253e+08</td>\n",
       "      <td>1.0</td>\n",
       "      <td>68.412202</td>\n",
       "      <td>0.000000</td>\n",
       "      <td>2015.000000</td>\n",
       "      <td>161.670139</td>\n",
       "      <td>0.710903</td>\n",
       "    </tr>\n",
       "    <tr>\n",
       "      <th>50%</th>\n",
       "      <td>2.016100e+08</td>\n",
       "      <td>1.0</td>\n",
       "      <td>75.328671</td>\n",
       "      <td>0.000000</td>\n",
       "      <td>2016.000000</td>\n",
       "      <td>206.449444</td>\n",
       "      <td>2.083472</td>\n",
       "    </tr>\n",
       "    <tr>\n",
       "      <th>75%</th>\n",
       "      <td>2.017221e+08</td>\n",
       "      <td>1.0</td>\n",
       "      <td>78.966912</td>\n",
       "      <td>0.750000</td>\n",
       "      <td>2017.000000</td>\n",
       "      <td>368.039583</td>\n",
       "      <td>9.226319</td>\n",
       "    </tr>\n",
       "    <tr>\n",
       "      <th>max</th>\n",
       "      <td>2.018810e+08</td>\n",
       "      <td>1.0</td>\n",
       "      <td>89.428571</td>\n",
       "      <td>13.000000</td>\n",
       "      <td>2018.000000</td>\n",
       "      <td>984.606389</td>\n",
       "      <td>45.129444</td>\n",
       "    </tr>\n",
       "  </tbody>\n",
       "</table>\n",
       "</div>"
      ],
      "text/plain": [
       "                 xh    xq  avg_score  fail_count         sznj  total_time  \\\n",
       "count  3.400000e+01  34.0  34.000000   34.000000    34.000000   34.000000   \n",
       "mean   2.016286e+08   1.0  70.032759    1.529412  2015.941176  290.814428   \n",
       "std    1.157268e+05   0.0  16.743703    3.359611     1.099344  194.857069   \n",
       "min    2.014700e+08   1.0  22.378947    0.000000  2014.000000  143.691111   \n",
       "25%    2.015253e+08   1.0  68.412202    0.000000  2015.000000  161.670139   \n",
       "50%    2.016100e+08   1.0  75.328671    0.000000  2016.000000  206.449444   \n",
       "75%    2.017221e+08   1.0  78.966912    0.750000  2017.000000  368.039583   \n",
       "max    2.018810e+08   1.0  89.428571   13.000000  2018.000000  984.606389   \n",
       "\n",
       "       nig_count  \n",
       "count  34.000000  \n",
       "mean    6.902672  \n",
       "std    10.409899  \n",
       "min     0.000000  \n",
       "25%     0.710903  \n",
       "50%     2.083472  \n",
       "75%     9.226319  \n",
       "max    45.129444  "
      ]
     },
     "execution_count": 141,
     "metadata": {},
     "output_type": "execute_result"
    }
   ],
   "source": [
    "netsc1.describe()"
   ]
  },
  {
   "cell_type": "code",
   "execution_count": 142,
   "metadata": {},
   "outputs": [
    {
     "data": {
      "text/plain": [
       "34"
      ]
     },
     "execution_count": 142,
     "metadata": {},
     "output_type": "execute_result"
    }
   ],
   "source": [
    "len(netsc1)"
   ]
  },
  {
   "cell_type": "markdown",
   "metadata": {},
   "source": [
    "第一学期\n",
    "- 平均分为70，但是挂科数最高为13，平均时长高，熬夜现象严重"
   ]
  },
  {
   "cell_type": "code",
   "execution_count": 143,
   "metadata": {
    "scrolled": true
   },
   "outputs": [
    {
     "data": {
      "text/html": [
       "<div>\n",
       "<style scoped>\n",
       "    .dataframe tbody tr th:only-of-type {\n",
       "        vertical-align: middle;\n",
       "    }\n",
       "\n",
       "    .dataframe tbody tr th {\n",
       "        vertical-align: top;\n",
       "    }\n",
       "\n",
       "    .dataframe thead th {\n",
       "        text-align: right;\n",
       "    }\n",
       "</style>\n",
       "<table border=\"1\" class=\"dataframe\">\n",
       "  <thead>\n",
       "    <tr style=\"text-align: right;\">\n",
       "      <th></th>\n",
       "      <th>xh</th>\n",
       "      <th>xq</th>\n",
       "      <th>avg_score</th>\n",
       "      <th>fail_count</th>\n",
       "      <th>sznj</th>\n",
       "      <th>total_time</th>\n",
       "      <th>nig_count</th>\n",
       "    </tr>\n",
       "  </thead>\n",
       "  <tbody>\n",
       "    <tr>\n",
       "      <th>count</th>\n",
       "      <td>1.380000e+02</td>\n",
       "      <td>138.0</td>\n",
       "      <td>138.000000</td>\n",
       "      <td>138.000000</td>\n",
       "      <td>138.000000</td>\n",
       "      <td>138.000000</td>\n",
       "      <td>138.000000</td>\n",
       "    </tr>\n",
       "    <tr>\n",
       "      <th>mean</th>\n",
       "      <td>2.016564e+08</td>\n",
       "      <td>2.0</td>\n",
       "      <td>77.336439</td>\n",
       "      <td>0.065217</td>\n",
       "      <td>2016.159420</td>\n",
       "      <td>38.315652</td>\n",
       "      <td>2.894287</td>\n",
       "    </tr>\n",
       "    <tr>\n",
       "      <th>std</th>\n",
       "      <td>1.270485e+05</td>\n",
       "      <td>0.0</td>\n",
       "      <td>12.908991</td>\n",
       "      <td>0.275695</td>\n",
       "      <td>1.245408</td>\n",
       "      <td>56.582858</td>\n",
       "      <td>3.671663</td>\n",
       "    </tr>\n",
       "    <tr>\n",
       "      <th>min</th>\n",
       "      <td>2.014000e+08</td>\n",
       "      <td>2.0</td>\n",
       "      <td>0.000000</td>\n",
       "      <td>0.000000</td>\n",
       "      <td>2014.000000</td>\n",
       "      <td>17.024444</td>\n",
       "      <td>0.000000</td>\n",
       "    </tr>\n",
       "    <tr>\n",
       "      <th>25%</th>\n",
       "      <td>2.015460e+08</td>\n",
       "      <td>2.0</td>\n",
       "      <td>70.000000</td>\n",
       "      <td>0.000000</td>\n",
       "      <td>2015.000000</td>\n",
       "      <td>21.317569</td>\n",
       "      <td>0.529375</td>\n",
       "    </tr>\n",
       "    <tr>\n",
       "      <th>50%</th>\n",
       "      <td>2.016261e+08</td>\n",
       "      <td>2.0</td>\n",
       "      <td>81.500000</td>\n",
       "      <td>0.000000</td>\n",
       "      <td>2016.000000</td>\n",
       "      <td>25.931111</td>\n",
       "      <td>1.674306</td>\n",
       "    </tr>\n",
       "    <tr>\n",
       "      <th>75%</th>\n",
       "      <td>2.017621e+08</td>\n",
       "      <td>2.0</td>\n",
       "      <td>86.750000</td>\n",
       "      <td>0.000000</td>\n",
       "      <td>2017.000000</td>\n",
       "      <td>37.232569</td>\n",
       "      <td>3.424722</td>\n",
       "    </tr>\n",
       "    <tr>\n",
       "      <th>max</th>\n",
       "      <td>2.018942e+08</td>\n",
       "      <td>2.0</td>\n",
       "      <td>96.000000</td>\n",
       "      <td>2.000000</td>\n",
       "      <td>2018.000000</td>\n",
       "      <td>628.332778</td>\n",
       "      <td>17.120833</td>\n",
       "    </tr>\n",
       "  </tbody>\n",
       "</table>\n",
       "</div>"
      ],
      "text/plain": [
       "                 xh     xq   avg_score  fail_count         sznj  total_time  \\\n",
       "count  1.380000e+02  138.0  138.000000  138.000000   138.000000  138.000000   \n",
       "mean   2.016564e+08    2.0   77.336439    0.065217  2016.159420   38.315652   \n",
       "std    1.270485e+05    0.0   12.908991    0.275695     1.245408   56.582858   \n",
       "min    2.014000e+08    2.0    0.000000    0.000000  2014.000000   17.024444   \n",
       "25%    2.015460e+08    2.0   70.000000    0.000000  2015.000000   21.317569   \n",
       "50%    2.016261e+08    2.0   81.500000    0.000000  2016.000000   25.931111   \n",
       "75%    2.017621e+08    2.0   86.750000    0.000000  2017.000000   37.232569   \n",
       "max    2.018942e+08    2.0   96.000000    2.000000  2018.000000  628.332778   \n",
       "\n",
       "        nig_count  \n",
       "count  138.000000  \n",
       "mean     2.894287  \n",
       "std      3.671663  \n",
       "min      0.000000  \n",
       "25%      0.529375  \n",
       "50%      1.674306  \n",
       "75%      3.424722  \n",
       "max     17.120833  "
      ]
     },
     "execution_count": 143,
     "metadata": {},
     "output_type": "execute_result"
    }
   ],
   "source": [
    "netsc2.describe()"
   ]
  },
  {
   "cell_type": "code",
   "execution_count": 144,
   "metadata": {},
   "outputs": [
    {
     "data": {
      "text/plain": [
       "138"
      ]
     },
     "execution_count": 144,
     "metadata": {},
     "output_type": "execute_result"
    }
   ],
   "source": [
    "len(netsc2)"
   ]
  },
  {
   "cell_type": "markdown",
   "metadata": {},
   "source": [
    "第二学期\n",
    "- 平均分77，最高挂科数为2，总时长过高，熬夜相对较轻\n",
    "- 均分高，挂科少是因为考试少的缘故"
   ]
  },
  {
   "cell_type": "code",
   "execution_count": 145,
   "metadata": {
    "scrolled": true
   },
   "outputs": [
    {
     "data": {
      "text/html": [
       "<div>\n",
       "<style scoped>\n",
       "    .dataframe tbody tr th:only-of-type {\n",
       "        vertical-align: middle;\n",
       "    }\n",
       "\n",
       "    .dataframe tbody tr th {\n",
       "        vertical-align: top;\n",
       "    }\n",
       "\n",
       "    .dataframe thead th {\n",
       "        text-align: right;\n",
       "    }\n",
       "</style>\n",
       "<table border=\"1\" class=\"dataframe\">\n",
       "  <thead>\n",
       "    <tr style=\"text-align: right;\">\n",
       "      <th></th>\n",
       "      <th>xh</th>\n",
       "      <th>xq</th>\n",
       "      <th>avg_score</th>\n",
       "      <th>fail_count</th>\n",
       "      <th>sznj</th>\n",
       "      <th>total_time</th>\n",
       "      <th>nig_count</th>\n",
       "    </tr>\n",
       "  </thead>\n",
       "  <tbody>\n",
       "    <tr>\n",
       "      <th>count</th>\n",
       "      <td>2.300000e+01</td>\n",
       "      <td>23.0</td>\n",
       "      <td>23.000000</td>\n",
       "      <td>23.000000</td>\n",
       "      <td>23.000000</td>\n",
       "      <td>23.000000</td>\n",
       "      <td>23.000000</td>\n",
       "    </tr>\n",
       "    <tr>\n",
       "      <th>mean</th>\n",
       "      <td>2.015779e+08</td>\n",
       "      <td>3.0</td>\n",
       "      <td>81.229710</td>\n",
       "      <td>0.043478</td>\n",
       "      <td>2015.347826</td>\n",
       "      <td>78.600531</td>\n",
       "      <td>27.104553</td>\n",
       "    </tr>\n",
       "    <tr>\n",
       "      <th>std</th>\n",
       "      <td>9.472454e+04</td>\n",
       "      <td>0.0</td>\n",
       "      <td>18.698335</td>\n",
       "      <td>0.208514</td>\n",
       "      <td>0.775107</td>\n",
       "      <td>82.665027</td>\n",
       "      <td>49.538799</td>\n",
       "    </tr>\n",
       "    <tr>\n",
       "      <th>min</th>\n",
       "      <td>2.014060e+08</td>\n",
       "      <td>3.0</td>\n",
       "      <td>0.000000</td>\n",
       "      <td>0.000000</td>\n",
       "      <td>2014.000000</td>\n",
       "      <td>17.596944</td>\n",
       "      <td>0.000000</td>\n",
       "    </tr>\n",
       "    <tr>\n",
       "      <th>25%</th>\n",
       "      <td>2.015121e+08</td>\n",
       "      <td>3.0</td>\n",
       "      <td>81.625000</td>\n",
       "      <td>0.000000</td>\n",
       "      <td>2015.000000</td>\n",
       "      <td>23.086528</td>\n",
       "      <td>1.410139</td>\n",
       "    </tr>\n",
       "    <tr>\n",
       "      <th>50%</th>\n",
       "      <td>2.015640e+08</td>\n",
       "      <td>3.0</td>\n",
       "      <td>85.000000</td>\n",
       "      <td>0.000000</td>\n",
       "      <td>2015.000000</td>\n",
       "      <td>42.428611</td>\n",
       "      <td>7.796389</td>\n",
       "    </tr>\n",
       "    <tr>\n",
       "      <th>75%</th>\n",
       "      <td>2.016381e+08</td>\n",
       "      <td>3.0</td>\n",
       "      <td>88.700000</td>\n",
       "      <td>0.000000</td>\n",
       "      <td>2016.000000</td>\n",
       "      <td>84.661806</td>\n",
       "      <td>14.220972</td>\n",
       "    </tr>\n",
       "    <tr>\n",
       "      <th>max</th>\n",
       "      <td>2.017891e+08</td>\n",
       "      <td>3.0</td>\n",
       "      <td>93.000000</td>\n",
       "      <td>1.000000</td>\n",
       "      <td>2017.000000</td>\n",
       "      <td>272.251944</td>\n",
       "      <td>163.566389</td>\n",
       "    </tr>\n",
       "  </tbody>\n",
       "</table>\n",
       "</div>"
      ],
      "text/plain": [
       "                 xh    xq  avg_score  fail_count         sznj  total_time  \\\n",
       "count  2.300000e+01  23.0  23.000000   23.000000    23.000000   23.000000   \n",
       "mean   2.015779e+08   3.0  81.229710    0.043478  2015.347826   78.600531   \n",
       "std    9.472454e+04   0.0  18.698335    0.208514     0.775107   82.665027   \n",
       "min    2.014060e+08   3.0   0.000000    0.000000  2014.000000   17.596944   \n",
       "25%    2.015121e+08   3.0  81.625000    0.000000  2015.000000   23.086528   \n",
       "50%    2.015640e+08   3.0  85.000000    0.000000  2015.000000   42.428611   \n",
       "75%    2.016381e+08   3.0  88.700000    0.000000  2016.000000   84.661806   \n",
       "max    2.017891e+08   3.0  93.000000    1.000000  2017.000000  272.251944   \n",
       "\n",
       "        nig_count  \n",
       "count   23.000000  \n",
       "mean    27.104553  \n",
       "std     49.538799  \n",
       "min      0.000000  \n",
       "25%      1.410139  \n",
       "50%      7.796389  \n",
       "75%     14.220972  \n",
       "max    163.566389  "
      ]
     },
     "execution_count": 145,
     "metadata": {},
     "output_type": "execute_result"
    }
   ],
   "source": [
    "netsc3.describe()"
   ]
  },
  {
   "cell_type": "code",
   "execution_count": 146,
   "metadata": {},
   "outputs": [
    {
     "data": {
      "text/plain": [
       "23"
      ]
     },
     "execution_count": 146,
     "metadata": {},
     "output_type": "execute_result"
    }
   ],
   "source": [
    "len(netsc3)"
   ]
  },
  {
   "cell_type": "markdown",
   "metadata": {},
   "source": [
    "第三学期\n",
    "- 均分80，因为基本没什么考试，大部分人网络时长较高，喜欢熬夜"
   ]
  },
  {
   "cell_type": "markdown",
   "metadata": {},
   "source": [
    "## 二. 网络行为"
   ]
  },
  {
   "cell_type": "markdown",
   "metadata": {},
   "source": [
    "- 两级分化，沉迷网络和不怎么接触\n",
    "- 沉迷网络的熬夜现象严重，均分较低"
   ]
  },
  {
   "cell_type": "markdown",
   "metadata": {},
   "source": [
    "## 三. 挂科"
   ]
  },
  {
   "cell_type": "code",
   "execution_count": 147,
   "metadata": {},
   "outputs": [
    {
     "data": {
      "text/html": [
       "<div>\n",
       "<style scoped>\n",
       "    .dataframe tbody tr th:only-of-type {\n",
       "        vertical-align: middle;\n",
       "    }\n",
       "\n",
       "    .dataframe tbody tr th {\n",
       "        vertical-align: top;\n",
       "    }\n",
       "\n",
       "    .dataframe thead th {\n",
       "        text-align: right;\n",
       "    }\n",
       "</style>\n",
       "<table border=\"1\" class=\"dataframe\">\n",
       "  <thead>\n",
       "    <tr style=\"text-align: right;\">\n",
       "      <th></th>\n",
       "      <th>xh</th>\n",
       "      <th>xn</th>\n",
       "      <th>xq</th>\n",
       "      <th>avg_score</th>\n",
       "      <th>fail_count</th>\n",
       "      <th>fail</th>\n",
       "      <th>faculty</th>\n",
       "      <th>specialty</th>\n",
       "      <th>sznj</th>\n",
       "      <th>sex</th>\n",
       "      <th>nation</th>\n",
       "      <th>game_time</th>\n",
       "      <th>vedio_time</th>\n",
       "      <th>live_time</th>\n",
       "      <th>vine_time</th>\n",
       "      <th>total_time</th>\n",
       "      <th>mor_count</th>\n",
       "      <th>aft_count</th>\n",
       "      <th>eve_count</th>\n",
       "      <th>nig_count</th>\n",
       "      <th>Sun</th>\n",
       "      <th>Mon</th>\n",
       "      <th>Tue</th>\n",
       "      <th>Wed</th>\n",
       "      <th>Thu</th>\n",
       "      <th>Fri</th>\n",
       "      <th>Sat</th>\n",
       "    </tr>\n",
       "  </thead>\n",
       "  <tbody>\n",
       "    <tr>\n",
       "      <th>3</th>\n",
       "      <td>201608133</td>\n",
       "      <td>2018-2019</td>\n",
       "      <td>1</td>\n",
       "      <td>70.618182</td>\n",
       "      <td>2</td>\n",
       "      <td>1</td>\n",
       "      <td>353</td>\n",
       "      <td>7802</td>\n",
       "      <td>2016</td>\n",
       "      <td>女</td>\n",
       "      <td>1.0</td>\n",
       "      <td>0.0</td>\n",
       "      <td>0.2</td>\n",
       "      <td>0.0</td>\n",
       "      <td>0.0</td>\n",
       "      <td>0.2</td>\n",
       "      <td>0.0</td>\n",
       "      <td>0.0</td>\n",
       "      <td>0.2</td>\n",
       "      <td>0.0</td>\n",
       "      <td>0.0</td>\n",
       "      <td>0.0</td>\n",
       "      <td>0.0</td>\n",
       "      <td>0.0</td>\n",
       "      <td>0.2</td>\n",
       "      <td>0.0</td>\n",
       "      <td>0.0</td>\n",
       "    </tr>\n",
       "  </tbody>\n",
       "</table>\n",
       "</div>"
      ],
      "text/plain": [
       "          xh         xn  xq  avg_score  fail_count fail faculty specialty  \\\n",
       "3  201608133  2018-2019   1  70.618182           2    1     353      7802   \n",
       "\n",
       "   sznj sex  nation  game_time  vedio_time  live_time  vine_time  total_time  \\\n",
       "3  2016   女     1.0        0.0         0.2        0.0        0.0         0.2   \n",
       "\n",
       "   mor_count  aft_count  eve_count  nig_count  Sun  Mon  Tue  Wed  Thu  Fri  \\\n",
       "3        0.0        0.0        0.2        0.0  0.0  0.0  0.0  0.0  0.2  0.0   \n",
       "\n",
       "   Sat  \n",
       "3  0.0  "
      ]
     },
     "execution_count": 147,
     "metadata": {},
     "output_type": "execute_result"
    }
   ],
   "source": [
    "df_fail = df[df['fail_count']>0]\n",
    "df_fail.head(1)"
   ]
  },
  {
   "cell_type": "code",
   "execution_count": 148,
   "metadata": {
    "collapsed": true
   },
   "outputs": [],
   "source": [
    "total = len(df)\n",
    "t_man = len(df[df['sex']=='男'])\n",
    "t_woman = len(df[df['sex']=='女'])\n",
    "stu = len(df_fail)\n",
    "man = len(df_fail[df_fail['sex']=='男'])\n",
    "woman = len(df_fail[df_fail['sex']=='女'])"
   ]
  },
  {
   "cell_type": "code",
   "execution_count": 149,
   "metadata": {},
   "outputs": [
    {
     "name": "stdout",
     "output_type": "stream",
     "text": [
      "14947 11034 3913 3045 2540 505\n"
     ]
    }
   ],
   "source": [
    "print(total,t_man,t_woman,stu,man,woman)"
   ]
  },
  {
   "cell_type": "code",
   "execution_count": 150,
   "metadata": {},
   "outputs": [
    {
     "name": "stdout",
     "output_type": "stream",
     "text": [
      "0.23019757114373754 0.1290569895221058 0.20371980999531678\n"
     ]
    }
   ],
   "source": [
    "r_man = man/t_man\n",
    "r_woman = woman/t_woman\n",
    "r_total = stu/total\n",
    "print(r_man,r_woman,r_total)"
   ]
  },
  {
   "cell_type": "markdown",
   "metadata": {},
   "source": [
    "- 总挂科率为22.7%\n",
    "- 男生挂科率比女生挂科率高10%"
   ]
  },
  {
   "cell_type": "code",
   "execution_count": 151,
   "metadata": {
    "collapsed": true
   },
   "outputs": [],
   "source": [
    "sec1 = df[df['xn']=='2018-2019']\n",
    "sec1 = sec1[sec1['xq']==1]\n",
    "sec1_fail = df_fail[df_fail['xn']=='2018-2019']\n",
    "sec1_fail = sec1_fail[sec1_fail['xq']==1]\n",
    "\n",
    "sec1_total = len(sec1)\n",
    "sec1_tman = len(sec1[sec1['sex']=='男'])\n",
    "sec1_twoman = len(sec1[sec1['sex']=='女'])\n",
    "sec1_stu = len(sec1_fail)\n",
    "sec1_man = len(sec1_fail[sec1_fail['sex']=='男'])\n",
    "sec1_woman = len(sec1_fail[sec1_fail['sex']=='女'])"
   ]
  },
  {
   "cell_type": "code",
   "execution_count": 152,
   "metadata": {},
   "outputs": [
    {
     "name": "stdout",
     "output_type": "stream",
     "text": [
      "13242 9829 3413 2957 2468 489\n"
     ]
    }
   ],
   "source": [
    "print(sec1_total,sec1_tman,sec1_twoman,sec1_stu,sec1_man,sec1_woman)"
   ]
  },
  {
   "cell_type": "code",
   "execution_count": 153,
   "metadata": {},
   "outputs": [
    {
     "name": "stdout",
     "output_type": "stream",
     "text": [
      "0.2510937023094923 0.14796366832698507 0.22330463676181847\n"
     ]
    }
   ],
   "source": [
    "sec1_rman = sec1_man/sec1_tman\n",
    "sec1_rwoman = woman/sec1_twoman\n",
    "sec1_rtotal = sec1_stu/sec1_total\n",
    "print(sec1_rman,sec1_rwoman,sec1_rtotal)"
   ]
  },
  {
   "cell_type": "markdown",
   "metadata": {},
   "source": [
    "- 总挂科率为22.33%，男生挂科率为25.11%，女生挂科率为14.80%\n",
    "- 男女挂科比率差符合总体规律，而且22.33%的挂科率对应网络行为的25%时长在7.6小时以上"
   ]
  },
  {
   "cell_type": "code",
   "execution_count": 154,
   "metadata": {
    "scrolled": true
   },
   "outputs": [
    {
     "data": {
      "text/html": [
       "<div>\n",
       "<style scoped>\n",
       "    .dataframe tbody tr th:only-of-type {\n",
       "        vertical-align: middle;\n",
       "    }\n",
       "\n",
       "    .dataframe tbody tr th {\n",
       "        vertical-align: top;\n",
       "    }\n",
       "\n",
       "    .dataframe thead th {\n",
       "        text-align: right;\n",
       "    }\n",
       "</style>\n",
       "<table border=\"1\" class=\"dataframe\">\n",
       "  <thead>\n",
       "    <tr style=\"text-align: right;\">\n",
       "      <th></th>\n",
       "      <th>xh</th>\n",
       "      <th>xn</th>\n",
       "      <th>xq</th>\n",
       "      <th>avg_score</th>\n",
       "      <th>fail_count</th>\n",
       "      <th>fail</th>\n",
       "      <th>faculty</th>\n",
       "      <th>specialty</th>\n",
       "      <th>sznj</th>\n",
       "      <th>sex</th>\n",
       "      <th>nation</th>\n",
       "      <th>game_time</th>\n",
       "      <th>vedio_time</th>\n",
       "      <th>live_time</th>\n",
       "      <th>vine_time</th>\n",
       "      <th>total_time</th>\n",
       "      <th>mor_count</th>\n",
       "      <th>aft_count</th>\n",
       "      <th>eve_count</th>\n",
       "      <th>nig_count</th>\n",
       "      <th>Sun</th>\n",
       "      <th>Mon</th>\n",
       "      <th>Tue</th>\n",
       "      <th>Wed</th>\n",
       "      <th>Thu</th>\n",
       "      <th>Fri</th>\n",
       "      <th>Sat</th>\n",
       "    </tr>\n",
       "  </thead>\n",
       "  <tbody>\n",
       "    <tr>\n",
       "      <th>0</th>\n",
       "      <td>201695012</td>\n",
       "      <td>2018-2019</td>\n",
       "      <td>1</td>\n",
       "      <td>70.700000</td>\n",
       "      <td>0</td>\n",
       "      <td>0</td>\n",
       "      <td>352</td>\n",
       "      <td>6110</td>\n",
       "      <td>2016</td>\n",
       "      <td>女</td>\n",
       "      <td>1.0</td>\n",
       "      <td>0.423889</td>\n",
       "      <td>0.096389</td>\n",
       "      <td>0.0</td>\n",
       "      <td>0.0</td>\n",
       "      <td>0.520278</td>\n",
       "      <td>0.103333</td>\n",
       "      <td>0.190556</td>\n",
       "      <td>0.177778</td>\n",
       "      <td>0.048611</td>\n",
       "      <td>0.000000</td>\n",
       "      <td>0.0</td>\n",
       "      <td>0.096389</td>\n",
       "      <td>0.000000</td>\n",
       "      <td>0.0</td>\n",
       "      <td>0.423889</td>\n",
       "      <td>0.0</td>\n",
       "    </tr>\n",
       "    <tr>\n",
       "      <th>1</th>\n",
       "      <td>201625017</td>\n",
       "      <td>2018-2019</td>\n",
       "      <td>1</td>\n",
       "      <td>86.384615</td>\n",
       "      <td>0</td>\n",
       "      <td>0</td>\n",
       "      <td>352</td>\n",
       "      <td>6110</td>\n",
       "      <td>2016</td>\n",
       "      <td>男</td>\n",
       "      <td>1.0</td>\n",
       "      <td>9.136111</td>\n",
       "      <td>0.000000</td>\n",
       "      <td>0.0</td>\n",
       "      <td>0.0</td>\n",
       "      <td>9.136111</td>\n",
       "      <td>0.000000</td>\n",
       "      <td>3.105556</td>\n",
       "      <td>6.030556</td>\n",
       "      <td>0.000000</td>\n",
       "      <td>1.474722</td>\n",
       "      <td>0.0</td>\n",
       "      <td>0.000000</td>\n",
       "      <td>5.623333</td>\n",
       "      <td>0.0</td>\n",
       "      <td>2.038056</td>\n",
       "      <td>0.0</td>\n",
       "    </tr>\n",
       "  </tbody>\n",
       "</table>\n",
       "</div>"
      ],
      "text/plain": [
       "          xh         xn  xq  avg_score  fail_count fail faculty specialty  \\\n",
       "0  201695012  2018-2019   1  70.700000           0    0     352      6110   \n",
       "1  201625017  2018-2019   1  86.384615           0    0     352      6110   \n",
       "\n",
       "   sznj sex  nation  game_time  vedio_time  live_time  vine_time  total_time  \\\n",
       "0  2016   女     1.0   0.423889    0.096389        0.0        0.0    0.520278   \n",
       "1  2016   男     1.0   9.136111    0.000000        0.0        0.0    9.136111   \n",
       "\n",
       "   mor_count  aft_count  eve_count  nig_count       Sun  Mon       Tue  \\\n",
       "0   0.103333   0.190556   0.177778   0.048611  0.000000  0.0  0.096389   \n",
       "1   0.000000   3.105556   6.030556   0.000000  1.474722  0.0  0.000000   \n",
       "\n",
       "        Wed  Thu       Fri  Sat  \n",
       "0  0.000000  0.0  0.423889  0.0  \n",
       "1  5.623333  0.0  2.038056  0.0  "
      ]
     },
     "execution_count": 154,
     "metadata": {},
     "output_type": "execute_result"
    }
   ],
   "source": [
    "df.head(2)"
   ]
  },
  {
   "cell_type": "code",
   "execution_count": 155,
   "metadata": {
    "scrolled": true
   },
   "outputs": [
    {
     "data": {
      "image/png": "[encoded data removed]",
      "text/plain": [
       "<Figure size 1440x864 with 3 Axes>"
      ]
     },
     "metadata": {
      "needs_background": "light"
     },
     "output_type": "display_data"
    }
   ],
   "source": [
    "plt.figure(figsize=(20,12))\n",
    "\n",
    "### 两个学期相比\n",
    "df_secxn = df_fail.groupby(['xn','xq'])['mor_count','aft_count','eve_count','nig_count'].sum()\n",
    "### 三个学期的人数\n",
    "df_numxn = df_fail.groupby(['xn','xq'])['xh'].count()\n",
    "df_numxn\n",
    "\n",
    "plt.subplot(3,1,1)\n",
    "X1 = np.arange(4)\n",
    "z1 = df_numxn[0]\n",
    "z2 = df_numxn[1]\n",
    "z3 = df_numxn[2]\n",
    "y1=[df_secxn.loc['2017-2018',3]['mor_count']/z1,df_secxn.loc['2017-2018',3]['aft_count']/z1,df_secxn.loc['2017-2018',3]['eve_count']/z1,df_secxn.loc['2017-2018',3]['nig_count']/z1]\n",
    "y2=[df_secxn.loc['2018-2019',1]['mor_count']/z2,df_secxn.loc['2018-2019',1]['aft_count']/z2,df_secxn.loc['2018-2019',1]['eve_count']/z2,df_secxn.loc['2018-2019',1]['nig_count']/z2]\n",
    "y3=[df_secxn.loc['2018-2019',2]['mor_count']/z3,df_secxn.loc['2018-2019',2]['aft_count']/z3,df_secxn.loc['2018-2019',2]['eve_count']/z3,df_secxn.loc['2018-2019',2]['nig_count']/z3]\n",
    "bar_width=0.1\n",
    "tick_label=['mor_count','aft_count','eve_count','nig_count']\n",
    "\n",
    "plt.bar(X1,y1,bar_width,label='2017-2018-3',color='salmon')\n",
    "plt.bar(X1+bar_width,y2,bar_width,label='2018-2019-1',color='orchid')\n",
    "plt.bar(X1+bar_width*2,y3,bar_width,label='2018-2019-2',color='yellow')\n",
    "\n",
    "for x,y in zip(X1,y1):\n",
    "    plt.text(x,y+0.05,'%.2f' % y,ha='center',va='bottom') #ha=horizonal alignment 对齐\n",
    "for x,y in zip(X1,y2):\n",
    "    plt.text(x+bar_width,y+0.30,'%.2f' % y,ha='center',va='top') #ha=horizonal alignment\n",
    "for x,y in zip(X1,y3):\n",
    "    plt.text(x+bar_width*2,y+0.30,'%.2f' % y,ha='center',va='top') #ha=horizonal alignment\n",
    "    \n",
    "plt.legend(loc='best')\n",
    "plt.xlabel('section')\n",
    "plt.ylabel('hour/person')\n",
    "plt.xticks(X1+bar_width/3,tick_label)\n",
    "\n",
    "\n",
    "### 男女生相比\n",
    "df_secsex = df_fail.groupby(['sex'])['mor_count','aft_count','eve_count','nig_count'].sum()\n",
    "\n",
    "### 男女生人数\n",
    "df_numsex = df_fail.groupby(['sex'])['xh'].count()\n",
    "df_numsex\n",
    "\n",
    "plt.subplot(3,1,2)\n",
    "X2 =np.arange(4)\n",
    "z2 = df_numsex[0]\n",
    "z1 = df_numsex[1]\n",
    "y1=[df_secsex.loc['男']['mor_count']/z1,df_secsex.loc['男']['aft_count']/z1,df_secsex.loc['男']['eve_count']/z1,df_secsex.loc['男']['nig_count']/z1]\n",
    "y2=[df_secsex.loc['女']['mor_count']/z2,df_secsex.loc['女']['aft_count']/z2,df_secsex.loc['女']['eve_count']/z2,df_secsex.loc['女']['nig_count']/z2]\n",
    "\n",
    "bar_width=0.1\n",
    "tick_label=['mor_count','aft_count','eve_count','nig_count']\n",
    "\n",
    "plt.bar(X2,y1,bar_width,label='man',color='salmon')\n",
    "plt.bar(X2+bar_width,y2,bar_width,label='woman',color='orchid')\n",
    "\n",
    "for x,y in zip(X2,y1):\n",
    "    plt.text(x,y+0.05,'%.2f' % y,ha='center',va='bottom') #ha=horizonal alignment 对齐\n",
    "for x,y in zip(X2,y2):\n",
    "    plt.text(x+bar_width,y+0.30,'%.2f' % y,ha='center',va='top') #ha=horizonal alignment\n",
    "\n",
    "plt.legend(loc='best')\n",
    "plt.xlabel('sex')\n",
    "plt.ylabel('hour/person')\n",
    "plt.xticks(X2+bar_width/2,tick_label)\n",
    "\n",
    "\n",
    "\n",
    "### 所在年级相比\n",
    "df_secnj = df_fail.groupby(['sznj'])['mor_count','aft_count','eve_count','nig_count'].sum()\n",
    "\n",
    "### 所在年级人数\n",
    "df_numnj = df_fail.groupby(['sznj'])['xh'].count()\n",
    "df_numnj\n",
    "\n",
    "plt.subplot(3,1,3)\n",
    "\n",
    "X3 =np.arange(4)\n",
    "z1 = df_numnj[2014]\n",
    "z2 = df_numnj[2015]\n",
    "z3 = df_numnj[2016]\n",
    "z4 = df_numnj[2017]\n",
    "z5 = df_numnj[2018]\n",
    "\n",
    "y1=[df_secnj.loc[2014]['mor_count']/z1,df_secnj.loc[2014]['aft_count']/z1,df_secnj.loc[2014]['eve_count']/z1,df_secnj.loc[2014]['nig_count']/z1]\n",
    "y2=[df_secnj.loc[2015]['mor_count']/z2,df_secnj.loc[2015]['aft_count']/z2,df_secnj.loc[2015]['eve_count']/z2,df_secnj.loc[2015]['nig_count']/z2]\n",
    "y3=[df_secnj.loc[2016]['mor_count']/z3,df_secnj.loc[2016]['aft_count']/z3,df_secnj.loc[2016]['eve_count']/z3,df_secnj.loc[2016]['nig_count']/z3]\n",
    "y4=[df_secnj.loc[2017]['mor_count']/z4,df_secnj.loc[2017]['aft_count']/z4,df_secnj.loc[2017]['eve_count']/z4,df_secnj.loc[2017]['nig_count']/z4]\n",
    "y5=[df_secnj.loc[2018]['mor_count']/z5,df_secnj.loc[2018]['aft_count']/z5,df_secnj.loc[2018]['eve_count']/z5,df_secnj.loc[2018]['nig_count']/z5]\n",
    "\n",
    "bar_width=0.1\n",
    "tick_label=['mor_count','aft_count','eve_count','nig_count']\n",
    "\n",
    "plt.bar(X3,y1,bar_width,label='2014',color='salmon')\n",
    "plt.bar(X3+bar_width,y2,bar_width,label='2015',color='orchid')\n",
    "plt.bar(X3+bar_width*2,y2,bar_width,label='2016',color='yellow')\n",
    "plt.bar(X3+bar_width*3,y3,bar_width,label='2017',color='blue')\n",
    "plt.bar(X3+bar_width*4,y4,bar_width,label='2018',color='green')\n",
    "\n",
    "for x,y in zip(X2,y1):\n",
    "    plt.text(x,y+0.05,'%.2f' % y,ha='center',va='bottom') #ha=horizonal alignment 对齐\n",
    "for x,y in zip(X2,y2):\n",
    "    plt.text(x+bar_width,y+0.30,'%.2f' % y,ha='center',va='bottom') #ha=horizonal alignment\n",
    "for x,y in zip(X2,y3):\n",
    "    plt.text(x+bar_width*2,y+0.30,'%.2f' % y,ha='center',va='bottom') #ha=horizonal alignment\n",
    "for x,y in zip(X2,y4):\n",
    "    plt.text(x+bar_width*3,y+0.30,'%.2f' % y,ha='center',va='bottom') #ha=horizonal alignment\n",
    "for x,y in zip(X2,y5):\n",
    "    plt.text(x+bar_width*4,y+0.30,'%.2f' % y,ha='center',va='bottom') #ha=horizonal alignment\n",
    "\n",
    "plt.legend(loc='best')\n",
    "plt.xlabel('grade')\n",
    "plt.ylabel('hour/person')\n",
    "plt.xticks(X3+bar_width*4/2,tick_label)\n",
    "\n",
    "plt.tight_layout()\n",
    "\n",
    "plt.show()"
   ]
  },
  {
   "cell_type": "markdown",
   "metadata": {},
   "source": [
    "- 挂科的人熬夜特别严重\n",
    "- 其他规律符合整体规律"
   ]
  },
  {
   "cell_type": "markdown",
   "metadata": {},
   "source": [
    "# 5. 特征选择"
   ]
  },
  {
   "cell_type": "markdown",
   "metadata": {},
   "source": [
    "## 5.1 结合交叉验证的RFECV"
   ]
  },
  {
   "cell_type": "code",
   "execution_count": 156,
   "metadata": {
    "scrolled": true
   },
   "outputs": [
    {
     "data": {
      "text/html": [
       "<div>\n",
       "<style scoped>\n",
       "    .dataframe tbody tr th:only-of-type {\n",
       "        vertical-align: middle;\n",
       "    }\n",
       "\n",
       "    .dataframe tbody tr th {\n",
       "        vertical-align: top;\n",
       "    }\n",
       "\n",
       "    .dataframe thead th {\n",
       "        text-align: right;\n",
       "    }\n",
       "</style>\n",
       "<table border=\"1\" class=\"dataframe\">\n",
       "  <thead>\n",
       "    <tr style=\"text-align: right;\">\n",
       "      <th></th>\n",
       "      <th>xh</th>\n",
       "      <th>xn</th>\n",
       "      <th>xq</th>\n",
       "      <th>avg_score</th>\n",
       "      <th>fail_count</th>\n",
       "      <th>fail</th>\n",
       "      <th>faculty</th>\n",
       "      <th>specialty</th>\n",
       "      <th>sznj</th>\n",
       "      <th>sex</th>\n",
       "      <th>nation</th>\n",
       "      <th>game_time</th>\n",
       "      <th>vedio_time</th>\n",
       "      <th>live_time</th>\n",
       "      <th>vine_time</th>\n",
       "      <th>total_time</th>\n",
       "      <th>mor_count</th>\n",
       "      <th>aft_count</th>\n",
       "      <th>eve_count</th>\n",
       "      <th>nig_count</th>\n",
       "      <th>Sun</th>\n",
       "      <th>Mon</th>\n",
       "      <th>Tue</th>\n",
       "      <th>Wed</th>\n",
       "      <th>Thu</th>\n",
       "      <th>Fri</th>\n",
       "      <th>Sat</th>\n",
       "    </tr>\n",
       "  </thead>\n",
       "  <tbody>\n",
       "    <tr>\n",
       "      <th>0</th>\n",
       "      <td>201695012</td>\n",
       "      <td>2018-2019</td>\n",
       "      <td>1</td>\n",
       "      <td>70.700000</td>\n",
       "      <td>0</td>\n",
       "      <td>0</td>\n",
       "      <td>352</td>\n",
       "      <td>6110</td>\n",
       "      <td>2016</td>\n",
       "      <td>女</td>\n",
       "      <td>1.0</td>\n",
       "      <td>0.423889</td>\n",
       "      <td>0.096389</td>\n",
       "      <td>0.0</td>\n",
       "      <td>0.0</td>\n",
       "      <td>0.520278</td>\n",
       "      <td>0.103333</td>\n",
       "      <td>0.190556</td>\n",
       "      <td>0.177778</td>\n",
       "      <td>0.048611</td>\n",
       "      <td>0.000000</td>\n",
       "      <td>0.0</td>\n",
       "      <td>0.096389</td>\n",
       "      <td>0.000000</td>\n",
       "      <td>0.0</td>\n",
       "      <td>0.423889</td>\n",
       "      <td>0.0</td>\n",
       "    </tr>\n",
       "    <tr>\n",
       "      <th>1</th>\n",
       "      <td>201625017</td>\n",
       "      <td>2018-2019</td>\n",
       "      <td>1</td>\n",
       "      <td>86.384615</td>\n",
       "      <td>0</td>\n",
       "      <td>0</td>\n",
       "      <td>352</td>\n",
       "      <td>6110</td>\n",
       "      <td>2016</td>\n",
       "      <td>男</td>\n",
       "      <td>1.0</td>\n",
       "      <td>9.136111</td>\n",
       "      <td>0.000000</td>\n",
       "      <td>0.0</td>\n",
       "      <td>0.0</td>\n",
       "      <td>9.136111</td>\n",
       "      <td>0.000000</td>\n",
       "      <td>3.105556</td>\n",
       "      <td>6.030556</td>\n",
       "      <td>0.000000</td>\n",
       "      <td>1.474722</td>\n",
       "      <td>0.0</td>\n",
       "      <td>0.000000</td>\n",
       "      <td>5.623333</td>\n",
       "      <td>0.0</td>\n",
       "      <td>2.038056</td>\n",
       "      <td>0.0</td>\n",
       "    </tr>\n",
       "  </tbody>\n",
       "</table>\n",
       "</div>"
      ],
      "text/plain": [
       "          xh         xn  xq  avg_score  fail_count fail faculty specialty  \\\n",
       "0  201695012  2018-2019   1  70.700000           0    0     352      6110   \n",
       "1  201625017  2018-2019   1  86.384615           0    0     352      6110   \n",
       "\n",
       "   sznj sex  nation  game_time  vedio_time  live_time  vine_time  total_time  \\\n",
       "0  2016   女     1.0   0.423889    0.096389        0.0        0.0    0.520278   \n",
       "1  2016   男     1.0   9.136111    0.000000        0.0        0.0    9.136111   \n",
       "\n",
       "   mor_count  aft_count  eve_count  nig_count       Sun  Mon       Tue  \\\n",
       "0   0.103333   0.190556   0.177778   0.048611  0.000000  0.0  0.096389   \n",
       "1   0.000000   3.105556   6.030556   0.000000  1.474722  0.0  0.000000   \n",
       "\n",
       "        Wed  Thu       Fri  Sat  \n",
       "0  0.000000  0.0  0.423889  0.0  \n",
       "1  5.623333  0.0  2.038056  0.0  "
      ]
     },
     "execution_count": 156,
     "metadata": {},
     "output_type": "execute_result"
    }
   ],
   "source": [
    "df.head(2)"
   ]
  },
  {
   "cell_type": "code",
   "execution_count": 157,
   "metadata": {
    "collapsed": true
   },
   "outputs": [],
   "source": [
    "dataset = df.copy()\n",
    "sex = pd.get_dummies(dataset['sex'],prefix='sex')\n",
    "dataset = dataset.join(sex)\n",
    "dataset.drop(columns=['sex'],inplace=True)\n",
    "X = dataset[['xq','total_time','nig_count','Tue']].values\n",
    "y = dataset[['fail']].values.ravel()"
   ]
  },
  {
   "cell_type": "code",
   "execution_count": null,
   "metadata": {
    "collapsed": true
   },
   "outputs": [],
   "source": [
    "# 特征选择\n",
    "from sklearn.feature_selection import SelectKBest # 移除topK外的特征\n",
    "from sklearn.feature_selection import chi2        # 卡方检验\n",
    "\n",
    "skb = SelectKBest(chi2,k=2)\n",
    "new_data = skb.fit_transform(X,y)"
   ]
  },
  {
   "cell_type": "code",
   "execution_count": null,
   "metadata": {
    "collapsed": true
   },
   "outputs": [],
   "source": [
    "new_data"
   ]
  },
  {
   "cell_type": "code",
   "execution_count": null,
   "metadata": {
    "collapsed": true
   },
   "outputs": [],
   "source": [
    "from sklearn.svm import SVC\n",
    "svc = SVC(kernel='linear')\n",
    "from sklearn.model_selection import StratifiedKFold\n",
    "from sklearn.feature_selection import RFECV\n",
    "rfecv = RFECV(estimator = svc,         # 学习器\n",
    "              step = 1,                # 每次迭代移除特征个数\n",
    "              cv = StratifiedKFold(2), # 交叉验证次数\n",
    "              scoring =  'accuracy',   # 学习器的评价标准\n",
    "              verbose = 1,            # 默认为0，不显式中间过程，1显示\n",
    "              n_jobs = 3).fit(X,y)             # 默认不使用并行计算，单核计算\n",
    "\n",
    "print(\"RFECV特征选择结果——————————————————————\")\n",
    "print(\"有效特征个数：%d\" % rfecv.n_features_)\n",
    "print('全部特征等级：%s' % list(rfecv.ranking_))"
   ]
  },
  {
   "cell_type": "code",
   "execution_count": null,
   "metadata": {
    "collapsed": true
   },
   "outputs": [],
   "source": [
    "X_RFECV = rfecv.transform(x.reshape(-1,1))"
   ]
  },
  {
   "cell_type": "code",
   "execution_count": null,
   "metadata": {
    "collapsed": true
   },
   "outputs": [],
   "source": [
    "from sklearn.model_selection import train_test_split\n",
    "X_train,X_test,y_train,y_test = train_test_split(X,y,random_state=28,test_size=0.25,train_size=0.75)\n",
    "svc_test = SVC(kernel='linear').fit(X_train,y_train)\n",
    "print(\"score:\",svc_test.score(X_test,y_test))"
   ]
  },
  {
   "cell_type": "code",
   "execution_count": null,
   "metadata": {
    "collapsed": true
   },
   "outputs": [],
   "source": [
    "dataset = df.copy()\n",
    "sex = pd.get_dummies(dataset['sex'],prefix='sex')\n",
    "dataset = dataset.join(sex)\n",
    "dataset.drop(columns=['sex'],inplace=True)\n",
    "X = dataset[['xq','avg_score','sznj','total_time','aft_count','nig_count','Tue','Fri','Sun','Sat']]\n",
    "y = dataset[['fail']].values.ravel()\n",
    "\n",
    "from sklearn.svm import SVC\n",
    "svc = SVC(kernel='linear')\n",
    "from sklearn.model_selection import StratifiedKFold\n",
    "from sklearn.feature_selection import RFECV\n",
    "rfecv = RFECV(estimator = svc,         # 学习器\n",
    "              step = 1,                # 每次迭代移除特征个数\n",
    "              cv = StratifiedKFold(2), # 交叉验证次数\n",
    "              scoring =  'accuracy',   # 学习器的评价标准\n",
    "              verbose = 1,            # 默认为0，不显式中间过程，1显示\n",
    "              n_jobs = 1).fit(X,y)             # 默认不使用并行计算，单核计算\n",
    "X_RFECV = rfecv.transform(x)\n",
    "print(\"RFECV特征选择结果——————————————————————\")\n",
    "print(\"有效特征个数：%d\" % rfecv.n_features_)\n",
    "print('全部特征等级：%s' % list(rfecv.ranking_))"
   ]
  },
  {
   "cell_type": "markdown",
   "metadata": {},
   "source": [
    "**简单朴素贝叶斯**"
   ]
  },
  {
   "cell_type": "code",
   "execution_count": 158,
   "metadata": {
    "collapsed": true
   },
   "outputs": [],
   "source": [
    "sex = pd.get_dummies(df['sex'],prefix='sex')\n",
    "data = df.drop(columns=['sex'],axis=1)\n",
    "data = data.join(sex)"
   ]
  },
  {
   "cell_type": "code",
   "execution_count": 171,
   "metadata": {
    "scrolled": true
   },
   "outputs": [
    {
     "name": "stdout",
     "output_type": "stream",
     "text": [
      "朴素贝叶斯建模0.05秒\n",
      "朴素贝叶斯的log损失为:0.526948\n"
     ]
    }
   ],
   "source": [
    "import numpy as np\n",
    "from sklearn.metrics import log_loss\n",
    "from sklearn.model_selection import train_test_split\n",
    "from sklearn.naive_bayes import BernoulliNB\n",
    "import time\n",
    "\n",
    "features = ['xh','avg_score','sex_男','sex_女','faculty','sznj','total_time','aft_count','eve_count','nig_count','Sun','Mon','Thu','Wed','Thu','Fri','Sat']\n",
    "X_train,X_test,y_train,y_test = train_test_split(data[features].values,data['fail'].values.ravel(),train_size= 0.8,test_size=0.2,random_state=28)\n",
    "NB = BernoulliNB()\n",
    "nbStart= time.time()\n",
    "clf = NB.fit(X_train,y_train)\n",
    "y_predict = clf.predict(X_test)\n",
    "nbCostTime = time.time() - nbStart\n",
    "propa = NB.predict_proba(X_test)\n",
    "print('朴素贝叶斯建模%.2f秒'%(nbCostTime))\n",
    "predicted = np.array(propa)\n",
    "logLoss=log_loss(y_test,predicted)\n",
    "print(\"朴素贝叶斯的log损失为:%.6f\"%logLoss)"
   ]
  },
  {
   "cell_type": "code",
   "execution_count": 164,
   "metadata": {},
   "outputs": [
    {
     "name": "stdout",
     "output_type": "stream",
     "text": [
      "0.7678929765886288\n"
     ]
    }
   ],
   "source": [
    "from sklearn.metrics import accuracy_score\n",
    "print(accuracy_score(y_test,clf.predict(X_test)))"
   ]
  },
  {
   "cell_type": "code",
   "execution_count": null,
   "metadata": {
    "collapsed": true
   },
   "outputs": [],
   "source": [
    "from sklearn.svm import SVC\n",
    "from sklearn.metrics import accuracy_score\n",
    "features = ['xh','avg_score','sex_男','sex_女','faculty','sznj','total_time','aft_count','eve_count','nig_count','Sun','Mon','Thu','Wed','Thu','Fri','Sat']\n",
    "X_train,X_test,y_train,y_test = train_test_split(data[features].values,data['fail'].values.ravel(),train_size= 0.8,test_size=0.2,random_state=28)\n",
    "svm = SVC(C=1,kernel='linear')\n",
    "svm.fit(X_train,y_train)\n",
    "print(accuracy_score(y_test,svm.predict(x_test)))"
   ]
  },
  {
   "cell_type": "markdown",
   "metadata": {},
   "source": [
    "## PCA - KNN"
   ]
  },
  {
   "cell_type": "code",
   "execution_count": 131,
   "metadata": {},
   "outputs": [
    {
     "data": {
      "text/plain": [
       "0.9207920792079208"
      ]
     },
     "execution_count": 131,
     "metadata": {},
     "output_type": "execute_result"
    }
   ],
   "source": [
    "import numpy as np  \n",
    "import matplotlib.pyplot as plt  \n",
    "\n",
    "dataset = df.copy()\n",
    "sex = pd.get_dummies(dataset['sex'],prefix='sex')\n",
    "xn = pd.get_dummies(dataset['xn'],'xn')\n",
    "\n",
    "dataset = dataset.join(sex)\n",
    "dataset = dataset.join(xn)\n",
    "dataset.drop(columns=['sex','xn'],inplace=True)\n",
    "x = dataset[['xn_2018-2019','xn_2017-2018','avg_score','xq','sznj','total_time','sex_男','sex_女','aft_count','nig_count','Tue','Fri','Sun','Sat']].values\n",
    "y = dataset[['fail']].values.ravel()\n",
    "\n",
    "\n",
    "from sklearn.model_selection import train_test_split #这里依然需要区分测试数据集和测试数据集\n",
    "x_train,x_test,y_train,y_test = train_test_split(x,y,random_state = 666)\n",
    "from sklearn.neighbors import KNeighborsClassifier \n",
    "knn = KNeighborsClassifier()\n",
    "knn.fit(x_train,y_train)\n",
    "knn.score(x_test,y_test)"
   ]
  },
  {
   "cell_type": "code",
   "execution_count": 132,
   "metadata": {},
   "outputs": [
    {
     "data": {
      "text/plain": [
       "0.9143698153599144"
      ]
     },
     "execution_count": 132,
     "metadata": {},
     "output_type": "execute_result"
    }
   ],
   "source": [
    "from sklearn.decomposition import PCA\n",
    "pca = PCA(n_components=2)\n",
    "pca.fit(x_train)\n",
    "x_train_reduction = pca.transform(x_train)\n",
    "x_test_reduction = pca.transform(x_test)#测试数据集也必须降维\n",
    "knn = KNeighborsClassifier()\n",
    "knn.fit(x_train_reduction,y_train)\n",
    "knn.score(x_test_reduction,y_test)"
   ]
  },
  {
   "cell_type": "code",
   "execution_count": 133,
   "metadata": {},
   "outputs": [
    {
     "data": {
      "text/plain": [
       "array([7.34844590e-01, 2.25566863e-01, 1.52107767e-02, 6.86407045e-03,\n",
       "       5.65623976e-03, 3.97037511e-03, 3.54980496e-03, 2.25192722e-03,\n",
       "       1.47914238e-03, 4.32400628e-04, 1.57134963e-04, 1.66750963e-05,\n",
       "       1.61763131e-34, 2.38189252e-35])"
      ]
     },
     "execution_count": 133,
     "metadata": {},
     "output_type": "execute_result"
    }
   ],
   "source": [
    "pca = PCA(n_components=x_train.shape[1]) #保留所有的维度\n",
    "pca.fit(x_train)\n",
    "pca.explained_variance_ratio_"
   ]
  },
  {
   "cell_type": "code",
   "execution_count": 134,
   "metadata": {},
   "outputs": [
    {
     "data": {
      "image/png": "[encoded data removed]",
      "text/plain": [
       "<Figure size 432x288 with 1 Axes>"
      ]
     },
     "metadata": {
      "needs_background": "light"
     },
     "output_type": "display_data"
    }
   ],
   "source": [
    "plt.plot([i for i in range(x_train.shape[1])],[np.sum(pca.explained_variance_ratio_[:i+1]) for i in range(x_train.shape[1])])\n",
    "plt.show()"
   ]
  },
  {
   "cell_type": "code",
   "execution_count": 135,
   "metadata": {},
   "outputs": [
    {
     "data": {
      "text/plain": [
       "2"
      ]
     },
     "execution_count": 135,
     "metadata": {},
     "output_type": "execute_result"
    }
   ],
   "source": [
    "pca = PCA(0.96) #传入的参数为0.96，代表保留的百分之96的信息\n",
    "pca.fit(x_train)\n",
    "pca.n_components_  #结果为2"
   ]
  },
  {
   "cell_type": "code",
   "execution_count": 136,
   "metadata": {},
   "outputs": [
    {
     "data": {
      "text/plain": [
       "0.9143698153599144"
      ]
     },
     "execution_count": 136,
     "metadata": {},
     "output_type": "execute_result"
    }
   ],
   "source": [
    "x_train_reduction = pca.transform(x_train)\n",
    "x_test_reduction = pca .transform(x_test)\n",
    "knn = KNeighborsClassifier()\n",
    "knn.fit(x_train_reduction,y_train)\n",
    "knn.score(x_test_reduction,y_test)"
   ]
  },
  {
   "cell_type": "code",
   "execution_count": null,
   "metadata": {
    "collapsed": true
   },
   "outputs": [],
   "source": [
    "### 混淆矩阵\n",
    "#from sklearn.metrics import confusion_matrix\n",
    "#confusion_matrix(y_test, y_predict)\n",
    "from sklearn.metrics import precision_recall_curve\n",
    "from sklearn.metrics import classification_report\n",
    "precision, recall, thresholds = precision_recall_curve(y_test, clf.predict(X_test))\n",
    "answer = clf.predict_proba(X_test)[:,1]\n",
    "report = answer > 0.5\n",
    "print(classification_report(y_test, report, target_names = ['neg', 'pos']))"
   ]
  },
  {
   "cell_type": "code",
   "execution_count": null,
   "metadata": {
    "collapsed": true
   },
   "outputs": [],
   "source": [
    "rate.corr()"
   ]
  },
  {
   "cell_type": "markdown",
   "metadata": {},
   "source": [
    "考虑挂过科之后是否会继续挂科？"
   ]
  },
  {
   "cell_type": "markdown",
   "metadata": {},
   "source": [
    "### 现在大概的想法是：\n",
    "- 男女在大学期间受到网络行为的影响差异\n",
    "- 男生女生之间挂科的比例，然后是挂科之后是否会再次挂科，男女生的熬夜比例\n",
    "- 根据网络行为提出挂科预警，指导男女生的心理建设和学习建设\n",
    "- 网络时长、熬夜对男女生均分的影响，在70分以下的"
   ]
  },
  {
   "cell_type": "code",
   "execution_count": null,
   "metadata": {
    "collapsed": true
   },
   "outputs": [],
   "source": [
    "result.head(3)"
   ]
  },
  {
   "cell_type": "code",
   "execution_count": null,
   "metadata": {
    "collapsed": true,
    "scrolled": true
   },
   "outputs": [],
   "source": [
    "result['nig_count'].describe()"
   ]
  },
  {
   "cell_type": "code",
   "execution_count": null,
   "metadata": {
    "collapsed": true
   },
   "outputs": [],
   "source": [
    "result['stay_up'] = result['nig_count'].apply(lambda x:1 if x>6 else 0)"
   ]
  },
  {
   "cell_type": "code",
   "execution_count": null,
   "metadata": {
    "collapsed": true,
    "scrolled": true
   },
   "outputs": [],
   "source": [
    "result.groupby(['sex'])['stay_up'].sum()"
   ]
  },
  {
   "cell_type": "code",
   "execution_count": null,
   "metadata": {
    "collapsed": true,
    "scrolled": false
   },
   "outputs": [],
   "source": [
    "result['sex'].value_counts()"
   ]
  },
  {
   "cell_type": "code",
   "execution_count": null,
   "metadata": {
    "collapsed": true
   },
   "outputs": [],
   "source": [
    "men = result[result['sex']==1]\n",
    "women = result[result['sex']==0]"
   ]
  },
  {
   "cell_type": "markdown",
   "metadata": {},
   "source": [
    "男女晚上熬夜的比例"
   ]
  },
  {
   "cell_type": "code",
   "execution_count": null,
   "metadata": {
    "collapsed": true
   },
   "outputs": [],
   "source": [
    "# 经常晚上访问网络的比例\n",
    "men_stp = 3700/len(men)\n",
    "women_stp = 556/len(women)"
   ]
  },
  {
   "cell_type": "code",
   "execution_count": null,
   "metadata": {
    "collapsed": true
   },
   "outputs": [],
   "source": [
    "men_stp # men"
   ]
  },
  {
   "cell_type": "code",
   "execution_count": null,
   "metadata": {
    "collapsed": true
   },
   "outputs": [],
   "source": [
    "women_stp # women"
   ]
  },
  {
   "cell_type": "markdown",
   "metadata": {},
   "source": [
    "男女网络各种娱乐的时间"
   ]
  },
  {
   "cell_type": "code",
   "execution_count": null,
   "metadata": {
    "collapsed": true,
    "scrolled": true
   },
   "outputs": [],
   "source": [
    "men['game_time'].describe()"
   ]
  },
  {
   "cell_type": "code",
   "execution_count": null,
   "metadata": {
    "collapsed": true,
    "scrolled": true
   },
   "outputs": [],
   "source": [
    "men.describe()"
   ]
  },
  {
   "cell_type": "code",
   "execution_count": null,
   "metadata": {
    "collapsed": true
   },
   "outputs": [],
   "source": [
    "7*4*5"
   ]
  },
  {
   "cell_type": "code",
   "execution_count": null,
   "metadata": {
    "collapsed": true,
    "scrolled": true
   },
   "outputs": [],
   "source": [
    "men_game = men[men['total_time']>110]\n",
    "men_game.shape[0]"
   ]
  },
  {
   "cell_type": "code",
   "execution_count": null,
   "metadata": {
    "collapsed": true,
    "scrolled": true
   },
   "outputs": [],
   "source": [
    "men_game['fail_time'].describe()"
   ]
  },
  {
   "cell_type": "markdown",
   "metadata": {},
   "source": [
    "总时长超过110的人中，挂科的比例有多少"
   ]
  },
  {
   "cell_type": "code",
   "execution_count": null,
   "metadata": {
    "collapsed": true
   },
   "outputs": [],
   "source": [
    "len(men_game[men_game['fail']==1])/len(men_game)"
   ]
  },
  {
   "cell_type": "markdown",
   "metadata": {},
   "source": [
    "一学期挂三科基本可以收到学业警告了"
   ]
  },
  {
   "cell_type": "code",
   "execution_count": null,
   "metadata": {
    "collapsed": true
   },
   "outputs": [],
   "source": [
    "men_game_fail = men_game[men_game['fail_time']>=3]"
   ]
  },
  {
   "cell_type": "code",
   "execution_count": null,
   "metadata": {
    "collapsed": true,
    "scrolled": true
   },
   "outputs": [],
   "source": [
    "men_game_fail.shape[0]"
   ]
  },
  {
   "cell_type": "code",
   "execution_count": null,
   "metadata": {
    "collapsed": true
   },
   "outputs": [],
   "source": [
    "25/(97*men_f)"
   ]
  },
  {
   "cell_type": "markdown",
   "metadata": {},
   "source": [
    "**在网络行为超过110小时有44%的男生挂科了，挂科的男生中收到学业警告的比例为95.4%**"
   ]
  },
  {
   "cell_type": "markdown",
   "metadata": {},
   "source": [
    "挂科之后再挂科的概率会不会变得更高"
   ]
  },
  {
   "cell_type": "code",
   "execution_count": null,
   "metadata": {
    "collapsed": true,
    "scrolled": true
   },
   "outputs": [],
   "source": [
    "score.head(3)"
   ]
  },
  {
   "cell_type": "code",
   "execution_count": null,
   "metadata": {
    "collapsed": true,
    "scrolled": true
   },
   "outputs": [],
   "source": [
    "Y = result['fail']\n",
    "X = result['game_time']\n",
    "plt.scatter(X,Y)\n",
    "plt.show()"
   ]
  },
  {
   "cell_type": "code",
   "execution_count": null,
   "metadata": {
    "collapsed": true
   },
   "outputs": [],
   "source": [
    "roll = pd.read_csv('roll.csv')\n",
    "roll.head(3)"
   ]
  },
  {
   "cell_type": "code",
   "execution_count": null,
   "metadata": {
    "collapsed": true
   },
   "outputs": [],
   "source": [
    "std_info = pd.merge(score,roll,on=['xh'],how='left')"
   ]
  },
  {
   "cell_type": "code",
   "execution_count": null,
   "metadata": {
    "collapsed": true
   },
   "outputs": [],
   "source": [
    "std_info.isnull().sum()"
   ]
  },
  {
   "cell_type": "code",
   "execution_count": null,
   "metadata": {
    "collapsed": true,
    "scrolled": true
   },
   "outputs": [],
   "source": [
    "std_info.head()"
   ]
  },
  {
   "cell_type": "code",
   "execution_count": null,
   "metadata": {
    "collapsed": true
   },
   "outputs": [],
   "source": [
    "std_info['yxsh'].value_counts()"
   ]
  },
  {
   "cell_type": "code",
   "execution_count": null,
   "metadata": {
    "collapsed": true
   },
   "outputs": [],
   "source": [
    "std_info['fail'] = std_info['fail_time'].apply(lambda x:1 if x>0 else 0)"
   ]
  },
  {
   "cell_type": "code",
   "execution_count": null,
   "metadata": {
    "collapsed": true
   },
   "outputs": [],
   "source": [
    "std_group = std_info.groupby(['yxsh'])[['fail']].sum()\n",
    "std_group.head(3)"
   ]
  },
  {
   "cell_type": "code",
   "execution_count": null,
   "metadata": {
    "collapsed": true
   },
   "outputs": [],
   "source": [
    "std_group.describe()"
   ]
  },
  {
   "cell_type": "code",
   "execution_count": null,
   "metadata": {
    "collapsed": true
   },
   "outputs": [],
   "source": [
    "# 构建均值漂移聚类模型\n",
    "from sklearn.cluster import MeanShift, estimate_bandwidth\n",
    "bandwidth=estimate_bandwidth(dataset,quantile=0.8,\n",
    "                             n_samples=len(dataset))\n",
    "meanshift=MeanShift(bandwidth=bandwidth,bin_seeding=True)\n",
    "meanshift.fit(dataset) # 使用评估的带宽构建均值漂移模型，并进行训练\n",
    "labels=meanshift.labels_\n",
    "cluster_num=len(np.unique(labels))\n",
    "centroids=meanshift.cluster_centers_\n",
    "# 下面打印出簇群种类，和质心位置信息\n",
    "print('Number of Clusters: {}'.format(cluster_num))\n",
    "print('\\t'.join([col_name[:5] for col_name in col_names]))\n",
    "for centroid in centroids:\n",
    "    print('\\t'.join(str(int(x)) for x in centroid))"
   ]
  }
 ],
 "metadata": {
  "kernelspec": {
   "display_name": "Python 3",
   "language": "python",
   "name": "python3"
  },
  "language_info": {
   "codemirror_mode": {
    "name": "ipython",
    "version": 3
   },
   "file_extension": ".py",
   "mimetype": "text/x-python",
   "name": "python",
   "nbconvert_exporter": "python",
   "pygments_lexer": "ipython3",
   "version": "3.7.3"
  }
 },
 "nbformat": 4,
 "nbformat_minor": 2
}
